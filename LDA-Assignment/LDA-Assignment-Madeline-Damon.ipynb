{
 "cells": [
  {
   "cell_type": "markdown",
   "metadata": {},
   "source": [
    "# Latent Direchlet Allocation Practice\n",
    "\n",
    "To practice topic modeling, I will be using some different genres from the Brown Corpus. I will run different LDA models in order to identify an ideal combination of topics and passes in order to find the most related words."
   ]
  },
  {
   "cell_type": "code",
   "execution_count": 1,
   "metadata": {},
   "outputs": [],
   "source": [
    "import nltk\n",
    "from nltk.corpus import brown\n",
    "from nltk.corpus import stopwords\n",
    "\n",
    "import numpy as np\n",
    "import pandas as pd\n",
    "\n",
    "import gensim\n",
    "import gensim.corpora as corpora\n",
    "from gensim.utils import simple_preprocess\n",
    "from gensim.models import CoherenceModel\n",
    "\n",
    "import pyLDAvis\n",
    "import pyLDAvis.gensim\n",
    "\n",
    "import spacy\n",
    "from spacy.lemmatizer import Lemmatizer\n",
    "from spacy.lang.en.stop_words import STOP_WORDS\n",
    "\n",
    "from pprint import pprint\n",
    "from collections import Counter, defaultdict\n",
    "\n",
    "nlp = spacy.load('en_core_web_sm')\n",
    "sw = stopwords.words(\"english\")"
   ]
  },
  {
   "cell_type": "code",
   "execution_count": 2,
   "metadata": {},
   "outputs": [],
   "source": [
    "# Some functions we'll use later in the topic modeling.\n",
    "\n",
    "def lemmatizer(doc):\n",
    "    # This takes in a doc of tokens from the NER and lemmatizes them. \n",
    "    # Pronouns (like \"I\" and \"you\" get lemmatized to '-PRON-', so I'm removing those.\n",
    "    doc = [token.lemma_ for token in doc if token.lemma_ != '-PRON-']\n",
    "    doc = u' '.join(doc)\n",
    "    return nlp.make_doc(doc)\n",
    "    \n",
    "def remove_stopwords(doc):\n",
    "    # This will remove stopwords and punctuation.\n",
    "    # Use token.text to return strings, which we'll need for Gensim.\n",
    "    doc = [token.text for token in doc if token.is_stop != True and token.is_punct != True]\n",
    "    return doc"
   ]
  },
  {
   "cell_type": "markdown",
   "metadata": {},
   "source": [
    "I am choosing categories of articles to make up my corpus based on the Brown corpus. I am interested in looking at 'science_fiction', 'humor', 'mystery', and 'lore'. I might expect four distinct grouping based on each genre, or words from 'mystery' and 'lore' could end up together based on similar topics."
   ]
  },
  {
   "cell_type": "code",
   "execution_count": 3,
   "metadata": {},
   "outputs": [
    {
     "name": "stdout",
     "output_type": "stream",
     "text": [
      "['adventure', 'belles_lettres', 'editorial', 'fiction', 'government', 'hobbies', 'humor', 'learned', 'lore', 'mystery', 'news', 'religion', 'reviews', 'romance', 'science_fiction']\n"
     ]
    }
   ],
   "source": [
    "# All categories of articles in Brown corpus. I will use humor, science fiction, mystery, and lore\n",
    "print(brown.categories())"
   ]
  },
  {
   "cell_type": "code",
   "execution_count": 4,
   "metadata": {},
   "outputs": [
    {
     "name": "stdout",
     "output_type": "stream",
     "text": [
      "We have 87 documents.\n"
     ]
    }
   ],
   "source": [
    "##Pulling just the documents I want and storing them in a new list\n",
    "\n",
    "for_modeling = []\n",
    "\n",
    "for category in ['science_fiction','mystery','lore','humor'] :\n",
    "    for file_id in brown.fileids(categories=category) :\n",
    "        text = brown.words(fileids=file_id)\n",
    "        for_modeling.append(\" \".join(text))\n",
    "        \n",
    "print(f\"We have {len(for_modeling)} documents.\")"
   ]
  },
  {
   "cell_type": "code",
   "execution_count": 5,
   "metadata": {},
   "outputs": [],
   "source": [
    "# Iterates over the words in the stop words list and resets the \"is_stop\" flag.\n",
    "for word in STOP_WORDS:\n",
    "    lexeme = nlp.vocab[word]\n",
    "    lexeme.is_stop = True"
   ]
  },
  {
   "cell_type": "code",
   "execution_count": 6,
   "metadata": {},
   "outputs": [],
   "source": [
    "# The add_pipe function appends our functions to the default pipeline.\n",
    "nlp.add_pipe(lemmatizer,name='lemmatizer',after='ner')\n",
    "nlp.add_pipe(remove_stopwords, name=\"stopwords\", last=True)"
   ]
  },
  {
   "cell_type": "code",
   "execution_count": 7,
   "metadata": {},
   "outputs": [],
   "source": [
    "doc_list = []\n",
    "\n",
    "# Iterates through each article in the corpus.\n",
    "for doc in for_modeling :\n",
    "    # Passes that article through the pipeline and adds to a new list.\n",
    "    pr = nlp(doc)\n",
    "    doc_list.append([t.lower() for t in pr if t.isalpha()])"
   ]
  },
  {
   "cell_type": "code",
   "execution_count": 8,
   "metadata": {},
   "outputs": [],
   "source": [
    "# Create a mapping of word IDs to words.\n",
    "words = corpora.Dictionary(doc_list)\n",
    "\n",
    "# Turns each document into a bag of words.\n",
    "corpus = [words.doc2bow(doc) for doc in doc_list]"
   ]
  },
  {
   "cell_type": "markdown",
   "metadata": {},
   "source": [
    "Now I am going to start fitting the model with different numbers of topics and passes to see which combination results in groupings of words that seem like they have things in common."
   ]
  },
  {
   "cell_type": "markdown",
   "metadata": {},
   "source": [
    "# Attempt 1: 4 topics, 15 passes"
   ]
  },
  {
   "cell_type": "code",
   "execution_count": 9,
   "metadata": {},
   "outputs": [],
   "source": [
    "##Fitting the model\n",
    "\n",
    "lda_model = gensim.models.ldamodel.LdaModel(corpus=corpus,\n",
    "                                           id2word=words,\n",
    "                                           num_topics=4, #First I want to see if LDA can group by genre \n",
    "                                           random_state=2,\n",
    "                                           update_every=1,\n",
    "                                           passes=15, #Start out seeing if 15 passes will get me to where I want\n",
    "                                           alpha='auto',\n",
    "                                           per_word_topics=True)"
   ]
  },
  {
   "cell_type": "code",
   "execution_count": 10,
   "metadata": {},
   "outputs": [
    {
     "name": "stdout",
     "output_type": "stream",
     "text": [
      "[(0,\n",
      "  '0.005*\"use\" + 0.004*\"time\" + 0.004*\"seed\" + 0.004*\"wife\" + 0.003*\"husband\" '\n",
      "  '+ 0.003*\"school\" + 0.003*\"oil\" + 0.003*\"college\" + 0.003*\"roberts\" + '\n",
      "  '0.003*\"come\" + 0.003*\"work\" + 0.002*\"helva\" + 0.002*\"jewish\" + 0.002*\"long\" '\n",
      "  '+ 0.002*\"good\"'),\n",
      " (1,\n",
      "  '0.006*\"man\" + 0.006*\"know\" + 0.005*\"come\" + 0.005*\"time\" + 0.005*\"like\" + '\n",
      "  '0.004*\"year\" + 0.004*\"tell\" + 0.004*\"look\" + 0.003*\"think\" + 0.003*\"school\" '\n",
      "  '+ 0.003*\"car\" + 0.003*\"work\" + 0.003*\"day\" + 0.003*\"old\" + 0.003*\"want\"'),\n",
      " (2,\n",
      "  '0.004*\"good\" + 0.004*\"man\" + 0.004*\"time\" + 0.004*\"new\" + 0.004*\"wine\" + '\n",
      "  '0.003*\"know\" + 0.003*\"world\" + 0.003*\"like\" + 0.002*\"church\" + 0.002*\"year\" '\n",
      "  '+ 0.002*\"way\" + 0.002*\"trade\" + 0.002*\"red\" + 0.002*\"people\" + '\n",
      "  '0.002*\"come\"'),\n",
      " (3,\n",
      "  '0.005*\"time\" + 0.005*\"know\" + 0.004*\"man\" + 0.004*\"like\" + 0.004*\"people\" + '\n",
      "  '0.003*\"come\" + 0.003*\"think\" + 0.003*\"day\" + 0.003*\"tell\" + 0.003*\"find\" + '\n",
      "  '0.003*\"use\" + 0.002*\"long\" + 0.002*\"way\" + 0.002*\"year\" + 0.002*\"little\"')]\n"
     ]
    }
   ],
   "source": [
    "pprint(lda_model.print_topics(num_words=15))"
   ]
  },
  {
   "cell_type": "markdown",
   "metadata": {},
   "source": [
    "The first time trying the LDA model with number of topics as 4 and passes as 15, the word lists for each category seem pretty similar. Words like 'time' and 'man' appear in more than one cateogory. Therefore, I am re-running the model with a much larger number of passes to try and increase the relatedness of words in each category"
   ]
  },
  {
   "cell_type": "markdown",
   "metadata": {},
   "source": [
    "# Attempt 2: 4 topics, 50 passes"
   ]
  },
  {
   "cell_type": "code",
   "execution_count": 11,
   "metadata": {},
   "outputs": [],
   "source": [
    "##Fitting the model\n",
    "\n",
    "lda_model = gensim.models.ldamodel.LdaModel(corpus=corpus,\n",
    "                                           id2word=words,\n",
    "                                           num_topics=4, #First I want to see if LDA can group by genre \n",
    "                                           random_state=2,\n",
    "                                           update_every=1,\n",
    "                                           passes=50, #Start out seeing if 50 passes will get me to where I want\n",
    "                                           alpha='auto',\n",
    "                                           per_word_topics=True)"
   ]
  },
  {
   "cell_type": "code",
   "execution_count": 12,
   "metadata": {},
   "outputs": [
    {
     "name": "stdout",
     "output_type": "stream",
     "text": [
      "[(0,\n",
      "  '0.005*\"use\" + 0.004*\"seed\" + 0.004*\"wife\" + 0.004*\"time\" + 0.003*\"husband\" '\n",
      "  '+ 0.003*\"school\" + 0.003*\"oil\" + 0.003*\"college\" + 0.003*\"roberts\" + '\n",
      "  '0.003*\"helva\" + 0.003*\"jewish\" + 0.002*\"sexual\" + 0.002*\"girl\" + '\n",
      "  '0.002*\"work\" + 0.002*\"good\"'),\n",
      " (1,\n",
      "  '0.007*\"man\" + 0.006*\"know\" + 0.006*\"come\" + 0.005*\"time\" + 0.005*\"like\" + '\n",
      "  '0.004*\"look\" + 0.004*\"tell\" + 0.004*\"year\" + 0.004*\"think\" + 0.003*\"work\" + '\n",
      "  '0.003*\"want\" + 0.003*\"day\" + 0.003*\"find\" + 0.003*\"car\" + 0.003*\"way\"'),\n",
      " (2,\n",
      "  '0.004*\"good\" + 0.004*\"man\" + 0.004*\"wine\" + 0.004*\"new\" + 0.004*\"time\" + '\n",
      "  '0.003*\"church\" + 0.003*\"world\" + 0.003*\"know\" + 0.002*\"year\" + 0.002*\"way\" '\n",
      "  '+ 0.002*\"people\" + 0.002*\"trade\" + 0.002*\"red\" + 0.002*\"company\" + '\n",
      "  '0.002*\"state\"'),\n",
      " (3,\n",
      "  '0.005*\"time\" + 0.005*\"know\" + 0.004*\"man\" + 0.004*\"like\" + 0.004*\"people\" + '\n",
      "  '0.003*\"come\" + 0.003*\"day\" + 0.003*\"use\" + 0.003*\"find\" + 0.003*\"tell\" + '\n",
      "  '0.003*\"think\" + 0.002*\"long\" + 0.002*\"year\" + 0.002*\"great\" + 0.002*\"new\"')]\n"
     ]
    }
   ],
   "source": [
    "pprint(lda_model.print_topics(num_words=15))"
   ]
  },
  {
   "cell_type": "markdown",
   "metadata": {},
   "source": [
    "It's still hard to identify what kinds of categories the four topics might be based on. Some words still appear multiple times, and therefore it's hard to make distinctions between categories. Therefore, I will keep the amount of passes I have and try adjusting the amount of topics."
   ]
  },
  {
   "cell_type": "markdown",
   "metadata": {},
   "source": [
    "# Attempt 3: 3 topics, 50 passes"
   ]
  },
  {
   "cell_type": "code",
   "execution_count": 13,
   "metadata": {},
   "outputs": [],
   "source": [
    "##Fitting the model\n",
    "\n",
    "lda_model = gensim.models.ldamodel.LdaModel(corpus=corpus,\n",
    "                                           id2word=words,\n",
    "                                           num_topics=3, #Decreasing the amount of topics to 3\n",
    "                                           random_state=2,\n",
    "                                           update_every=1,\n",
    "                                           passes=50, #Start out seeing if 50 passes will get me to where I want\n",
    "                                           alpha='auto',\n",
    "                                           per_word_topics=True)"
   ]
  },
  {
   "cell_type": "code",
   "execution_count": 14,
   "metadata": {},
   "outputs": [
    {
     "name": "stdout",
     "output_type": "stream",
     "text": [
      "[(0,\n",
      "  '0.004*\"use\" + 0.004*\"wine\" + 0.003*\"come\" + 0.003*\"seed\" + 0.003*\"man\" + '\n",
      "  '0.003*\"good\" + 0.003*\"know\" + 0.003*\"time\" + 0.003*\"look\" + 0.002*\"head\" + '\n",
      "  '0.002*\"red\" + 0.002*\"like\" + 0.002*\"turn\" + 0.002*\"oil\" + 0.002*\"old\"'),\n",
      " (1,\n",
      "  '0.005*\"time\" + 0.005*\"man\" + 0.005*\"know\" + 0.005*\"come\" + 0.004*\"school\" + '\n",
      "  '0.004*\"like\" + 0.004*\"year\" + 0.003*\"work\" + 0.003*\"people\" + 0.003*\"find\" '\n",
      "  '+ 0.003*\"day\" + 0.003*\"good\" + 0.003*\"new\" + 0.003*\"use\" + 0.003*\"way\"'),\n",
      " (2,\n",
      "  '0.005*\"time\" + 0.005*\"man\" + 0.005*\"know\" + 0.004*\"like\" + 0.003*\"new\" + '\n",
      "  '0.003*\"think\" + 0.003*\"year\" + 0.003*\"come\" + 0.003*\"good\" + 0.003*\"tell\" + '\n",
      "  '0.002*\"find\" + 0.002*\"way\" + 0.002*\"long\" + 0.002*\"day\" + 0.002*\"people\"')]\n"
     ]
    }
   ],
   "source": [
    "pprint(lda_model.print_topics(num_words=15))"
   ]
  },
  {
   "cell_type": "markdown",
   "metadata": {},
   "source": [
    "# Attempt 4: 6 topics, 50 passes"
   ]
  },
  {
   "cell_type": "code",
   "execution_count": 15,
   "metadata": {},
   "outputs": [],
   "source": [
    "##Fitting the model\n",
    "\n",
    "lda_model = gensim.models.ldamodel.LdaModel(corpus=corpus,\n",
    "                                           id2word=words,\n",
    "                                           num_topics=6, #Setting topics to 6\n",
    "                                           random_state=2,\n",
    "                                           update_every=1,\n",
    "                                           passes=50, #Start out seeing if 50 passes will get me to where I want\n",
    "                                           alpha='auto',\n",
    "                                           per_word_topics=True)"
   ]
  },
  {
   "cell_type": "code",
   "execution_count": 16,
   "metadata": {},
   "outputs": [
    {
     "name": "stdout",
     "output_type": "stream",
     "text": [
      "[(0,\n",
      "  '0.008*\"wine\" + 0.006*\"seed\" + 0.005*\"wife\" + 0.005*\"use\" + 0.004*\"red\" + '\n",
      "  '0.004*\"oil\" + 0.004*\"husband\" + 0.004*\"good\" + 0.003*\"time\" + 0.003*\"man\" + '\n",
      "  '0.003*\"fort\" + 0.003*\"machine\" + 0.002*\"sexual\" + 0.002*\"madden\" + '\n",
      "  '0.002*\"marriage\"'),\n",
      " (1,\n",
      "  '0.006*\"man\" + 0.006*\"come\" + 0.006*\"know\" + 0.005*\"time\" + 0.005*\"year\" + '\n",
      "  '0.004*\"like\" + 0.004*\"school\" + 0.004*\"car\" + 0.004*\"tell\" + 0.003*\"think\" '\n",
      "  '+ 0.003*\"work\" + 0.003*\"old\" + 0.003*\"tooth\" + 0.003*\"day\" + 0.003*\"new\"'),\n",
      " (2,\n",
      "  '0.005*\"know\" + 0.004*\"time\" + 0.004*\"man\" + 0.004*\"like\" + 0.004*\"think\" + '\n",
      "  '0.003*\"new\" + 0.003*\"way\" + 0.003*\"little\" + 0.003*\"look\" + 0.003*\"thing\" + '\n",
      "  '0.003*\"good\" + 0.003*\"year\" + 0.002*\"come\" + 0.002*\"long\" + 0.002*\"find\"'),\n",
      " (3,\n",
      "  '0.005*\"know\" + 0.004*\"man\" + 0.004*\"like\" + 0.004*\"people\" + 0.004*\"church\" '\n",
      "  '+ 0.004*\"time\" + 0.003*\"come\" + 0.003*\"cattle\" + 0.003*\"use\" + 0.003*\"find\" '\n",
      "  '+ 0.003*\"write\" + 0.003*\"mean\" + 0.003*\"think\" + 0.002*\"long\" + '\n",
      "  '0.002*\"poet\"'),\n",
      " (4,\n",
      "  '0.007*\"time\" + 0.005*\"man\" + 0.004*\"like\" + 0.004*\"know\" + 0.003*\"come\" + '\n",
      "  '0.003*\"new\" + 0.003*\"day\" + 0.003*\"year\" + 0.003*\"life\" + 0.003*\"good\" + '\n",
      "  '0.003*\"people\" + 0.003*\"tell\" + 0.003*\"way\" + 0.003*\"find\" + 0.002*\"look\"'),\n",
      " (5,\n",
      "  '0.006*\"wave\" + 0.005*\"roberts\" + 0.005*\"helva\" + 0.004*\"foot\" + '\n",
      "  '0.004*\"trade\" + 0.004*\"use\" + 0.003*\"water\" + 0.003*\"tsunami\" + '\n",
      "  '0.003*\"time\" + 0.003*\"good\" + 0.003*\"mobile\" + 0.003*\"shell\" + 0.003*\"come\" '\n",
      "  '+ 0.002*\"find\" + 0.002*\"trader\"')]\n"
     ]
    }
   ],
   "source": [
    "pprint(lda_model.print_topics(num_words=15))"
   ]
  },
  {
   "cell_type": "markdown",
   "metadata": {},
   "source": [
    "Adjusting the number of topics and keeping the passes the same hasn't resulted in too many word groupings that seem similar. I am going to double the amount of passes and see if that changes anything."
   ]
  },
  {
   "cell_type": "markdown",
   "metadata": {},
   "source": [
    "# Attempt 5: 6 topics, 100 passes"
   ]
  },
  {
   "cell_type": "code",
   "execution_count": 17,
   "metadata": {},
   "outputs": [],
   "source": [
    "##Fitting the model\n",
    "\n",
    "lda_model = gensim.models.ldamodel.LdaModel(corpus=corpus,\n",
    "                                           id2word=words,\n",
    "                                           num_topics=6, \n",
    "                                           random_state=2,\n",
    "                                           update_every=1,\n",
    "                                           passes=100, \n",
    "                                           alpha='auto',\n",
    "                                           per_word_topics=True)"
   ]
  },
  {
   "cell_type": "code",
   "execution_count": 18,
   "metadata": {},
   "outputs": [
    {
     "name": "stdout",
     "output_type": "stream",
     "text": [
      "[(0,\n",
      "  '0.008*\"wine\" + 0.006*\"seed\" + 0.005*\"wife\" + 0.005*\"use\" + 0.004*\"red\" + '\n",
      "  '0.004*\"oil\" + 0.004*\"husband\" + 0.004*\"good\" + 0.003*\"time\" + 0.003*\"man\" + '\n",
      "  '0.003*\"fort\" + 0.003*\"machine\" + 0.002*\"sexual\" + 0.002*\"madden\" + '\n",
      "  '0.002*\"marriage\"'),\n",
      " (1,\n",
      "  '0.007*\"man\" + 0.006*\"come\" + 0.006*\"know\" + 0.005*\"time\" + 0.005*\"year\" + '\n",
      "  '0.004*\"like\" + 0.004*\"school\" + 0.004*\"car\" + 0.004*\"tell\" + 0.004*\"think\" '\n",
      "  '+ 0.003*\"work\" + 0.003*\"old\" + 0.003*\"tooth\" + 0.003*\"day\" + 0.003*\"look\"'),\n",
      " (2,\n",
      "  '0.005*\"know\" + 0.004*\"time\" + 0.004*\"man\" + 0.004*\"like\" + 0.004*\"think\" + '\n",
      "  '0.003*\"new\" + 0.003*\"way\" + 0.003*\"little\" + 0.003*\"look\" + 0.003*\"thing\" + '\n",
      "  '0.003*\"good\" + 0.002*\"year\" + 0.002*\"find\" + 0.002*\"long\" + 0.002*\"people\"'),\n",
      " (3,\n",
      "  '0.005*\"know\" + 0.004*\"man\" + 0.004*\"like\" + 0.004*\"people\" + 0.004*\"church\" '\n",
      "  '+ 0.004*\"time\" + 0.003*\"cattle\" + 0.003*\"come\" + 0.003*\"use\" + 0.003*\"find\" '\n",
      "  '+ 0.003*\"write\" + 0.003*\"mean\" + 0.003*\"think\" + 0.002*\"long\" + '\n",
      "  '0.002*\"poet\"'),\n",
      " (4,\n",
      "  '0.007*\"time\" + 0.005*\"man\" + 0.004*\"like\" + 0.004*\"know\" + 0.003*\"new\" + '\n",
      "  '0.003*\"come\" + 0.003*\"day\" + 0.003*\"year\" + 0.003*\"life\" + 0.003*\"good\" + '\n",
      "  '0.003*\"people\" + 0.003*\"way\" + 0.003*\"tell\" + 0.003*\"find\" + 0.002*\"great\"'),\n",
      " (5,\n",
      "  '0.006*\"wave\" + 0.005*\"roberts\" + 0.005*\"helva\" + 0.004*\"foot\" + '\n",
      "  '0.004*\"trade\" + 0.004*\"use\" + 0.003*\"water\" + 0.003*\"tsunami\" + '\n",
      "  '0.003*\"time\" + 0.003*\"good\" + 0.003*\"mobile\" + 0.003*\"shell\" + 0.003*\"come\" '\n",
      "  '+ 0.002*\"trader\" + 0.002*\"post\"')]\n"
     ]
    }
   ],
   "source": [
    "pprint(lda_model.print_topics(num_words=15))"
   ]
  },
  {
   "cell_type": "markdown",
   "metadata": {},
   "source": [
    "The topics seem to be getting better, with two topics looking pretty distinct: Topic 0 and 5. Topic 0 includes words like 'wine', 'wife', 'husband', 'sexual', and 'marriage'. Topic 5 includes words like 'wave', 'water', 'tsunami', and 'trader'."
   ]
  },
  {
   "cell_type": "markdown",
   "metadata": {},
   "source": [
    "# Attempt 6: 3 topics, 100 passes"
   ]
  },
  {
   "cell_type": "code",
   "execution_count": 19,
   "metadata": {},
   "outputs": [],
   "source": [
    "##Fitting the model\n",
    "\n",
    "lda_model = gensim.models.ldamodel.LdaModel(corpus=corpus,\n",
    "                                           id2word=words,\n",
    "                                           num_topics=3, \n",
    "                                           random_state=2,\n",
    "                                           update_every=1,\n",
    "                                           passes=100, \n",
    "                                           alpha='auto',\n",
    "                                           per_word_topics=True)"
   ]
  },
  {
   "cell_type": "code",
   "execution_count": 20,
   "metadata": {},
   "outputs": [
    {
     "name": "stdout",
     "output_type": "stream",
     "text": [
      "[(0,\n",
      "  '0.004*\"use\" + 0.004*\"wine\" + 0.003*\"come\" + 0.003*\"seed\" + 0.003*\"man\" + '\n",
      "  '0.003*\"good\" + 0.003*\"know\" + 0.003*\"time\" + 0.003*\"look\" + 0.002*\"head\" + '\n",
      "  '0.002*\"red\" + 0.002*\"like\" + 0.002*\"turn\" + 0.002*\"oil\" + 0.002*\"tell\"'),\n",
      " (1,\n",
      "  '0.005*\"time\" + 0.005*\"man\" + 0.005*\"know\" + 0.005*\"come\" + 0.004*\"school\" + '\n",
      "  '0.004*\"like\" + 0.004*\"year\" + 0.003*\"work\" + 0.003*\"people\" + 0.003*\"find\" '\n",
      "  '+ 0.003*\"day\" + 0.003*\"good\" + 0.003*\"new\" + 0.003*\"use\" + 0.003*\"way\"'),\n",
      " (2,\n",
      "  '0.005*\"time\" + 0.005*\"man\" + 0.005*\"know\" + 0.004*\"like\" + 0.003*\"new\" + '\n",
      "  '0.003*\"think\" + 0.003*\"year\" + 0.003*\"come\" + 0.003*\"good\" + 0.002*\"tell\" + '\n",
      "  '0.002*\"find\" + 0.002*\"way\" + 0.002*\"long\" + 0.002*\"day\" + 0.002*\"people\"')]\n"
     ]
    }
   ],
   "source": [
    "pprint(lda_model.print_topics(num_words=15))"
   ]
  },
  {
   "cell_type": "markdown",
   "metadata": {},
   "source": [
    "In Attempt #5, I used 6 topics and 100 passes. I saw that two of the topics had words that did seem pretty related, so I hoped dropping the topics down to three and keeping 100 passes would keep the words making up the categories the same, but they ended up getting changed."
   ]
  },
  {
   "cell_type": "markdown",
   "metadata": {},
   "source": [
    "# Attempt 7: 5 topics, 200 passes"
   ]
  },
  {
   "cell_type": "code",
   "execution_count": 21,
   "metadata": {},
   "outputs": [],
   "source": [
    "##Fitting the model\n",
    "\n",
    "lda_model = gensim.models.ldamodel.LdaModel(corpus=corpus,\n",
    "                                           id2word=words,\n",
    "                                           num_topics=5, \n",
    "                                           random_state=2,\n",
    "                                           update_every=1,\n",
    "                                           passes=200, \n",
    "                                           alpha='auto',\n",
    "                                           per_word_topics=True)"
   ]
  },
  {
   "cell_type": "code",
   "execution_count": 22,
   "metadata": {},
   "outputs": [
    {
     "name": "stdout",
     "output_type": "stream",
     "text": [
      "[(0,\n",
      "  '0.009*\"wine\" + 0.006*\"wife\" + 0.005*\"helva\" + 0.005*\"husband\" + '\n",
      "  '0.004*\"good\" + 0.003*\"time\" + 0.003*\"machine\" + 0.003*\"sexual\" + '\n",
      "  '0.003*\"marriage\" + 0.003*\"man\" + 0.003*\"jones\" + 0.003*\"old\" + '\n",
      "  '0.002*\"people\" + 0.002*\"shell\" + 0.002*\"quack\"'),\n",
      " (1,\n",
      "  '0.005*\"year\" + 0.005*\"school\" + 0.004*\"time\" + 0.004*\"tooth\" + 0.004*\"man\" '\n",
      "  '+ 0.004*\"work\" + 0.003*\"come\" + 0.003*\"know\" + 0.003*\"new\" + 0.003*\"like\" + '\n",
      "  '0.003*\"day\" + 0.003*\"tell\" + 0.002*\"think\" + 0.002*\"way\" + 0.002*\"high\"'),\n",
      " (2,\n",
      "  '0.005*\"time\" + 0.004*\"man\" + 0.004*\"new\" + 0.004*\"good\" + 0.003*\"year\" + '\n",
      "  '0.002*\"company\" + 0.002*\"film\" + 0.002*\"trade\" + 0.002*\"know\" + '\n",
      "  '0.002*\"general\" + 0.002*\"anti\" + 0.002*\"use\" + 0.002*\"state\" + 0.002*\"way\" '\n",
      "  '+ 0.002*\"river\"'),\n",
      " (3,\n",
      "  '0.007*\"know\" + 0.006*\"man\" + 0.005*\"like\" + 0.005*\"come\" + 0.005*\"time\" + '\n",
      "  '0.004*\"car\" + 0.004*\"think\" + 0.004*\"look\" + 0.003*\"tell\" + 0.003*\"want\" + '\n",
      "  '0.003*\"people\" + 0.003*\"turn\" + 0.003*\"leave\" + 0.003*\"right\" + '\n",
      "  '0.003*\"find\"'),\n",
      " (4,\n",
      "  '0.005*\"time\" + 0.005*\"man\" + 0.004*\"know\" + 0.004*\"like\" + 0.004*\"come\" + '\n",
      "  '0.004*\"use\" + 0.003*\"day\" + 0.003*\"year\" + 0.003*\"find\" + 0.003*\"new\" + '\n",
      "  '0.003*\"look\" + 0.003*\"old\" + 0.003*\"good\" + 0.003*\"tell\" + 0.003*\"way\"')]\n"
     ]
    }
   ],
   "source": [
    "pprint(lda_model.print_topics(num_words=15))"
   ]
  },
  {
   "cell_type": "markdown",
   "metadata": {},
   "source": [
    "# Attempt 8: 6 topics, 200 passes"
   ]
  },
  {
   "cell_type": "markdown",
   "metadata": {},
   "source": [
    "I decided to return to the use of 6 topics because it had given me the most related-seeming words in the past. I increased the passes to 200 to make sure the words in the results were as related as possible."
   ]
  },
  {
   "cell_type": "code",
   "execution_count": 23,
   "metadata": {},
   "outputs": [],
   "source": [
    "##Fitting the model\n",
    "\n",
    "lda_model = gensim.models.ldamodel.LdaModel(corpus=corpus,\n",
    "                                           id2word=words,\n",
    "                                           num_topics=6, \n",
    "                                           random_state=2,\n",
    "                                           update_every=1,\n",
    "                                           passes=200, \n",
    "                                           alpha='auto',\n",
    "                                           per_word_topics=True)"
   ]
  },
  {
   "cell_type": "code",
   "execution_count": 24,
   "metadata": {},
   "outputs": [
    {
     "name": "stdout",
     "output_type": "stream",
     "text": [
      "[(0,\n",
      "  '0.008*\"wine\" + 0.006*\"seed\" + 0.005*\"wife\" + 0.005*\"use\" + 0.004*\"red\" + '\n",
      "  '0.004*\"oil\" + 0.004*\"husband\" + 0.004*\"good\" + 0.003*\"time\" + 0.003*\"man\" + '\n",
      "  '0.003*\"fort\" + 0.003*\"machine\" + 0.002*\"sexual\" + 0.002*\"madden\" + '\n",
      "  '0.002*\"marriage\"'),\n",
      " (1,\n",
      "  '0.007*\"man\" + 0.006*\"come\" + 0.006*\"know\" + 0.005*\"time\" + 0.005*\"year\" + '\n",
      "  '0.004*\"like\" + 0.004*\"school\" + 0.004*\"car\" + 0.004*\"tell\" + 0.004*\"think\" '\n",
      "  '+ 0.003*\"work\" + 0.003*\"old\" + 0.003*\"day\" + 0.003*\"look\" + 0.003*\"tooth\"'),\n",
      " (2,\n",
      "  '0.005*\"know\" + 0.004*\"time\" + 0.004*\"man\" + 0.004*\"like\" + 0.004*\"think\" + '\n",
      "  '0.003*\"new\" + 0.003*\"way\" + 0.003*\"little\" + 0.003*\"thing\" + 0.003*\"look\" + '\n",
      "  '0.003*\"good\" + 0.002*\"year\" + 0.002*\"find\" + 0.002*\"long\" + 0.002*\"people\"'),\n",
      " (3,\n",
      "  '0.005*\"know\" + 0.004*\"man\" + 0.004*\"like\" + 0.004*\"people\" + 0.004*\"church\" '\n",
      "  '+ 0.004*\"time\" + 0.003*\"cattle\" + 0.003*\"come\" + 0.003*\"use\" + 0.003*\"find\" '\n",
      "  '+ 0.003*\"write\" + 0.003*\"mean\" + 0.003*\"think\" + 0.002*\"long\" + '\n",
      "  '0.002*\"poet\"'),\n",
      " (4,\n",
      "  '0.007*\"time\" + 0.005*\"man\" + 0.004*\"like\" + 0.004*\"know\" + 0.003*\"new\" + '\n",
      "  '0.003*\"come\" + 0.003*\"day\" + 0.003*\"year\" + 0.003*\"life\" + 0.003*\"good\" + '\n",
      "  '0.003*\"people\" + 0.003*\"way\" + 0.003*\"tell\" + 0.003*\"find\" + 0.002*\"great\"'),\n",
      " (5,\n",
      "  '0.006*\"wave\" + 0.005*\"roberts\" + 0.005*\"helva\" + 0.004*\"foot\" + '\n",
      "  '0.004*\"trade\" + 0.004*\"use\" + 0.003*\"water\" + 0.003*\"tsunami\" + '\n",
      "  '0.003*\"good\" + 0.003*\"time\" + 0.003*\"mobile\" + 0.003*\"shell\" + '\n",
      "  '0.002*\"trader\" + 0.002*\"post\" + 0.002*\"french\"')]\n"
     ]
    }
   ],
   "source": [
    "pprint(lda_model.print_topics(num_words=15))"
   ]
  },
  {
   "cell_type": "markdown",
   "metadata": {},
   "source": [
    "__Visualization of Attempt 8__"
   ]
  },
  {
   "cell_type": "code",
   "execution_count": 25,
   "metadata": {},
   "outputs": [
    {
     "data": {
      "text/html": [
       "\n",
       "<link rel=\"stylesheet\" type=\"text/css\" href=\"https://cdn.rawgit.com/bmabey/pyLDAvis/files/ldavis.v1.0.0.css\">\n",
       "\n",
       "\n",
       "<div id=\"ldavis_el5500420544520435929859101674\"></div>\n",
       "<script type=\"text/javascript\">\n",
       "\n",
       "var ldavis_el5500420544520435929859101674_data = {\"mdsDat\": {\"x\": [-0.06928062066925207, -0.03652408606075853, -0.06110679224481049, -0.05561968043563539, 0.12700158982995916, 0.09552958958049741], \"y\": [-0.012136996202868533, 0.020682632601401973, 0.0179080018111535, -0.002756048106455033, 0.09911625210447537, -0.12281384220770732], \"topics\": [1, 2, 3, 4, 5, 6], \"cluster\": [1, 1, 1, 1, 1, 1], \"Freq\": [27.5942440032959, 23.23333168029785, 18.400135040283203, 16.15593147277832, 8.468583106994629, 6.147770404815674]}, \"tinfo\": {\"Term\": [\"wine\", \"seed\", \"wave\", \"wife\", \"red\", \"roberts\", \"helva\", \"foot\", \"cattle\", \"husband\", \"oil\", \"trade\", \"use\", \"car\", \"church\", \"water\", \"tooth\", \"poet\", \"ship\", \"hudson\", \"anti\", \"company\", \"film\", \"fort\", \"machine\", \"tsunami\", \"good\", \"nick\", \"marriage\", \"sexual\", \"palfrey\", \"andy\", \"shayne\", \"mercer\", \"tim\", \"killpath\", \"hal\", \"rourke\", \"giffen\", \"upton\", \"selden\", \"burton\", \"bari\", \"mae\", \"lucy\", \"therapist\", \"linguist\", \"julia\", \"ruth\", \"winslow\", \"orthodontist\", \"parking\", \"vocational\", \"dartmouth\", \"crombie\", \"orthodontic\", \"felix\", \"patent\", \"spelman\", \"holden\", \"fogg\", \"tooth\", \"car\", \"casey\", \"slave\", \"ball\", \"school\", \"road\", \"office\", \"gun\", \"come\", \"door\", \"park\", \"man\", \"year\", \"know\", \"tell\", \"think\", \"work\", \"old\", \"like\", \"time\", \"turn\", \"right\", \"look\", \"day\", \"want\", \"high\", \"hand\", \"way\", \"open\", \"place\", \"new\", \"good\", \"find\", \"thing\", \"ask\", \"head\", \"long\", \"use\", \"alec\", \"barco\", \"hoag\", \"maude\", \"letch\", \"welch\", \"moreland\", \"handley\", \"griffith\", \"mahzeer\", \"integration\", \"viola\", \"glendora\", \"opium\", \"hyman\", \"jubal\", \"muller\", \"juet\", \"lao\", \"lucien\", \"vagina\", \"mars\", \"lolotte\", \"dogtown\", \"recruit\", \"optation\", \"stacy\", \"docherty\", \"digby\", \"beauclerk\", \"soil\", \"brooklyn\", \"film\", \"sarah\", \"hudson\", \"prime\", \"jewish\", \"rev\", \"chicken\", \"farm\", \"clark\", \"dream\", \"congregation\", \"class\", \"train\", \"social\", \"time\", \"life\", \"economic\", \"new\", \"great\", \"day\", \"man\", \"like\", \"city\", \"year\", \"room\", \"come\", \"girl\", \"know\", \"school\", \"people\", \"good\", \"way\", \"find\", \"tell\", \"long\", \"look\", \"live\", \"use\", \"old\", \"work\", \"thing\", \"want\", \"ekstrohm\", \"arlene\", \"blanche\", \"skyros\", \"semitism\", \"chandler\", \"kitti\", \"gilborn\", \"angie\", \"diane\", \"diffusion\", \"garryowen\", \"adolescence\", \"hesperus\", \"kennedy\", \"catholics\", \"unwed\", \"congressman\", \"soviet\", \"burnside\", \"erikson\", \"walton\", \"goulding\", \"conrad\", \"mel\", \"angels\", \"pulley\", \"radish\", \"nazi\", \"nogol\", \"adolescent\", \"eichmann\", \"stanley\", \"anti\", \"jack\", \"ryan\", \"regiment\", \"department\", \"congress\", \"troop\", \"childhood\", \"battle\", \"identity\", \"general\", \"secretary\", \"jews\", \"trial\", \"know\", \"think\", \"like\", \"time\", \"mother\", \"man\", \"little\", \"thing\", \"way\", \"new\", \"look\", \"world\", \"good\", \"long\", \"child\", \"find\", \"people\", \"year\", \"early\", \"tell\", \"ask\", \"state\", \"come\", \"day\", \"use\", \"work\", \"house\", \"want\", \"nick\", \"morse\", \"ecumenical\", \"folklore\", \"bridget\", \"haney\", \"borden\", \"elaine\", \"lizzie\", \"piazza\", \"torrio\", \"palazzo\", \"payne\", \"harlem\", \"cowboy\", \"di\", \"injustice\", \"pam\", \"analyst\", \"dumont\", \"sitter\", \"poet\", \"mullins\", \"nationalism\", \"commercial\", \"corso\", \"charlie\", \"resistance\", \"fountain\", \"boycott\", \"cattle\", \"sensitive\", \"medium\", \"rome\", \"christ\", \"church\", \"soldier\", \"write\", \"stranger\", \"legend\", \"violent\", \"local\", \"reading\", \"christian\", \"people\", \"mean\", \"know\", \"south\", \"like\", \"man\", \"fall\", \"use\", \"find\", \"come\", \"time\", \"think\", \"right\", \"long\", \"hand\", \"leave\", \"little\", \"want\", \"look\", \"feel\", \"ask\", \"way\", \"fact\", \"tell\", \"good\", \"turn\", \"day\", \"madden\", \"quack\", \"garth\", \"meeker\", \"selkirk\", \"ulyate\", \"marty\", \"seed\", \"wine\", \"cancer\", \"soybean\", \"johnston\", \"kearton\", \"cork\", \"hohlbein\", \"shaefer\", \"chien\", \"swiss\", \"garry\", \"prairie\", \"snelling\", \"lion\", \"settler\", \"lioness\", \"kernel\", \"calderone\", \"pauling\", \"jarrodsville\", \"reef\", \"ailment\", \"settlement\", \"oil\", \"jones\", \"fort\", \"nut\", \"lee\", \"fence\", \"machine\", \"sexual\", \"red\", \"wife\", \"husband\", \"thayer\", \"marriage\", \"food\", \"united\", \"use\", \"states\", \"million\", \"medical\", \"good\", \"thousand\", \"river\", \"time\", \"man\", \"world\", \"company\", \"begin\", \"old\", \"year\", \"come\", \"away\", \"woman\", \"roberts\", \"helva\", \"tsunami\", \"earthquake\", \"vince\", \"bienville\", \"pelt\", \"grosse\", \"perier\", \"carolina\", \"barney\", \"concessionaire\", \"tunnel\", \"roberta\", \"mobile\", \"bury\", \"pit\", \"kerosene\", \"pest\", \"hilo\", \"habitant\", \"chickasaws\", \"turpentine\", \"honolulu\", \"tribe\", \"guardino\", \"wart\", \"mickey\", \"restriction\", \"itch\", \"shell\", \"observer\", \"livre\", \"indians\", \"trader\", \"wave\", \"razor\", \"dave\", \"jeep\", \"trade\", \"indian\", \"pacific\", \"post\", \"french\", \"foot\", \"cure\", \"water\", \"price\", \"wound\", \"ship\", \"company\", \"use\", \"sea\", \"good\", \"district\", \"time\", \"hand\", \"work\", \"body\", \"find\", \"come\", \"people\", \"eye\", \"place\", \"away\"], \"Freq\": [57.0, 43.0, 46.0, 77.0, 66.0, 24.0, 24.0, 78.0, 49.0, 60.0, 38.0, 45.0, 208.0, 97.0, 88.0, 70.0, 72.0, 33.0, 51.0, 44.0, 35.0, 55.0, 48.0, 25.0, 29.0, 15.0, 211.0, 25.0, 34.0, 28.0, 32.0245246887207, 30.203083038330078, 26.560184478759766, 25.649457931518555, 23.828012466430664, 22.917287826538086, 22.006563186645508, 20.1842041015625, 17.452945709228516, 16.542219161987305, 13.810043334960938, 13.810043334960938, 12.899314880371094, 12.899314880371094, 12.899314880371094, 12.899313926696777, 11.9885835647583, 11.9885835647583, 11.988585472106934, 11.988585472106934, 11.988585472106934, 11.98858642578125, 26.560184478759766, 26.560184478759766, 11.077857971191406, 11.077857971191406, 23.828012466430664, 34.75668716430664, 10.167128562927246, 10.167128562927246, 22.917287826538086, 64.8643569946289, 85.10587310791016, 16.542217254638672, 24.73873519897461, 21.095840454101562, 85.89552307128906, 40.56734085083008, 50.295589447021484, 39.35380172729492, 123.06473541259766, 56.01835632324219, 23.84954833984375, 138.41439819335938, 98.59576416015625, 122.32382202148438, 80.13694763183594, 77.07066345214844, 68.62406158447266, 66.81000518798828, 94.29378509521484, 99.79808807373047, 59.94512939453125, 54.95374298095703, 64.8934555053711, 65.56574249267578, 56.118656158447266, 48.16399002075195, 53.58853530883789, 60.73946762084961, 45.668907165527344, 51.47553634643555, 60.514774322509766, 60.955745697021484, 58.23604202270508, 51.951622009277344, 49.045894622802734, 47.518959045410156, 48.57427978515625, 48.57238006591797, 26.954158782958984, 23.379846572875977, 20.697486877441406, 19.80552101135254, 18.911941528320312, 18.018362045288086, 15.337613105773926, 14.444031715393066, 14.442850112915039, 14.442399024963379, 13.550447463989258, 13.550447463989258, 12.656866073608398, 12.656866073608398, 10.869698524475098, 10.869698524475098, 10.868054389953613, 9.976112365722656, 9.97611141204834, 9.082523345947266, 9.082525253295898, 8.188937187194824, 8.18893814086914, 8.188937187194824, 8.188937187194824, 8.188937187194824, 8.188920974731445, 8.187277793884277, 7.295347213745117, 7.295331001281738, 13.550447463989258, 14.444031715393066, 43.038352966308594, 20.699094772338867, 36.7835578918457, 15.336370468139648, 29.63491439819336, 11.76328182220459, 13.547245979309082, 42.145042419433594, 13.550447463989258, 26.060590744018555, 26.954172134399414, 29.634918212890625, 20.65020751953125, 29.81536102294922, 118.98448181152344, 52.117427825927734, 30.528493881225586, 61.9286003112793, 43.787109375, 59.30873489379883, 81.88461303710938, 68.82904815673828, 34.086082458496094, 58.406192779541016, 40.7748908996582, 61.48270034790039, 34.499969482421875, 63.87717819213867, 43.67263412475586, 48.23774337768555, 49.05022430419922, 46.105743408203125, 45.52880859375, 45.623008728027344, 43.585479736328125, 42.53303909301758, 34.36351013183594, 42.5492057800293, 39.728599548339844, 38.52451705932617, 35.44511032104492, 34.08982849121094, 23.6057186126709, 21.86775016784668, 20.129207611083984, 19.260784149169922, 19.260784149169922, 18.391801834106445, 17.52211570739746, 16.65312957763672, 14.915852546691895, 14.046868324279785, 14.046868324279785, 12.308893203735352, 12.308893203735352, 10.570914268493652, 10.570914268493652, 9.701926231384277, 9.701926231384277, 9.701926231384277, 19.260784149169922, 7.9639434814453125, 7.9639434814453125, 7.963942527770996, 7.9639434814453125, 7.963230133056641, 7.094950199127197, 7.094950199127197, 7.094950199127197, 7.094951152801514, 7.094950199127197, 7.094951152801514, 15.784842491149902, 15.784842491149902, 25.03588104248047, 31.426584243774414, 18.391801834106445, 12.308894157409668, 14.046868324279785, 26.212675094604492, 9.701927185058594, 12.308894157409668, 11.43990421295166, 13.177879333496094, 17.52281379699707, 30.557598114013672, 17.484670639038086, 14.915854454040527, 22.736730575561523, 70.6629867553711, 50.51359176635742, 60.08646011352539, 63.19114685058594, 26.842506408691406, 61.38022232055664, 39.975074768066406, 37.40146255493164, 41.558868408203125, 42.39392852783203, 37.31284713745117, 30.222509384155273, 37.062782287597656, 34.24308395385742, 28.61484718322754, 34.489776611328125, 34.03241729736328, 34.97899627685547, 26.799055099487305, 31.454273223876953, 29.120492935180664, 26.212675094604492, 33.124786376953125, 30.312095642089844, 29.68858528137207, 28.70205307006836, 27.56244659423828, 26.91349983215332, 24.884275436401367, 22.324600219726562, 22.32459831237793, 21.47136878967285, 18.911685943603516, 18.05840301513672, 17.205230712890625, 17.205230712890625, 15.498771667480469, 12.9390869140625, 12.085860252380371, 10.379400253295898, 8.672937393188477, 8.672937393188477, 8.666999816894531, 7.819704055786133, 6.966472148895264, 6.966472148895264, 6.966472148895264, 6.966472148895264, 20.618139266967773, 30.00364112854004, 6.113234519958496, 6.113234519958496, 6.113234519958496, 6.113234519958496, 13.792317390441895, 12.085860252380371, 5.259995460510254, 5.259995460510254, 42.80205154418945, 10.37452220916748, 18.05845832824707, 17.205230712890625, 8.672937393188477, 47.068180084228516, 18.05845832824707, 35.97623062133789, 9.526115417480469, 9.526169776916504, 13.79218578338623, 20.559843063354492, 13.792317390441895, 16.351999282836914, 49.675018310546875, 35.12712860107422, 62.469966888427734, 20.618139266967773, 52.82066345214844, 55.65773391723633, 22.312782287597656, 39.59161376953125, 36.07295227050781, 42.33086013793945, 46.11467361450195, 33.88778305053711, 29.183143615722656, 30.522417068481445, 28.341312408447266, 27.976280212402344, 27.95847511291504, 26.924762725830078, 28.106420516967773, 25.713106155395508, 26.229591369628906, 26.859268188476562, 24.007862091064453, 26.038833618164062, 24.816909790039062, 24.241788864135742, 24.360586166381836, 15.927180290222168, 13.670365333557129, 13.669556617736816, 12.917013168334961, 12.165281295776367, 11.412738800048828, 10.65839672088623, 40.7618408203125, 52.802494049072266, 8.402568817138672, 7.650027751922607, 7.649209022521973, 6.897482395172119, 6.897482872009277, 6.896661758422852, 6.144937515258789, 5.392393589019775, 5.392393589019775, 5.392393589019775, 5.392393589019775, 5.392393589019775, 10.660198211669922, 4.639845371246338, 4.639845371246338, 4.639845371246338, 4.639845848083496, 4.639007568359375, 4.637986183166504, 8.402568817138672, 3.887295961380005, 7.650027751922607, 27.21610450744629, 14.422904014587402, 18.185609817504883, 12.165281295776367, 7.650027751922607, 6.143106460571289, 16.680530548095703, 15.927986145019531, 29.25082015991211, 31.68901824951172, 25.711023330688477, 8.010169982910156, 15.175446510314941, 14.422904014587402, 15.175446510314941, 30.91356658935547, 14.422903060913086, 12.043657302856445, 12.165281295776367, 25.47488021850586, 13.618192672729492, 14.422904014587402, 20.35209083557129, 19.172849655151367, 14.422903060913086, 12.917823791503906, 13.401732444763184, 13.936062812805176, 14.200784683227539, 14.137439727783203, 13.282934188842773, 12.944933891296387, 24.131406784057617, 23.445343017578125, 15.210678100585938, 11.093341827392578, 7.660819053649902, 6.2897796630859375, 6.2897796630859375, 6.288361549377441, 5.603556156158447, 4.91732931137085, 4.915896415710449, 4.231103420257568, 4.230945110321045, 4.229658126831055, 12.465789794921875, 3.544874906539917, 3.5447142124176025, 2.858642339706421, 2.858642339706421, 2.858642339706421, 2.858642339706421, 2.858642339706421, 2.858642339706421, 2.858642339706421, 2.858642339706421, 2.8571553230285645, 8.3484525680542, 10.406967163085938, 2.17240309715271, 2.172403335571289, 12.465789794921875, 2.17240309715271, 2.17240309715271, 8.3484525680542, 11.77956485748291, 26.749385833740234, 5.578050136566162, 6.288361549377441, 6.289625644683838, 17.95556640625, 7.662228584289551, 6.289780139923096, 11.766640663146973, 11.093342781066895, 19.053497314453125, 9.034674644470215, 15.81786060333252, 6.976004600524902, 6.976004600524902, 11.093342781066895, 11.093342781066895, 16.738971710205078, 8.3484525680542, 14.120908737182617, 8.3484525680542, 14.028412818908691, 10.358040809631348, 10.400727272033691, 8.771141052246094, 10.36409854888916, 10.662328720092773, 9.720897674560547, 8.82796573638916, 8.424715995788574, 8.385290145874023], \"Total\": [57.0, 43.0, 46.0, 77.0, 66.0, 24.0, 24.0, 78.0, 49.0, 60.0, 38.0, 45.0, 208.0, 97.0, 88.0, 70.0, 72.0, 33.0, 51.0, 44.0, 35.0, 55.0, 48.0, 25.0, 29.0, 15.0, 211.0, 25.0, 34.0, 28.0, 32.70028305053711, 30.878841400146484, 27.235942840576172, 26.32521629333496, 24.50377082824707, 23.593046188354492, 22.682321548461914, 20.860383987426758, 18.128704071044922, 17.21797752380371, 14.485801696777344, 14.485801696777344, 13.5750732421875, 13.5750732421875, 13.5750732421875, 13.575072288513184, 12.664341926574707, 12.664341926574707, 12.66434383392334, 12.66434383392334, 12.66434383392334, 12.664344787597656, 28.126548767089844, 28.126548767089844, 11.753616333007812, 11.753616333007812, 25.370399475097656, 37.05052947998047, 10.842886924743652, 10.842886924743652, 24.459674835205078, 72.53510284423828, 97.61990356445312, 18.084604263305664, 27.972515106201172, 25.158851623535156, 148.56192016601562, 58.43880081176758, 80.06106567382812, 59.92594528198242, 284.8028564453125, 99.02687072753906, 31.48587989807129, 364.7620849609375, 229.76890563964844, 337.3475036621094, 194.2410430908203, 191.79251098632812, 166.37176513671875, 160.40414428710938, 283.715576171875, 362.4688720703125, 145.9239044189453, 131.3204803466797, 182.94393920898438, 197.13233947753906, 146.81411743164062, 108.25885772705078, 136.47027587890625, 186.84397888183594, 98.45687866210938, 132.54542541503906, 200.30226135253906, 211.48146057128906, 191.48123168945312, 146.28469848632812, 141.26953125, 121.8801040649414, 175.62753295898438, 208.05430603027344, 27.632780075073242, 24.058462142944336, 21.376758575439453, 20.4841365814209, 19.590557098388672, 18.696977615356445, 16.01622772216797, 15.122647285461426, 15.121947288513184, 15.121674537658691, 14.229063034057617, 14.229063034057617, 13.335481643676758, 13.335481643676758, 11.548314094543457, 11.548314094543457, 11.547334671020508, 10.654727935791016, 10.6547269821167, 9.761138916015625, 9.761140823364258, 8.867552757263184, 8.8675537109375, 8.867552757263184, 8.867552757263184, 8.867552757263184, 8.867542266845703, 8.86656379699707, 7.973963260650635, 7.973952293395996, 14.98051929473877, 15.989275932312012, 48.89213180541992, 23.63446617126465, 44.38888168334961, 17.618101119995117, 36.36134338378906, 13.349093437194824, 15.731022834777832, 58.95206069946289, 15.987417221069336, 36.374839782714844, 39.57644271850586, 44.96662902832031, 28.13124656677246, 48.732810974121094, 362.4688720703125, 112.19734191894531, 60.02676773071289, 200.30226135253906, 114.83524322509766, 197.13233947753906, 364.7620849609375, 283.715576171875, 79.845947265625, 229.76890563964844, 115.5617446899414, 284.8028564453125, 89.4511489868164, 337.3475036621094, 148.56192016601562, 197.10983276367188, 211.48146057128906, 186.84397888183594, 191.48123168945312, 194.2410430908203, 175.62753295898438, 182.94393920898438, 90.58182525634766, 208.05430603027344, 160.40414428710938, 166.37176513671875, 146.28469848632812, 146.81411743164062, 24.288433074951172, 22.550464630126953, 20.812158584594727, 19.943498611450195, 19.943498611450195, 19.07451629638672, 18.20511817932129, 17.336132049560547, 15.598567962646484, 14.729583740234375, 14.729583740234375, 12.991608619689941, 12.991608619689941, 11.253629684448242, 11.253629684448242, 10.384641647338867, 10.384641647338867, 10.384641647338867, 20.834104537963867, 8.646658897399902, 8.646658897399902, 8.646657943725586, 8.646658897399902, 8.646239280700684, 7.777665138244629, 7.777665138244629, 7.777665138244629, 7.777666091918945, 7.777665138244629, 7.777666091918945, 17.318716049194336, 17.35816192626953, 27.859695434570312, 35.729244232177734, 20.832870483398438, 13.842767715454102, 16.332199096679688, 39.71244812011719, 11.136098861694336, 15.253988265991211, 13.920419692993164, 17.290407180786133, 26.185955047607422, 60.051822662353516, 26.12592315673828, 20.957794189453125, 41.958194732666016, 337.3475036621094, 191.79251098632812, 283.715576171875, 362.4688720703125, 66.87208557128906, 364.7620849609375, 154.21926879882812, 146.28469848632812, 186.84397888183594, 200.30226135253906, 182.94393920898438, 113.35682678222656, 211.48146057128906, 175.62753295898438, 106.36846923828125, 191.48123168945312, 197.10983276367188, 229.76890563964844, 93.52974700927734, 194.2410430908203, 141.26953125, 86.44168853759766, 284.8028564453125, 197.13233947753906, 208.05430603027344, 166.37176513671875, 124.8865966796875, 146.81411743164062, 25.569616317749023, 23.00994110107422, 23.009939193725586, 22.156709671020508, 19.597026824951172, 18.74376678466797, 17.89057159423828, 17.89057159423828, 16.184114456176758, 13.624428749084473, 12.771202087402344, 11.064742088317871, 9.35827922821045, 9.35827922821045, 9.355175018310547, 8.505045890808105, 7.651813983917236, 7.651813983917236, 7.651813983917236, 7.651813983917236, 22.85443687438965, 33.31555938720703, 6.798576354980469, 6.798576354980469, 6.798576354980469, 6.798576354980469, 15.384854316711426, 13.63783073425293, 5.945337295532227, 5.945337295532227, 49.008544921875, 11.969359397888184, 21.213869094848633, 23.124879837036133, 10.265474319458008, 88.58318328857422, 29.482133865356445, 79.41358947753906, 11.947275161743164, 12.00931167602539, 20.67917251586914, 38.52425765991211, 21.633634567260742, 28.55813980102539, 197.10983276367188, 108.47703552246094, 337.3475036621094, 45.71332931518555, 283.715576171875, 364.7620849609375, 57.30669021606445, 208.05430603027344, 191.48123168945312, 284.8028564453125, 362.4688720703125, 191.79251098632812, 131.3204803466797, 175.62753295898438, 136.47027587890625, 141.74847412109375, 154.21926879882812, 146.81411743164062, 182.94393920898438, 118.50642395019531, 141.26953125, 186.84397888183594, 100.2187728881836, 194.2410430908203, 211.48146057128906, 145.9239044189453, 197.13233947753906, 16.62968635559082, 14.372488021850586, 14.372064590454102, 13.619521141052246, 12.867403984069824, 12.114861488342285, 11.361388206481934, 43.726341247558594, 57.012027740478516, 9.104691505432129, 8.352149963378906, 8.351722717285156, 7.599605083465576, 7.599605560302734, 7.59917688369751, 6.847060203552246, 6.094516277313232, 6.094516277313232, 6.094516277313232, 6.094516277313232, 6.094516277313232, 12.252925872802734, 5.341968059539795, 5.341968059539795, 5.341968059539795, 5.341968536376953, 5.3415303230285645, 5.341006755828857, 9.790124893188477, 4.589418411254883, 9.037582397460938, 38.84352111816406, 19.50995635986328, 25.61542510986328, 18.157148361206055, 10.110504150390625, 7.697271347045898, 29.004226684570312, 28.052616119384766, 66.13927459716797, 77.20648956298828, 60.21391296386719, 11.005722045898438, 34.63071060180664, 38.21977233886719, 43.128456115722656, 208.05430603027344, 42.46022033691406, 27.963041305541992, 28.95768165588379, 211.48146057128906, 39.07123565673828, 46.4659423828125, 362.4688720703125, 364.7620849609375, 113.35682678222656, 55.48941421508789, 96.33406829833984, 160.40414428710938, 229.76890563964844, 284.8028564453125, 90.2615966796875, 112.19878387451172, 24.844661712646484, 24.158519744873047, 15.923853874206543, 11.806517601013184, 8.374737739562988, 7.002955436706543, 7.002955436706543, 7.002285957336426, 6.316731929779053, 5.630505084991455, 5.629828929901123, 4.944279193878174, 4.944202899932861, 4.943596839904785, 14.963603019714355, 4.258050918579102, 4.2579731941223145, 3.5718181133270264, 3.5718181133270264, 3.5718181133270264, 3.5718181133270264, 3.5718181133270264, 3.5718181133270264, 3.5718181133270264, 3.5718181133270264, 3.5711164474487305, 10.818861961364746, 13.725288391113281, 2.8855788707733154, 2.8855791091918945, 16.7374267578125, 2.8855788707733154, 2.8855788707733154, 11.631539344787598, 17.858320236206055, 46.19406509399414, 8.122884750366211, 10.413578987121582, 10.574882507324219, 45.61385726928711, 14.534555435180664, 11.171546936035156, 27.73062515258789, 28.271697998046875, 78.0749282836914, 21.382604598999023, 70.1534652709961, 14.623464584350586, 14.66790771484375, 51.21943283081055, 55.48941421508789, 208.05430603027344, 29.345500946044922, 211.48146057128906, 30.230121612548828, 362.4688720703125, 136.47027587890625, 166.37176513671875, 62.22824478149414, 191.48123168945312, 284.8028564453125, 197.10983276367188, 103.32736206054688, 132.54542541503906, 90.2615966796875], \"Category\": [\"Default\", \"Default\", \"Default\", \"Default\", \"Default\", \"Default\", \"Default\", \"Default\", \"Default\", \"Default\", \"Default\", \"Default\", \"Default\", \"Default\", \"Default\", \"Default\", \"Default\", \"Default\", \"Default\", \"Default\", \"Default\", \"Default\", \"Default\", \"Default\", \"Default\", \"Default\", \"Default\", \"Default\", \"Default\", \"Default\", \"Topic1\", \"Topic1\", \"Topic1\", \"Topic1\", \"Topic1\", \"Topic1\", \"Topic1\", \"Topic1\", \"Topic1\", \"Topic1\", \"Topic1\", \"Topic1\", \"Topic1\", \"Topic1\", \"Topic1\", \"Topic1\", \"Topic1\", \"Topic1\", \"Topic1\", \"Topic1\", \"Topic1\", \"Topic1\", \"Topic1\", \"Topic1\", \"Topic1\", \"Topic1\", \"Topic1\", \"Topic1\", \"Topic1\", \"Topic1\", \"Topic1\", \"Topic1\", \"Topic1\", \"Topic1\", \"Topic1\", \"Topic1\", \"Topic1\", \"Topic1\", \"Topic1\", \"Topic1\", \"Topic1\", \"Topic1\", \"Topic1\", \"Topic1\", \"Topic1\", \"Topic1\", \"Topic1\", \"Topic1\", \"Topic1\", \"Topic1\", \"Topic1\", \"Topic1\", \"Topic1\", \"Topic1\", \"Topic1\", \"Topic1\", \"Topic1\", \"Topic1\", \"Topic1\", \"Topic1\", \"Topic1\", \"Topic1\", \"Topic1\", \"Topic1\", \"Topic1\", \"Topic1\", \"Topic1\", \"Topic1\", \"Topic1\", \"Topic1\", \"Topic2\", \"Topic2\", \"Topic2\", \"Topic2\", \"Topic2\", \"Topic2\", \"Topic2\", \"Topic2\", \"Topic2\", \"Topic2\", \"Topic2\", \"Topic2\", \"Topic2\", \"Topic2\", \"Topic2\", \"Topic2\", \"Topic2\", \"Topic2\", \"Topic2\", \"Topic2\", \"Topic2\", \"Topic2\", \"Topic2\", \"Topic2\", \"Topic2\", \"Topic2\", \"Topic2\", \"Topic2\", \"Topic2\", \"Topic2\", \"Topic2\", \"Topic2\", \"Topic2\", \"Topic2\", \"Topic2\", \"Topic2\", \"Topic2\", \"Topic2\", \"Topic2\", \"Topic2\", \"Topic2\", \"Topic2\", \"Topic2\", \"Topic2\", \"Topic2\", \"Topic2\", \"Topic2\", \"Topic2\", \"Topic2\", \"Topic2\", \"Topic2\", \"Topic2\", \"Topic2\", \"Topic2\", \"Topic2\", \"Topic2\", \"Topic2\", \"Topic2\", \"Topic2\", \"Topic2\", \"Topic2\", \"Topic2\", \"Topic2\", \"Topic2\", \"Topic2\", \"Topic2\", \"Topic2\", \"Topic2\", \"Topic2\", \"Topic2\", \"Topic2\", \"Topic2\", \"Topic2\", \"Topic2\", \"Topic3\", \"Topic3\", \"Topic3\", \"Topic3\", \"Topic3\", \"Topic3\", \"Topic3\", \"Topic3\", \"Topic3\", \"Topic3\", \"Topic3\", \"Topic3\", \"Topic3\", \"Topic3\", \"Topic3\", \"Topic3\", \"Topic3\", \"Topic3\", \"Topic3\", \"Topic3\", \"Topic3\", \"Topic3\", \"Topic3\", \"Topic3\", \"Topic3\", \"Topic3\", \"Topic3\", \"Topic3\", \"Topic3\", \"Topic3\", \"Topic3\", \"Topic3\", \"Topic3\", \"Topic3\", \"Topic3\", \"Topic3\", \"Topic3\", \"Topic3\", \"Topic3\", \"Topic3\", \"Topic3\", \"Topic3\", \"Topic3\", \"Topic3\", \"Topic3\", \"Topic3\", \"Topic3\", \"Topic3\", \"Topic3\", \"Topic3\", \"Topic3\", \"Topic3\", \"Topic3\", \"Topic3\", \"Topic3\", \"Topic3\", \"Topic3\", \"Topic3\", \"Topic3\", \"Topic3\", \"Topic3\", \"Topic3\", \"Topic3\", \"Topic3\", \"Topic3\", \"Topic3\", \"Topic3\", \"Topic3\", \"Topic3\", \"Topic3\", \"Topic3\", \"Topic3\", \"Topic3\", \"Topic3\", \"Topic3\", \"Topic4\", \"Topic4\", \"Topic4\", \"Topic4\", \"Topic4\", \"Topic4\", \"Topic4\", \"Topic4\", \"Topic4\", \"Topic4\", \"Topic4\", \"Topic4\", \"Topic4\", \"Topic4\", \"Topic4\", \"Topic4\", \"Topic4\", \"Topic4\", \"Topic4\", \"Topic4\", \"Topic4\", \"Topic4\", \"Topic4\", \"Topic4\", \"Topic4\", \"Topic4\", \"Topic4\", \"Topic4\", \"Topic4\", \"Topic4\", \"Topic4\", \"Topic4\", \"Topic4\", \"Topic4\", \"Topic4\", \"Topic4\", \"Topic4\", \"Topic4\", \"Topic4\", \"Topic4\", \"Topic4\", \"Topic4\", \"Topic4\", \"Topic4\", \"Topic4\", \"Topic4\", \"Topic4\", \"Topic4\", \"Topic4\", \"Topic4\", \"Topic4\", \"Topic4\", \"Topic4\", \"Topic4\", \"Topic4\", \"Topic4\", \"Topic4\", \"Topic4\", \"Topic4\", \"Topic4\", \"Topic4\", \"Topic4\", \"Topic4\", \"Topic4\", \"Topic4\", \"Topic4\", \"Topic4\", \"Topic4\", \"Topic4\", \"Topic4\", \"Topic4\", \"Topic5\", \"Topic5\", \"Topic5\", \"Topic5\", \"Topic5\", \"Topic5\", \"Topic5\", \"Topic5\", \"Topic5\", \"Topic5\", \"Topic5\", \"Topic5\", \"Topic5\", \"Topic5\", \"Topic5\", \"Topic5\", \"Topic5\", \"Topic5\", \"Topic5\", \"Topic5\", \"Topic5\", \"Topic5\", \"Topic5\", \"Topic5\", \"Topic5\", \"Topic5\", \"Topic5\", \"Topic5\", \"Topic5\", \"Topic5\", \"Topic5\", \"Topic5\", \"Topic5\", \"Topic5\", \"Topic5\", \"Topic5\", \"Topic5\", \"Topic5\", \"Topic5\", \"Topic5\", \"Topic5\", \"Topic5\", \"Topic5\", \"Topic5\", \"Topic5\", \"Topic5\", \"Topic5\", \"Topic5\", \"Topic5\", \"Topic5\", \"Topic5\", \"Topic5\", \"Topic5\", \"Topic5\", \"Topic5\", \"Topic5\", \"Topic5\", \"Topic5\", \"Topic5\", \"Topic5\", \"Topic5\", \"Topic5\", \"Topic5\", \"Topic6\", \"Topic6\", \"Topic6\", \"Topic6\", \"Topic6\", \"Topic6\", \"Topic6\", \"Topic6\", \"Topic6\", \"Topic6\", \"Topic6\", \"Topic6\", \"Topic6\", \"Topic6\", \"Topic6\", \"Topic6\", \"Topic6\", \"Topic6\", \"Topic6\", \"Topic6\", \"Topic6\", \"Topic6\", \"Topic6\", \"Topic6\", \"Topic6\", \"Topic6\", \"Topic6\", \"Topic6\", \"Topic6\", \"Topic6\", \"Topic6\", \"Topic6\", \"Topic6\", \"Topic6\", \"Topic6\", \"Topic6\", \"Topic6\", \"Topic6\", \"Topic6\", \"Topic6\", \"Topic6\", \"Topic6\", \"Topic6\", \"Topic6\", \"Topic6\", \"Topic6\", \"Topic6\", \"Topic6\", \"Topic6\", \"Topic6\", \"Topic6\", \"Topic6\", \"Topic6\", \"Topic6\", \"Topic6\", \"Topic6\", \"Topic6\", \"Topic6\", \"Topic6\", \"Topic6\", \"Topic6\", \"Topic6\", \"Topic6\", \"Topic6\", \"Topic6\"], \"logprob\": [30.0, 29.0, 28.0, 27.0, 26.0, 25.0, 24.0, 23.0, 22.0, 21.0, 20.0, 19.0, 18.0, 17.0, 16.0, 15.0, 14.0, 13.0, 12.0, 11.0, 10.0, 9.0, 8.0, 7.0, 6.0, 5.0, 4.0, 3.0, 2.0, 1.0, -6.497099876403809, -6.555600166320801, -6.684199810028076, -6.719099998474121, -6.792699813842773, -6.831699848175049, -6.872200012207031, -6.958700180053711, -7.104100227355957, -7.157700061798096, -7.338200092315674, -7.338200092315674, -7.406400203704834, -7.406400203704834, -7.406400203704834, -7.406400203704834, -7.479599952697754, -7.479599952697754, -7.479599952697754, -7.479599952697754, -7.479599952697754, -7.479599952697754, -6.684199810028076, -6.684199810028076, -7.558599948883057, -7.558599948883057, -6.792699813842773, -6.415200233459473, -7.644400119781494, -7.644400119781494, -6.831699848175049, -5.791299819946289, -5.519700050354004, -7.157700061798096, -6.755199909210205, -6.9145002365112305, -5.510499954223633, -6.2606000900268555, -6.0457000732421875, -6.290999889373779, -5.150899887084961, -5.937900066375732, -6.791800022125244, -5.033299922943115, -5.372600078582764, -5.156899929046631, -5.579800128936768, -5.618899822235107, -5.734899997711182, -5.76170015335083, -5.417200088500977, -5.360400199890137, -5.870200157165527, -5.957099914550781, -5.790800094604492, -5.7804999351501465, -5.936100006103516, -6.089000225067139, -5.9822001457214355, -5.85699987411499, -6.142199993133545, -6.022500038146973, -5.8607001304626465, -5.853400230407715, -5.899099826812744, -6.013299942016602, -6.070799827575684, -6.102499961853027, -6.08050012588501, -6.08050012588501, -6.497399806976318, -6.639699935913086, -6.761600017547607, -6.805600166320801, -6.851799964904785, -6.900199890136719, -7.061299800872803, -7.121300220489502, -7.121399879455566, -7.121399879455566, -7.185100078582764, -7.185100078582764, -7.253399848937988, -7.253399848937988, -7.405600070953369, -7.405600070953369, -7.405700206756592, -7.491399765014648, -7.491399765014648, -7.58519983291626, -7.58519983291626, -7.688799858093262, -7.688799858093262, -7.688799858093262, -7.688799858093262, -7.688799858093262, -7.688799858093262, -7.689000129699707, -7.804299831390381, -7.804299831390381, -7.185100078582764, -7.121300220489502, -6.0295000076293945, -6.761499881744385, -6.186500072479248, -7.061299800872803, -6.402599811553955, -7.326600074768066, -7.185400009155273, -6.0503997802734375, -7.185100078582764, -6.531099796295166, -6.497399806976318, -6.402599811553955, -6.763800144195557, -6.396500110626221, -5.012599945068359, -5.838099956512451, -6.372900009155273, -5.665599822998047, -6.012199878692627, -5.708799839019775, -5.386300086975098, -5.559899806976318, -6.262700080871582, -5.724100112915039, -6.083499908447266, -5.672800064086914, -6.2505998611450195, -5.6346001625061035, -6.014800071716309, -5.91540002822876, -5.89870023727417, -5.960599899291992, -5.973199844360352, -5.971199989318848, -6.0167999267578125, -6.041299819946289, -6.2546000480651855, -6.040900230407715, -6.109499931335449, -6.1402997970581055, -6.223599910736084, -6.262599945068359, -6.3968000411987305, -6.473299980163574, -6.55620002746582, -6.600299835205078, -6.600299835205078, -6.646399974822998, -6.694900035858154, -6.745699882507324, -6.855899810791016, -6.915900230407715, -6.915900230407715, -7.047999858856201, -7.047999858856201, -7.200200080871582, -7.200200080871582, -7.285999774932861, -7.285999774932861, -7.285999774932861, -6.600299835205078, -7.483399868011475, -7.483399868011475, -7.483399868011475, -7.483399868011475, -7.483500003814697, -7.598899841308594, -7.598899841308594, -7.598899841308594, -7.598899841308594, -7.598899841308594, -7.598899841308594, -6.799300193786621, -6.799300193786621, -6.3379998207092285, -6.1107001304626465, -6.646399974822998, -7.047999858856201, -6.915900230407715, -6.292099952697754, -7.285999774932861, -7.047999858856201, -7.121200084686279, -6.979800224304199, -6.694799900054932, -6.138700008392334, -6.697000026702881, -6.855899810791016, -6.4344000816345215, -5.3003997802734375, -5.636099815368652, -5.462500095367432, -5.412199974060059, -6.2683000564575195, -5.441199779510498, -5.870100021362305, -5.936600208282471, -5.831200122833252, -5.811299800872803, -5.939000129699707, -6.149700164794922, -5.945700168609619, -6.024799823760986, -6.204400062561035, -6.0177001953125, -6.031000137329102, -6.003600120544434, -6.269999980926514, -6.109799861907959, -6.1869001388549805, -6.292099952697754, -6.05810022354126, -6.1468000411987305, -6.167600154876709, -6.201399803161621, -6.2418999671936035, -6.265699863433838, -6.214000225067139, -6.3225998878479, -6.3225998878479, -6.361499786376953, -6.488500118255615, -6.5346999168396, -6.583000183105469, -6.583000183105469, -6.6875, -6.868000030517578, -6.936200141906738, -7.088399887084961, -7.268099784851074, -7.268099784851074, -7.268700122833252, -7.371600151062012, -7.487199783325195, -7.487199783325195, -7.487199783325195, -7.487199783325195, -6.402100086212158, -6.026899814605713, -7.617800235748291, -7.617800235748291, -7.617800235748291, -7.617800235748291, -6.804200172424316, -6.936200141906738, -7.768099784851074, -7.768099784851074, -5.6717000007629395, -7.088900089263916, -6.534599781036377, -6.583000183105469, -7.268099784851074, -5.576700210571289, -6.534599781036377, -5.845399856567383, -7.174200057983398, -7.174200057983398, -6.804200172424316, -6.404900074005127, -6.804200172424316, -6.633900165557861, -5.522799968719482, -5.86929988861084, -5.293600082397461, -6.402100086212158, -5.461400032043457, -5.408999919891357, -6.3231000900268555, -5.749599933624268, -5.842700004577637, -5.682700157165527, -5.597099781036377, -5.905200004577637, -6.054699897766113, -6.009799957275391, -6.083899974822998, -6.09689998626709, -6.097499847412109, -6.135200023651123, -6.092299938201904, -6.181300163269043, -6.161399841308594, -6.137700080871582, -6.249899864196777, -6.168700218200684, -6.216700077056885, -6.240200042724609, -6.235300064086914, -6.0142998695373535, -6.167099952697754, -6.167200088500977, -6.223800182342529, -6.28380012512207, -6.347599983215332, -6.415999889373779, -5.0746002197265625, -4.815800189971924, -6.653800010681152, -6.747600078582764, -6.747700214385986, -6.851200103759766, -6.851200103759766, -6.85129976272583, -6.966700077056885, -7.097300052642822, -7.097300052642822, -7.097300052642822, -7.097300052642822, -7.097300052642822, -6.415800094604492, -7.247700214385986, -7.247700214385986, -7.247700214385986, -7.247700214385986, -7.247799873352051, -7.2480998039245605, -6.653800010681152, -7.424600124359131, -6.747600078582764, -5.478499889373779, -6.113500118255615, -5.881700038909912, -6.28380012512207, -6.747600078582764, -6.9670000076293945, -5.968100070953369, -6.0142998695373535, -5.406400203704834, -5.326399803161621, -5.535399913787842, -6.701600074768066, -6.062699794769287, -6.113500118255615, -6.062699794769287, -5.351099967956543, -6.113500118255615, -6.293799877166748, -6.28380012512207, -5.544600009918213, -6.170899868011475, -6.113500118255615, -5.769199848175049, -5.828800201416016, -6.113500118255615, -6.223700046539307, -6.186999797821045, -6.147900104522705, -6.129000186920166, -6.133500099182129, -6.195899963378906, -6.22160005569458, -5.278600215911865, -5.307400226593018, -5.740099906921387, -6.055699825286865, -6.425899982452393, -6.6230998039245605, -6.6230998039245605, -6.6234002113342285, -6.738699913024902, -6.86929988861084, -6.86959981918335, -7.019599914550781, -7.019599914550781, -7.019899845123291, -5.9390997886657715, -7.196599960327148, -7.196599960327148, -7.4116997718811035, -7.4116997718811035, -7.4116997718811035, -7.4116997718811035, -7.4116997718811035, -7.4116997718811035, -7.4116997718811035, -7.4116997718811035, -7.412199974060059, -6.340000152587891, -6.11959981918335, -7.686200141906738, -7.686200141906738, -5.9390997886657715, -7.686200141906738, -7.686200141906738, -6.340000152587891, -5.995699882507324, -5.175600051879883, -6.743199825286865, -6.6234002113342285, -6.623199939727783, -5.57420015335083, -6.42579984664917, -6.6230998039245605, -5.996799945831299, -6.055699825286865, -5.514800071716309, -6.261000156402588, -5.700900077819824, -6.519599914550781, -6.519599914550781, -6.055699825286865, -6.055699825286865, -5.6442999839782715, -6.340000152587891, -5.8144001960754395, -6.340000152587891, -5.821000099182129, -6.124300003051758, -6.120200157165527, -6.290599822998047, -6.123700141906738, -6.095300197601318, -6.18779993057251, -6.28410005569458, -6.330900192260742, -6.335599899291992], \"loglift\": [30.0, 29.0, 28.0, 27.0, 26.0, 25.0, 24.0, 23.0, 22.0, 21.0, 20.0, 19.0, 18.0, 17.0, 16.0, 15.0, 14.0, 13.0, 12.0, 11.0, 10.0, 9.0, 8.0, 7.0, 6.0, 5.0, 4.0, 3.0, 2.0, 1.0, 1.266700029373169, 1.2654000520706177, 1.2624000310897827, 1.2616000175476074, 1.259600043296814, 1.2584999799728394, 1.2573000192642212, 1.2546000480651855, 1.2496000528335571, 1.247499942779541, 1.239799976348877, 1.239799976348877, 1.2365000247955322, 1.2365000247955322, 1.2365000247955322, 1.2365000247955322, 1.232699990272522, 1.232699990272522, 1.232699990272522, 1.232699990272522, 1.232699990272522, 1.232699990272522, 1.230299949645996, 1.230299949645996, 1.2283999919891357, 1.2283999919891357, 1.2247999906539917, 1.2237000465393066, 1.2231999635696411, 1.2231999635696411, 1.2223999500274658, 1.1757999658584595, 1.1504000425338745, 1.1984000205993652, 1.1647000312805176, 1.1114000082015991, 0.7397000193595886, 0.9225000143051147, 0.822700023651123, 0.8669999837875366, 0.44850000739097595, 0.7178999781608582, 1.0097999572753906, 0.31859999895095825, 0.4415000081062317, 0.27309998869895935, 0.40220001339912415, 0.375900000333786, 0.4020000100135803, 0.4117000102996826, 0.1860000044107437, -0.002199999988079071, 0.3978999853134155, 0.4163999855518341, 0.25110000371932983, 0.1867000013589859, 0.32589998841285706, 0.47760000824928284, 0.35280001163482666, 0.1639000028371811, 0.5194000005722046, 0.3416999876499176, 0.09059999883174896, 0.04360000044107437, 0.09730000048875809, 0.2522999942302704, 0.2295999974012375, 0.3456999957561493, 0.002300000051036477, -0.1671999990940094, 1.4347000122070312, 1.430999994277954, 1.427299976348877, 1.4258999824523926, 1.424299955368042, 1.4226000308990479, 1.4163000583648682, 1.413699984550476, 1.413599967956543, 1.413599967956543, 1.4106999635696411, 1.4106999635696411, 1.4074000120162964, 1.4074000120162964, 1.3990000486373901, 1.3990000486373901, 1.3990000486373901, 1.3938000202178955, 1.3938000202178955, 1.3875000476837158, 1.3875000476837158, 1.3799999952316284, 1.3799999952316284, 1.3799999952316284, 1.3799999952316284, 1.3799999952316284, 1.3799999952316284, 1.3798999786376953, 1.3705999851226807, 1.3705999851226807, 1.3593000173568726, 1.3579000234603882, 1.3321000337600708, 1.3270000219345093, 1.2716000080108643, 1.3208999633789062, 1.2549999952316284, 1.3330999612808228, 1.3100999593734741, 1.1239999532699585, 1.2941999435424805, 1.126099944114685, 1.0755000114440918, 1.0426000356674194, 1.1504000425338745, 0.9682999849319458, 0.3456000089645386, 0.692799985408783, 0.7835000157356262, 0.2856999933719635, 0.49540001153945923, 0.25850000977516174, -0.03440000116825104, 0.04320000112056732, 0.6083999872207642, 0.08990000188350677, 0.41780000925064087, -0.07349999994039536, 0.5067999958992004, -0.2046000063419342, 0.2353000044822693, 0.052000001072883606, -0.0017000000225380063, 0.06019999831914902, 0.023099999874830246, 0.010900000110268593, 0.06589999794960022, 0.000699999975040555, 0.4902999997138977, -0.12759999930858612, 0.06400000303983688, -0.0032999999821186066, 0.041999999433755875, -0.0006000000284984708, 1.6642999649047852, 1.6620999574661255, 1.6593999862670898, 1.6579999923706055, 1.6579999923706055, 1.6563999652862549, 1.6546000242233276, 1.6526000499725342, 1.6481000185012817, 1.645400047302246, 1.645400047302246, 1.638800024986267, 1.638800024986267, 1.6302000284194946, 1.6302000284194946, 1.6247999668121338, 1.6247999668121338, 1.6247999668121338, 1.614300012588501, 1.6105999946594238, 1.6105999946594238, 1.6105999946594238, 1.6105999946594238, 1.6104999780654907, 1.6009000539779663, 1.6009000539779663, 1.6009000539779663, 1.6009000539779663, 1.6009000539779663, 1.6009000539779663, 1.600100040435791, 1.5978000164031982, 1.5858999490737915, 1.5644999742507935, 1.5681999921798706, 1.5753999948501587, 1.542099952697754, 1.277400016784668, 1.554900050163269, 1.4782999753952026, 1.4966000318527222, 1.4212000370025635, 1.291100025177002, 1.017199993133545, 1.291200041770935, 1.3526999950408936, 1.0801000595092773, 0.12960000336170197, 0.358599990606308, 0.14059999585151672, -0.05400000140070915, 0.7799999713897705, -0.0892999991774559, 0.3427000045776367, 0.32899999618530273, 0.18960000574588776, 0.14000000059604645, 0.10300000011920929, 0.3709000051021576, -0.048700001090765, 0.05790000036358833, 0.3797999918460846, -0.021299999207258224, -0.06360000371932983, -0.18950000405311584, 0.44290000200271606, -0.12780000269412994, 0.1136000007390976, 0.49959999322891235, -0.4587000012397766, -0.17949999868869781, -0.2542000114917755, -0.06440000236034393, 0.1818999946117401, -0.003700000001117587, 1.795699954032898, 1.7926000356674194, 1.7926000356674194, 1.7914999723434448, 1.7872999906539917, 1.785599946975708, 1.7838000059127808, 1.7838000059127808, 1.7796000242233276, 1.771299958229065, 1.767699956893921, 1.7589000463485718, 1.7467999458312988, 1.7467999458312988, 1.746500015258789, 1.7388999462127686, 1.7289999723434448, 1.7289999723434448, 1.7289999723434448, 1.7289999723434448, 1.7199000120162964, 1.7181999683380127, 1.716599941253662, 1.716599941253662, 1.716599941253662, 1.716599941253662, 1.7136000394821167, 1.7021000385284424, 1.7003999948501587, 1.7003999948501587, 1.6875, 1.679900050163269, 1.6618000268936157, 1.5271999835968018, 1.6542999744415283, 1.190500020980835, 1.3327000141143799, 1.0311000347137451, 1.5964000225067139, 1.5911999940872192, 1.4178999662399292, 1.1949000358581543, 1.3726999759674072, 1.2653000354766846, 0.444599986076355, 0.6952999830245972, 0.13650000095367432, 1.0267000198364258, 0.14180000126361847, -0.057100001722574234, 0.8795999884605408, 0.16369999945163727, 0.15360000729560852, -0.08340000361204147, -0.23890000581741333, 0.08950000256299973, 0.3188000023365021, 0.0729999989271164, 0.25110000371932983, 0.20020000636577606, 0.1151999980211258, 0.12680000066757202, -0.0502999983727932, 0.29490000009536743, 0.13910000026226044, -0.11680000275373459, 0.3939000070095062, -0.186599999666214, -0.3197000026702881, 0.027899999171495438, -0.2680000066757202, 2.425600051879883, 2.4186999797821045, 2.4186999797821045, 2.415800094604492, 2.4126999378204346, 2.40910005569458, 2.404900074005127, 2.3986001014709473, 2.3921000957489014, 2.3886001110076904, 2.38100004196167, 2.3808999061584473, 2.3719000816345215, 2.3719000816345215, 2.371799945831299, 2.360599994659424, 2.346400022506714, 2.346400022506714, 2.346400022506714, 2.346400022506714, 2.346400022506714, 2.3296000957489014, 2.327899932861328, 2.327899932861328, 2.327899932861328, 2.327899932861328, 2.3278000354766846, 2.327699899673462, 2.315999984741211, 2.302799940109253, 2.3020999431610107, 2.113100051879883, 2.1666998863220215, 2.126199960708618, 2.0683000087738037, 2.1898999214172363, 2.243299961090088, 1.9155999422073364, 1.9027999639511108, 1.652999997138977, 1.5782999992370605, 1.617799997329712, 2.151099920272827, 1.6437000036239624, 1.4943000078201294, 1.424299955368042, 0.5622000098228455, 1.3890999555587769, 1.6265000104904175, 1.6016000509262085, 0.352400004863739, 1.4148000478744507, 1.2989000082015991, -0.4108999967575073, -0.47690001130104065, 0.40709999203681946, 1.011199951171875, 0.49639999866485596, 0.025599999353289604, -0.3149999976158142, -0.5342000126838684, 0.5526000261306763, 0.3091999888420105, 2.759999990463257, 2.7590999603271484, 2.743299961090088, 2.726799964904785, 2.700000047683716, 2.6816999912261963, 2.6816999912261963, 2.68149995803833, 2.669300079345703, 2.653599977493286, 2.6535000801086426, 2.6333000659942627, 2.6333000659942627, 2.6331000328063965, 2.6064000129699707, 2.605799913406372, 2.6057000160217285, 2.5664000511169434, 2.5664000511169434, 2.5664000511169434, 2.5664000511169434, 2.5664000511169434, 2.5664000511169434, 2.5664000511169434, 2.5664000511169434, 2.565999984741211, 2.529900074005127, 2.5123000144958496, 2.505199909210205, 2.505199909210205, 2.4944000244140625, 2.505199909210205, 2.505199909210205, 2.45740008354187, 2.372999906539917, 2.2427000999450684, 2.4131999015808105, 2.2846999168395996, 2.2695000171661377, 1.8567999601364136, 2.148900032043457, 2.214600086212158, 1.9318000078201294, 1.853600025177002, 1.3787000179290771, 1.9276000261306763, 1.2994999885559082, 2.0488998889923096, 2.0459001064300537, 1.2592999935150146, 1.1792000532150269, 0.26899999380111694, 1.531999945640564, 0.08259999752044678, 1.5023000240325928, -0.462799996137619, 0.21070000529289246, 0.016699999570846558, 0.8296999931335449, -0.1273999959230423, -0.4959999918937683, -0.22040000557899475, 0.32910001277923584, 0.0333000011742115, 0.41280001401901245]}, \"token.table\": {\"Topic\": [3, 3, 4, 5, 2, 4, 1, 3, 3, 1, 2, 3, 3, 1, 2, 3, 4, 5, 6, 1, 2, 3, 4, 5, 6, 1, 2, 4, 5, 2, 1, 6, 2, 3, 5, 2, 1, 2, 3, 4, 5, 6, 6, 3, 1, 2, 3, 4, 5, 6, 4, 4, 4, 2, 3, 3, 1, 6, 5, 5, 1, 2, 3, 4, 5, 6, 1, 3, 3, 2, 3, 4, 5, 3, 1, 4, 6, 2, 5, 5, 1, 2, 3, 4, 5, 6, 1, 2, 3, 1, 4, 1, 2, 3, 4, 1, 2, 3, 4, 1, 2, 3, 4, 5, 6, 1, 2, 4, 1, 2, 3, 4, 6, 1, 2, 3, 4, 5, 6, 4, 1, 2, 3, 4, 5, 6, 6, 2, 4, 3, 5, 3, 3, 5, 4, 4, 1, 3, 5, 6, 1, 2, 4, 6, 1, 2, 3, 4, 5, 6, 1, 2, 3, 4, 5, 6, 4, 3, 3, 2, 1, 2, 3, 4, 5, 6, 2, 2, 1, 2, 3, 4, 6, 1, 2, 3, 4, 4, 1, 2, 3, 4, 5, 6, 6, 1, 2, 3, 4, 5, 4, 2, 3, 3, 4, 3, 1, 2, 3, 4, 5, 6, 1, 2, 3, 4, 5, 6, 1, 2, 3, 4, 5, 6, 1, 2, 3, 4, 5, 1, 2, 3, 4, 5, 6, 1, 3, 4, 5, 1, 2, 3, 5, 1, 2, 3, 4, 5, 6, 1, 3, 4, 1, 2, 4, 5, 6, 1, 2, 3, 4, 5, 6, 1, 2, 3, 5, 6, 4, 1, 2, 3, 4, 5, 6, 5, 3, 5, 1, 2, 3, 4, 5, 6, 1, 3, 1, 2, 3, 4, 5, 6, 2, 1, 2, 3, 4, 5, 6, 3, 1, 2, 3, 4, 5, 6, 2, 6, 6, 1, 2, 3, 4, 6, 1, 1, 2, 3, 4, 5, 6, 2, 4, 4, 1, 2, 3, 4, 5, 6, 6, 3, 1, 2, 3, 4, 5, 6, 6, 2, 5, 1, 6, 1, 2, 3, 4, 6, 1, 2, 5, 1, 2, 3, 4, 5, 2, 1, 2, 3, 5, 1, 2, 5, 6, 1, 5, 6, 4, 2, 6, 1, 3, 4, 5, 2, 6, 2, 3, 4, 2, 3, 5, 1, 2, 3, 4, 5, 2, 2, 1, 5, 3, 5, 6, 1, 3, 1, 2, 3, 4, 5, 6, 2, 1, 2, 3, 4, 5, 6, 1, 4, 5, 1, 2, 4, 2, 1, 2, 3, 4, 5, 6, 1, 2, 3, 4, 5, 6, 1, 2, 5, 5, 1, 2, 3, 4, 5, 6, 1, 2, 3, 4, 5, 6, 6, 4, 1, 2, 3, 4, 5, 6, 2, 1, 2, 3, 4, 5, 6, 1, 2, 3, 4, 5, 6, 2, 1, 1, 2, 3, 5, 5, 1, 2, 1, 2, 3, 4, 5, 6, 1, 2, 3, 5, 2, 5, 2, 1, 2, 3, 4, 5, 6, 1, 2, 3, 5, 2, 4, 6, 5, 3, 1, 3, 6, 1, 2, 3, 4, 5, 2, 6, 2, 4, 1, 2, 3, 4, 5, 6, 2, 4, 4, 3, 1, 2, 3, 4, 5, 6, 4, 3, 2, 3, 4, 5, 6, 1, 2, 3, 4, 5, 1, 2, 3, 4, 5, 6, 1, 2, 3, 4, 5, 6, 1, 2, 3, 4, 5, 6, 2, 2, 1, 1, 1, 2, 3, 5, 6, 4, 1, 4, 1, 2, 3, 4, 1, 1, 3, 5, 5, 4, 6, 1, 2, 3, 4, 5, 6, 6, 6, 4, 6, 1, 2, 3, 4, 5, 6, 2, 3, 4, 1, 2, 3, 4, 5, 6, 5, 2, 3, 4, 5, 6, 2, 4, 5, 3, 5, 3, 1, 2, 6, 1, 3, 4, 2, 1, 2, 3, 4, 5, 6, 5, 6, 3, 4, 5, 3, 4, 6, 1, 2, 1, 2, 3, 4, 5, 6, 1, 2, 3, 4, 5, 6, 1, 2, 3, 4, 5, 6, 6, 2, 3, 4, 1, 2, 3, 4, 5, 6, 1, 1, 3, 4, 2, 5, 1, 2, 3, 4, 5, 6, 1, 2, 3, 4, 5, 6, 1, 2, 3, 5, 2, 5, 6, 1, 5, 3, 1, 4, 5, 6, 5, 2, 3, 4, 5, 5, 1, 1, 2, 3, 6, 1, 2, 3, 6, 3, 4, 6, 3, 1, 4, 5, 1, 2, 3, 4, 2, 5, 1, 2, 3, 4, 6, 1, 2, 3, 4, 5, 6, 2, 3, 5, 1, 2, 1, 3, 1, 2, 3, 4, 5, 6, 1, 2, 3, 4, 5, 3, 4, 5, 1, 2, 3, 4, 5, 6, 1, 5, 1, 1, 2, 3, 4, 5, 6, 1, 2, 3, 4, 5, 6, 1, 2, 3, 4, 5, 6, 1, 1, 2, 3, 4, 5, 6, 1, 2, 3, 4, 1, 2, 3, 4, 5, 6, 4, 5, 6, 1, 2, 3, 4, 6, 1, 2, 3, 4, 6, 2, 3, 6, 6, 6, 1, 2, 3, 4, 5, 6, 6, 5, 1, 2, 3, 4, 5, 3, 1, 1, 2, 3, 4, 5, 6, 2, 6, 2, 2, 3, 4, 1, 2, 3, 1, 2, 3, 4, 5, 2, 3, 6, 1, 2, 3, 4, 5, 6, 1, 2, 3, 4, 5, 6, 1, 2, 3, 4, 5, 6, 2, 1, 2, 3, 4, 5, 6, 2, 3, 4, 5, 1, 1, 2, 3, 4, 5, 6, 1, 2, 3, 4, 5, 6, 1, 2, 3, 4, 5, 6, 1, 3, 4, 5, 6, 1, 2, 3, 4, 5, 1, 2, 3, 4, 5, 6], \"Freq\": [0.923673152923584, 0.9238560199737549, 0.05774100124835968, 0.8715701103210449, 0.9771003723144531, 0.9148157835006714, 0.9715390205383301, 0.9000130295753479, 0.9616267085075378, 0.08396483212709427, 0.02798827737569809, 0.8676366209983826, 0.9755896329879761, 0.34685468673706055, 0.16988801956176758, 0.2052813470363617, 0.18404534459114075, 0.03539333492517471, 0.05662933737039566, 0.3102094531059265, 0.18834145367145538, 0.15510472655296326, 0.09971018135547638, 0.14402581751346588, 0.088631272315979, 0.8346962928771973, 0.0794948861002922, 0.0397474430501461, 0.0397474430501461, 0.9560045599937439, 0.9576375484466553, 0.8881264328956604, 0.17350661754608154, 0.7518619894981384, 0.05783553794026375, 0.8778582811355591, 0.3010357618331909, 0.24913305044174194, 0.1453276127576828, 0.1453276127576828, 0.1349470615386963, 0.02076108753681183, 0.8567811250686646, 0.9609767198562622, 0.2731878459453583, 0.19283847510814667, 0.1446288526058197, 0.19283847510814667, 0.06427948921918869, 0.1446288526058197, 0.9502211809158325, 0.840995192527771, 0.9695348143577576, 0.8755868673324585, 0.0625419169664383, 0.9252128601074219, 0.9664636254310608, 0.9393969178199768, 0.9359845519065857, 0.8786678910255432, 0.870724081993103, 0.061462875455617905, 0.030731437727808952, 0.030731437727808952, 0.010243812575936317, 0.8880198001861572, 0.9400261044502258, 0.05529565364122391, 0.9629605412483215, 0.020404605194926262, 0.020404605194926262, 0.8773980140686035, 0.08161842077970505, 0.943667471408844, 0.06499899178743362, 0.9099858403205872, 0.8399083614349365, 0.8899611830711365, 0.12713731825351715, 0.8204096555709839, 0.3572487235069275, 0.23503205180168152, 0.27263718843460083, 0.09401281923055649, 0.028203846886754036, 0.018802564591169357, 0.0718369111418724, 0.0718369111418724, 0.7902060747146606, 0.09741391241550446, 0.8767251968383789, 0.07003257423639297, 0.21009771525859833, 0.14006514847278595, 0.5602605938911438, 0.03386647254228592, 0.3047982454299927, 0.12417706847190857, 0.5305747389793396, 0.3757235109806061, 0.425819993019104, 0.10019293427467346, 0.0751447007060051, 0.012524116784334183, 0.012524116784334183, 0.06254918873310089, 0.8756886720657349, 0.06254918873310089, 0.2223871350288391, 0.6671614050865173, 0.044477429240942, 0.022238714620471, 0.044477429240942, 0.4318777024745941, 0.2141832411289215, 0.11586962640285492, 0.14747042953968048, 0.04915681108832359, 0.038623206317424774, 0.8825377225875854, 0.14417164027690887, 0.16219310462474823, 0.1261501908302307, 0.1261501908302307, 0.23427891731262207, 0.19823600351810455, 0.8090158104896545, 0.6822240352630615, 0.30321067571640015, 0.8979805111885071, 0.08979805558919907, 0.9629605412483215, 0.9252577424049377, 0.9211004376411438, 0.8825377225875854, 0.9620344042778015, 0.9358821511268616, 0.1403009593486786, 0.42090287804603577, 0.42090287804603577, 0.9599471092224121, 0.035553596913814545, 0.3841138482093811, 0.576170802116394, 0.33480048179626465, 0.29929134249687195, 0.15218202769756317, 0.12174562364816666, 0.05580007657408714, 0.030436405912041664, 0.17626714706420898, 0.02518102154135704, 0.6547065377235413, 0.05036204308271408, 0.05036204308271408, 0.02518102154135704, 0.940618097782135, 0.950468122959137, 0.950468122959137, 0.8778570890426636, 0.33079588413238525, 0.09923876821994781, 0.16539794206619263, 0.09923876821994781, 0.033079590648412704, 0.26463672518730164, 0.9022660851478577, 0.9021654725074768, 0.5655030608177185, 0.2524567246437073, 0.07068788260221481, 0.09088442474603653, 0.020196538418531418, 0.08247458934783936, 0.714779794216156, 0.10996612161397934, 0.08247458934783936, 0.9148157835006714, 0.3421371281147003, 0.2138357162475586, 0.28867819905281067, 0.09622607380151749, 0.03207535669207573, 0.03207535669207573, 0.9316887855529785, 0.049977704882621765, 0.5164362788200378, 0.049977704882621765, 0.34984391927719116, 0.049977704882621765, 0.956108570098877, 0.057609785348176956, 0.9217565655708313, 0.988124668598175, 0.9502211809158325, 0.9252128601074219, 0.32905128598213196, 0.24194946885108948, 0.13549169898033142, 0.17420361936092377, 0.02903393656015396, 0.08710180968046188, 0.2694106101989746, 0.27938878536224365, 0.15965072810649872, 0.23947608470916748, 0.029934510588645935, 0.029934510588645935, 0.1570497304201126, 0.17449969053268433, 0.12214978784322739, 0.3838993310928345, 0.06979987770318985, 0.08724984526634216, 0.15266641974449158, 0.7124432921409607, 0.016962936148047447, 0.033925872296094894, 0.08481467515230179, 0.32909607887268066, 0.20252066850662231, 0.16032886505126953, 0.2193973958492279, 0.02531508356332779, 0.06750688701868057, 0.9459843039512634, 0.03941601142287254, 0.12991616129875183, 0.7794970273971558, 0.040906377136707306, 0.8794870972633362, 0.06135956570506096, 0.020453188568353653, 0.3029017448425293, 0.2402324229478836, 0.17756310105323792, 0.18800798058509827, 0.03655710816383362, 0.05222443863749504, 0.9403232336044312, 0.040883619338274, 0.9477941393852234, 0.1831512749195099, 0.39246702194213867, 0.026164468377828598, 0.3663025498390198, 0.026164468377828598, 0.19212312996387482, 0.15369850397109985, 0.11527387797832489, 0.12808209657669067, 0.16650672256946564, 0.24335597455501556, 0.11711693555116653, 0.03903897851705551, 0.07807795703411102, 0.7027015686035156, 0.03903897851705551, 0.840995192527771, 0.03537106141448021, 0.21222637593746185, 0.24759744107723236, 0.03537106141448021, 0.07074212282896042, 0.3890816867351532, 0.8204096555709839, 0.923673152923584, 0.9741119742393494, 0.16652284562587738, 0.14987055957317352, 0.5162208080291748, 0.13321827352046967, 0.033304568380117416, 0.016652284190058708, 0.937739372253418, 0.9806109070777893, 0.32419928908348083, 0.3800957202911377, 0.22358572483062744, 0.04471714422106743, 0.022358572110533714, 0.011179286055266857, 0.97484290599823, 0.28844135999679565, 0.23169879615306854, 0.17495623230934143, 0.11821366846561432, 0.11821366846561432, 0.0661996528506279, 0.9252128601074219, 0.20899507403373718, 0.3831576406955719, 0.13062192499637604, 0.12191379070281982, 0.08708128333091736, 0.06966502219438553, 0.9258067011833191, 0.8568630218505859, 0.8400734066963196, 0.65080326795578, 0.08343631774187088, 0.06674905121326447, 0.16687263548374176, 0.8399083614349365, 0.9699183702468872, 0.39569056034088135, 0.17586247622966766, 0.11724165081977844, 0.20517288148403168, 0.02931041270494461, 0.07327602803707123, 0.9257638454437256, 0.9603192210197449, 0.9617152810096741, 0.39382967352867126, 0.12307176738977432, 0.1640956848859787, 0.17230047285556793, 0.09845741838216782, 0.05743349343538284, 0.9520450830459595, 0.9774624109268188, 0.44338172674179077, 0.2678764760494232, 0.09237119555473328, 0.055422715842723846, 0.07389695197343826, 0.07389695197343826, 0.8399083614349365, 0.9823753237724304, 0.9211524128913879, 0.9222636222839355, 0.8399083614349365, 0.32829785346984863, 0.24822519719600677, 0.22420340776443481, 0.1761598140001297, 0.02402179315686226, 0.022528164088726044, 0.8335420489311218, 0.13516898453235626, 0.16607457399368286, 0.2491118609905243, 0.11625219881534576, 0.0498223714530468, 0.4317938983440399, 0.9525200128555298, 0.03818840906023979, 0.22913046181201935, 0.6873914003372192, 0.03818840906023979, 0.2064046561717987, 0.2064046561717987, 0.06880155205726624, 0.5504124164581299, 0.17194628715515137, 0.08597314357757568, 0.6877851486206055, 0.9148157835006714, 0.9839017391204834, 0.6931017637252808, 0.048001065850257874, 0.8640192151069641, 0.048001065850257874, 0.9361531138420105, 0.37825480103492737, 0.5673822164535522, 0.82505202293396, 0.11000693589448929, 0.055003467947244644, 0.28628966212272644, 0.7157241702079773, 0.9578862190246582, 0.051255881786346436, 0.051255881786346436, 0.10251176357269287, 0.051255881786346436, 0.7175823450088501, 0.9525200128555298, 0.9385504722595215, 0.9475423097610474, 0.9211004972457886, 0.9774624109268188, 0.9359846115112305, 0.8399083614349365, 0.9748635292053223, 0.9887329339981079, 0.3616448938846588, 0.18971535563468933, 0.2104654610157013, 0.18378674983978271, 0.0355716273188591, 0.01778581365942955, 0.938550591468811, 0.32451847195625305, 0.16225923597812653, 0.17636874318122864, 0.1975329965353012, 0.07760224491357803, 0.05643799901008606, 0.09890703856945038, 0.09890703856945038, 0.791256308555603, 0.08326871693134308, 0.08326871693134308, 0.8326871991157532, 0.969855010509491, 0.1604316085577011, 0.46346908807754517, 0.17825734615325928, 0.12478014081716537, 0.026738600805401802, 0.04456433653831482, 0.3313177227973938, 0.24320131540298462, 0.21147939562797546, 0.1868067979812622, 0.021147940307855606, 0.00352465664036572, 0.9475423097610474, 0.08161316066980362, 0.8977447748184204, 0.9359846115112305, 0.25937095284461975, 0.2074967622756958, 0.25937095284461975, 0.18155966699123383, 0.05187419056892395, 0.03242136910557747, 0.27599355578422546, 0.375351220369339, 0.1435166448354721, 0.09935767948627472, 0.05519871041178703, 0.044158969074487686, 0.6931018233299255, 0.926834762096405, 0.07787301391363144, 0.20766136050224304, 0.10383068025112152, 0.5451110601425171, 0.02595767006278038, 0.02595767006278038, 0.902165412902832, 0.27899953722953796, 0.2505301833152771, 0.19359152019023895, 0.17650991678237915, 0.06832641363143921, 0.03985707461833954, 0.35530009865760803, 0.2350446879863739, 0.202247753739357, 0.15305234491825104, 0.021864620968699455, 0.03826308622956276, 0.9220235347747803, 0.9576375484466553, 0.17238867282867432, 0.17238867282867432, 0.10343319922685623, 0.5861214995384216, 0.9621347784996033, 0.9576375484466553, 0.9258233904838562, 0.378328800201416, 0.2248040735721588, 0.16723228991031647, 0.1535247266292572, 0.052088748663663864, 0.021932104602456093, 0.11550441384315491, 0.37538933753967285, 0.08662831038236618, 0.4331415593624115, 0.9021654725074768, 0.9681915640830994, 0.9763652682304382, 0.212026447057724, 0.212026447057724, 0.19358935952186584, 0.32264894247055054, 0.04609270393848419, 0.018437081947922707, 0.24173206090927124, 0.1726657599210739, 0.13813260197639465, 0.41439780592918396, 0.09427794814109802, 0.8485015034675598, 0.04713897407054901, 0.9545122385025024, 0.9000130295753479, 0.987646222114563, 0.2185746431350708, 0.7285821437835693, 0.10728446394205093, 0.2503304183483124, 0.14304596185684204, 0.03576149046421051, 0.42913785576820374, 0.13365764915943146, 0.8019458651542664, 0.9365501403808594, 0.9561085104942322, 0.2542167007923126, 0.2093549221754074, 0.40375590324401855, 0.05981568992137909, 0.014953922480344772, 0.05981568992137909, 0.9526007771492004, 0.8825377225875854, 0.8825377225875854, 0.9000130295753479, 0.3045397400856018, 0.30953219532966614, 0.2096831053495407, 0.08487173169851303, 0.05491700395941734, 0.03993963822722435, 0.9777229428291321, 0.9000129103660583, 0.2202989161014557, 0.05507472902536392, 0.05507472902536392, 0.6608967185020447, 0.6931018233299255, 0.6245232820510864, 0.11241418868303299, 0.1623760610818863, 0.04996186122298241, 0.04996186122298241, 0.10297727584838867, 0.051488637924194336, 0.051488637924194336, 0.051488637924194336, 0.6950966119766235, 0.051488637924194336, 0.41769495606422424, 0.24937011301517487, 0.16209056973457336, 0.056108277291059494, 0.0872795432806015, 0.031171264126896858, 0.4672096073627472, 0.22344806790351868, 0.11172403395175934, 0.08125384896993637, 0.07109711319208145, 0.05078365281224251, 0.97484290599823, 0.9021654725074768, 0.9358821511268616, 0.9475421905517578, 0.08951311558485031, 0.08951311558485031, 0.08951311558485031, 0.17902623116970062, 0.5370787382125854, 0.9037716388702393, 0.9785848259925842, 0.9148157835006714, 0.7622464299201965, 0.09528080374002457, 0.09528080374002457, 0.06352053582668304, 0.947542130947113, 0.9446558952331543, 0.026990167796611786, 0.026990167796611786, 0.9360613226890564, 0.9617152810096741, 0.8567811250686646, 0.22322580218315125, 0.24351905286312103, 0.17249266803264618, 0.2536656856536865, 0.05580645054578781, 0.050733137875795364, 0.9498582482337952, 0.8399083614349365, 0.954168438911438, 0.9394140839576721, 0.38477376103401184, 0.2263374924659729, 0.12071333080530167, 0.15843625366687775, 0.0452674999833107, 0.06035666540265083, 0.030016005039215088, 0.060032010078430176, 0.9004801511764526, 0.25242850184440613, 0.03606121242046356, 0.10818364471197128, 0.03606121242046356, 0.1803060621023178, 0.43273457884788513, 0.8204096555709839, 0.3419162333011627, 0.06838324666023254, 0.06838324666023254, 0.06838324666023254, 0.4786827266216278, 0.8513970971107483, 0.056759804487228394, 0.056759804487228394, 0.9000130295753479, 0.9740832448005676, 0.9000129103660583, 0.12310897558927536, 0.12310897558927536, 0.738653838634491, 0.23112158477306366, 0.13867294788360596, 0.6471404433250427, 0.9021654725074768, 0.10583726316690445, 0.3326314091682434, 0.04535882920026779, 0.04535882920026779, 0.43846866488456726, 0.030239218845963478, 0.8171499371528625, 0.10214374214410782, 0.857202410697937, 0.06122874096035957, 0.06122874096035957, 0.07332544773817062, 0.8799053430557251, 0.6931018233299255, 0.0749114528298378, 0.898937463760376, 0.418822705745697, 0.10660941898822784, 0.19798891246318817, 0.22083379328250885, 0.038074791431427, 0.015229917131364346, 0.1076056957244873, 0.15064796805381775, 0.08608455210924149, 0.17216910421848297, 0.3012959361076355, 0.15064796805381775, 0.7015886902809143, 0.20534302294254303, 0.03422383591532707, 0.05133575573563576, 0.017111917957663536, 0.8091274499893188, 0.9660022854804993, 0.043243467807769775, 0.1729738712310791, 0.7351389527320862, 0.3115217685699463, 0.3547886908054352, 0.181721031665802, 0.1298007369041443, 0.025960147380828857, 0.008653382770717144, 0.9587551355361938, 0.9475421905517578, 0.8668786883354187, 0.07223989069461823, 0.8885328769683838, 0.08462217450141907, 0.5788832306861877, 0.2961727976799011, 0.06731200218200684, 0.04038719832897186, 0.006731200031936169, 0.013462400063872337, 0.13630709052085876, 0.4089213013648987, 0.03407677263021469, 0.13630709052085876, 0.03407677263021469, 0.27261418104171753, 0.1913807988166809, 0.07655231654644012, 0.650694727897644, 0.03827615827322006, 0.02286951057612896, 0.9376499056816101, 0.02286951057612896, 0.9664636254310608, 0.932589054107666, 0.9526914358139038, 0.08354666084051132, 0.8354666233062744, 0.8851924538612366, 0.11064905673265457, 0.9359846115112305, 0.21388380229473114, 0.17823649942874908, 0.03564729914069176, 0.5703567862510681, 0.8762884736061096, 0.9913370609283447, 0.05974633991718292, 0.11949267983436584, 0.05974633991718292, 0.7169560790061951, 0.2928575873374939, 0.3709529638290405, 0.11714303493499756, 0.21476224064826965, 0.0437551811337471, 0.9188587665557861, 0.0437551811337471, 0.9526914358139038, 0.8937344551086426, 0.10724813491106033, 0.8204096555709839, 0.12312033772468567, 0.615601658821106, 0.1846805065870285, 0.08208022266626358, 0.9345470666885376, 0.06675335764884949, 0.06783769279718399, 0.13567538559436798, 0.10175654292106628, 0.6105392575263977, 0.10175654292106628, 0.19687911868095398, 0.13125275075435638, 0.04375091567635536, 0.45938462018966675, 0.17500366270542145, 0.02187545783817768, 0.04799822345376015, 0.9119662642478943, 0.9578372240066528, 0.9222636222839355, 0.9021665453910828, 0.07178829610347748, 0.8973536491394043, 0.2429383397102356, 0.185095876455307, 0.3007808029651642, 0.2429383397102356, 0.023136984556913376, 0.011568492278456688, 0.21196310222148895, 0.0942058265209198, 0.21196310222148895, 0.1413087397813797, 0.3297203779220581, 0.16740219295024872, 0.83701092004776, 0.8204096555709839, 0.411859393119812, 0.23681916296482086, 0.1595955193042755, 0.13385429978370667, 0.03088945522904396, 0.02574121206998825, 0.18172365427017212, 0.7268946170806885, 0.9576376080513, 0.3554712235927582, 0.23925946652889252, 0.2529314458370209, 0.11621174216270447, 0.006835984997451305, 0.02050795406103134, 0.4014755189418793, 0.12513522803783417, 0.26591235399246216, 0.1772749125957489, 0.01564190350472927, 0.01564190350472927, 0.35831987857818604, 0.1535656601190567, 0.07678283005952835, 0.051188550889492035, 0.35831987857818604, 0.025594275444746017, 0.9794411063194275, 0.27588576078414917, 0.3283040523529053, 0.1738080233335495, 0.12690745294094086, 0.055177152156829834, 0.038624007254838943, 0.8961178660392761, 0.055145714432001114, 0.055145714432001114, 0.9396139979362488, 0.2630779445171356, 0.04384632408618927, 0.04384632408618927, 0.0657694861292839, 0.1973084658384323, 0.3946169316768646, 0.055996306240558624, 0.2799815535545349, 0.6719557046890259, 0.035547658801078796, 0.7465008497238159, 0.10664298385381699, 0.10664298385381699, 0.035547658801078796, 0.14299948513507843, 0.14299948513507843, 0.5481646656990051, 0.16683273017406464, 0.8399083614349365, 0.06555662304162979, 0.7866795063018799, 0.06555662304162979, 0.9419830441474915, 0.8090282678604126, 0.4111731946468353, 0.19188083708286285, 0.15761639177799225, 0.16446928679943085, 0.03426443412899971, 0.04111732169985771, 0.8399083614349365, 0.9079757332801819, 0.1623058319091797, 0.11593274027109146, 0.25505203008651733, 0.11593274027109146, 0.347798228263855, 0.9629605412483215, 0.9873400926589966, 0.23551543056964874, 0.20667681097984314, 0.1441931277513504, 0.19225749373435974, 0.14899955689907074, 0.08170943707227707, 0.922023355960846, 0.9552537798881531, 0.9839017391204834, 0.24178917706012726, 0.09671566635370255, 0.6770097017288208, 0.9599471092224121, 0.035553596913814545, 0.9252129793167114, 0.38143470883369446, 0.23158535361289978, 0.18390601873397827, 0.18390601873397827, 0.020434001460671425, 0.09243116527795792, 0.09243116527795792, 0.7394493222236633, 0.09978124499320984, 0.37061604857444763, 0.014254462905228138, 0.18530802428722382, 0.09978124499320984, 0.2280714064836502, 0.19483022391796112, 0.10823900997638702, 0.04329560324549675, 0.06494341045618057, 0.021647801622748375, 0.5844906568527222, 0.326475590467453, 0.2461947202682495, 0.22478647530078888, 0.1445055902004242, 0.021408235654234886, 0.04281647130846977, 0.9627224206924438, 0.12952278554439545, 0.18133190274238586, 0.18133190274238586, 0.09066595137119293, 0.41447293758392334, 0.012952279299497604, 0.03508031740784645, 0.017540158703923225, 0.017540158703923225, 0.9296283721923828, 0.9475421905517578, 0.3743356168270111, 0.26738259196281433, 0.16042955219745636, 0.06238926947116852, 0.1158657819032669, 0.017825504764914513, 0.4147338271141052, 0.23441477119922638, 0.1743084192276001, 0.09015952795743942, 0.03005317598581314, 0.06010635197162628, 0.20289911329746246, 0.20289911329746246, 0.26465103030204773, 0.1852557212114334, 0.12350381165742874, 0.0088217006996274, 0.27270418405532837, 0.13635209202766418, 0.06817604601383209, 0.06817604601383209, 0.47723233699798584, 0.31480759382247925, 0.1259230375289917, 0.07555381953716278, 0.4533229172229767, 0.02518460713326931, 0.4308677017688751, 0.2524275481700897, 0.15232697129249573, 0.078339584171772, 0.06093078479170799, 0.026113193482160568], \"Term\": [\"adolescence\", \"adolescent\", \"adolescent\", \"ailment\", \"alec\", \"analyst\", \"andy\", \"angels\", \"angie\", \"anti\", \"anti\", \"anti\", \"arlene\", \"ask\", \"ask\", \"ask\", \"ask\", \"ask\", \"ask\", \"away\", \"away\", \"away\", \"away\", \"away\", \"away\", \"ball\", \"ball\", \"ball\", \"ball\", \"barco\", \"bari\", \"barney\", \"battle\", \"battle\", \"battle\", \"beauclerk\", \"begin\", \"begin\", \"begin\", \"begin\", \"begin\", \"begin\", \"bienville\", \"blanche\", \"body\", \"body\", \"body\", \"body\", \"body\", \"body\", \"borden\", \"boycott\", \"bridget\", \"brooklyn\", \"brooklyn\", \"burnside\", \"burton\", \"bury\", \"calderone\", \"cancer\", \"car\", \"car\", \"car\", \"car\", \"car\", \"carolina\", \"casey\", \"casey\", \"catholics\", \"cattle\", \"cattle\", \"cattle\", \"cattle\", \"chandler\", \"charlie\", \"charlie\", \"chickasaws\", \"chicken\", \"chicken\", \"chien\", \"child\", \"child\", \"child\", \"child\", \"child\", \"child\", \"childhood\", \"childhood\", \"childhood\", \"christ\", \"christ\", \"christian\", \"christian\", \"christian\", \"christian\", \"church\", \"church\", \"church\", \"church\", \"city\", \"city\", \"city\", \"city\", \"city\", \"city\", \"clark\", \"clark\", \"clark\", \"class\", \"class\", \"class\", \"class\", \"class\", \"come\", \"come\", \"come\", \"come\", \"come\", \"come\", \"commercial\", \"company\", \"company\", \"company\", \"company\", \"company\", \"company\", \"concessionaire\", \"congregation\", \"congregation\", \"congress\", \"congress\", \"congressman\", \"conrad\", \"cork\", \"corso\", \"cowboy\", \"crombie\", \"cure\", \"cure\", \"cure\", \"dartmouth\", \"dartmouth\", \"dave\", \"dave\", \"day\", \"day\", \"day\", \"day\", \"day\", \"day\", \"department\", \"department\", \"department\", \"department\", \"department\", \"department\", \"di\", \"diane\", \"diffusion\", \"digby\", \"district\", \"district\", \"district\", \"district\", \"district\", \"district\", \"docherty\", \"dogtown\", \"door\", \"door\", \"door\", \"door\", \"door\", \"dream\", \"dream\", \"dream\", \"dream\", \"dumont\", \"early\", \"early\", \"early\", \"early\", \"early\", \"early\", \"earthquake\", \"economic\", \"economic\", \"economic\", \"economic\", \"economic\", \"ecumenical\", \"eichmann\", \"eichmann\", \"ekstrohm\", \"elaine\", \"erikson\", \"eye\", \"eye\", \"eye\", \"eye\", \"eye\", \"eye\", \"fact\", \"fact\", \"fact\", \"fact\", \"fact\", \"fact\", \"fall\", \"fall\", \"fall\", \"fall\", \"fall\", \"fall\", \"farm\", \"farm\", \"farm\", \"farm\", \"farm\", \"feel\", \"feel\", \"feel\", \"feel\", \"feel\", \"feel\", \"felix\", \"felix\", \"fence\", \"fence\", \"film\", \"film\", \"film\", \"film\", \"find\", \"find\", \"find\", \"find\", \"find\", \"find\", \"fogg\", \"fogg\", \"folklore\", \"food\", \"food\", \"food\", \"food\", \"food\", \"foot\", \"foot\", \"foot\", \"foot\", \"foot\", \"foot\", \"fort\", \"fort\", \"fort\", \"fort\", \"fort\", \"fountain\", \"french\", \"french\", \"french\", \"french\", \"french\", \"french\", \"garry\", \"garryowen\", \"garth\", \"general\", \"general\", \"general\", \"general\", \"general\", \"general\", \"giffen\", \"gilborn\", \"girl\", \"girl\", \"girl\", \"girl\", \"girl\", \"girl\", \"glendora\", \"good\", \"good\", \"good\", \"good\", \"good\", \"good\", \"goulding\", \"great\", \"great\", \"great\", \"great\", \"great\", \"great\", \"griffith\", \"grosse\", \"guardino\", \"gun\", \"gun\", \"gun\", \"gun\", \"habitant\", \"hal\", \"hand\", \"hand\", \"hand\", \"hand\", \"hand\", \"hand\", \"handley\", \"haney\", \"harlem\", \"head\", \"head\", \"head\", \"head\", \"head\", \"head\", \"helva\", \"hesperus\", \"high\", \"high\", \"high\", \"high\", \"high\", \"high\", \"hilo\", \"hoag\", \"hohlbein\", \"holden\", \"honolulu\", \"house\", \"house\", \"house\", \"house\", \"house\", \"hudson\", \"hudson\", \"hudson\", \"husband\", \"husband\", \"husband\", \"husband\", \"husband\", \"hyman\", \"identity\", \"identity\", \"identity\", \"identity\", \"indian\", \"indian\", \"indian\", \"indian\", \"indians\", \"indians\", \"indians\", \"injustice\", \"integration\", \"itch\", \"jack\", \"jack\", \"jack\", \"jarrodsville\", \"jeep\", \"jeep\", \"jewish\", \"jewish\", \"jewish\", \"jews\", \"jews\", \"johnston\", \"jones\", \"jones\", \"jones\", \"jones\", \"jones\", \"jubal\", \"juet\", \"julia\", \"kearton\", \"kennedy\", \"kernel\", \"kerosene\", \"killpath\", \"kitti\", \"know\", \"know\", \"know\", \"know\", \"know\", \"know\", \"lao\", \"leave\", \"leave\", \"leave\", \"leave\", \"leave\", \"leave\", \"lee\", \"lee\", \"lee\", \"legend\", \"legend\", \"legend\", \"letch\", \"life\", \"life\", \"life\", \"life\", \"life\", \"life\", \"like\", \"like\", \"like\", \"like\", \"like\", \"like\", \"linguist\", \"lion\", \"lion\", \"lioness\", \"little\", \"little\", \"little\", \"little\", \"little\", \"little\", \"live\", \"live\", \"live\", \"live\", \"live\", \"live\", \"livre\", \"lizzie\", \"local\", \"local\", \"local\", \"local\", \"local\", \"local\", \"lolotte\", \"long\", \"long\", \"long\", \"long\", \"long\", \"long\", \"look\", \"look\", \"look\", \"look\", \"look\", \"look\", \"lucien\", \"lucy\", \"machine\", \"machine\", \"machine\", \"machine\", \"madden\", \"mae\", \"mahzeer\", \"man\", \"man\", \"man\", \"man\", \"man\", \"man\", \"marriage\", \"marriage\", \"marriage\", \"marriage\", \"mars\", \"marty\", \"maude\", \"mean\", \"mean\", \"mean\", \"mean\", \"mean\", \"mean\", \"medical\", \"medical\", \"medical\", \"medical\", \"medium\", \"medium\", \"medium\", \"meeker\", \"mel\", \"mercer\", \"mickey\", \"mickey\", \"million\", \"million\", \"million\", \"million\", \"million\", \"mobile\", \"mobile\", \"moreland\", \"morse\", \"mother\", \"mother\", \"mother\", \"mother\", \"mother\", \"mother\", \"muller\", \"mullins\", \"nationalism\", \"nazi\", \"new\", \"new\", \"new\", \"new\", \"new\", \"new\", \"nick\", \"nogol\", \"nut\", \"nut\", \"nut\", \"nut\", \"observer\", \"office\", \"office\", \"office\", \"office\", \"office\", \"oil\", \"oil\", \"oil\", \"oil\", \"oil\", \"oil\", \"old\", \"old\", \"old\", \"old\", \"old\", \"old\", \"open\", \"open\", \"open\", \"open\", \"open\", \"open\", \"opium\", \"optation\", \"orthodontic\", \"orthodontist\", \"pacific\", \"pacific\", \"pacific\", \"pacific\", \"pacific\", \"palazzo\", \"palfrey\", \"pam\", \"park\", \"park\", \"park\", \"park\", \"parking\", \"patent\", \"patent\", \"patent\", \"pauling\", \"payne\", \"pelt\", \"people\", \"people\", \"people\", \"people\", \"people\", \"people\", \"perier\", \"pest\", \"piazza\", \"pit\", \"place\", \"place\", \"place\", \"place\", \"place\", \"place\", \"poet\", \"poet\", \"poet\", \"post\", \"post\", \"post\", \"post\", \"post\", \"post\", \"prairie\", \"price\", \"price\", \"price\", \"price\", \"price\", \"prime\", \"prime\", \"prime\", \"pulley\", \"quack\", \"radish\", \"razor\", \"razor\", \"razor\", \"reading\", \"reading\", \"reading\", \"recruit\", \"red\", \"red\", \"red\", \"red\", \"red\", \"red\", \"reef\", \"reef\", \"regiment\", \"regiment\", \"regiment\", \"resistance\", \"resistance\", \"restriction\", \"rev\", \"rev\", \"right\", \"right\", \"right\", \"right\", \"right\", \"right\", \"river\", \"river\", \"river\", \"river\", \"river\", \"river\", \"road\", \"road\", \"road\", \"road\", \"road\", \"roberta\", \"roberts\", \"rome\", \"rome\", \"rome\", \"room\", \"room\", \"room\", \"room\", \"room\", \"room\", \"rourke\", \"ruth\", \"ryan\", \"ryan\", \"sarah\", \"sarah\", \"school\", \"school\", \"school\", \"school\", \"school\", \"school\", \"sea\", \"sea\", \"sea\", \"sea\", \"sea\", \"sea\", \"secretary\", \"secretary\", \"secretary\", \"secretary\", \"seed\", \"seed\", \"seed\", \"selden\", \"selkirk\", \"semitism\", \"sensitive\", \"sensitive\", \"settlement\", \"settlement\", \"settler\", \"sexual\", \"sexual\", \"sexual\", \"sexual\", \"shaefer\", \"shayne\", \"shell\", \"shell\", \"shell\", \"shell\", \"ship\", \"ship\", \"ship\", \"ship\", \"sitter\", \"sitter\", \"sitter\", \"skyros\", \"slave\", \"slave\", \"snelling\", \"social\", \"social\", \"social\", \"social\", \"soil\", \"soil\", \"soldier\", \"soldier\", \"soldier\", \"soldier\", \"soldier\", \"south\", \"south\", \"south\", \"south\", \"south\", \"south\", \"soviet\", \"soviet\", \"soybean\", \"spelman\", \"stacy\", \"stanley\", \"stanley\", \"state\", \"state\", \"state\", \"state\", \"state\", \"state\", \"states\", \"states\", \"states\", \"states\", \"states\", \"stranger\", \"stranger\", \"swiss\", \"tell\", \"tell\", \"tell\", \"tell\", \"tell\", \"tell\", \"thayer\", \"thayer\", \"therapist\", \"thing\", \"thing\", \"thing\", \"thing\", \"thing\", \"thing\", \"think\", \"think\", \"think\", \"think\", \"think\", \"think\", \"thousand\", \"thousand\", \"thousand\", \"thousand\", \"thousand\", \"thousand\", \"tim\", \"time\", \"time\", \"time\", \"time\", \"time\", \"time\", \"tooth\", \"tooth\", \"tooth\", \"torrio\", \"trade\", \"trade\", \"trade\", \"trade\", \"trade\", \"trade\", \"trader\", \"trader\", \"trader\", \"train\", \"train\", \"train\", \"train\", \"train\", \"trial\", \"trial\", \"trial\", \"trial\", \"tribe\", \"troop\", \"troop\", \"troop\", \"tsunami\", \"tunnel\", \"turn\", \"turn\", \"turn\", \"turn\", \"turn\", \"turn\", \"turpentine\", \"ulyate\", \"united\", \"united\", \"united\", \"united\", \"united\", \"unwed\", \"upton\", \"use\", \"use\", \"use\", \"use\", \"use\", \"use\", \"vagina\", \"vince\", \"viola\", \"violent\", \"violent\", \"violent\", \"vocational\", \"vocational\", \"walton\", \"want\", \"want\", \"want\", \"want\", \"want\", \"wart\", \"wart\", \"wart\", \"water\", \"water\", \"water\", \"water\", \"water\", \"water\", \"wave\", \"wave\", \"wave\", \"wave\", \"wave\", \"wave\", \"way\", \"way\", \"way\", \"way\", \"way\", \"way\", \"welch\", \"wife\", \"wife\", \"wife\", \"wife\", \"wife\", \"wife\", \"wine\", \"wine\", \"wine\", \"wine\", \"winslow\", \"woman\", \"woman\", \"woman\", \"woman\", \"woman\", \"woman\", \"work\", \"work\", \"work\", \"work\", \"work\", \"work\", \"world\", \"world\", \"world\", \"world\", \"world\", \"world\", \"wound\", \"wound\", \"wound\", \"wound\", \"wound\", \"write\", \"write\", \"write\", \"write\", \"write\", \"year\", \"year\", \"year\", \"year\", \"year\", \"year\"]}, \"R\": 30, \"lambda.step\": 0.01, \"plot.opts\": {\"xlab\": \"PC1\", \"ylab\": \"PC2\"}, \"topic.order\": [2, 5, 3, 4, 1, 6]};\n",
       "\n",
       "function LDAvis_load_lib(url, callback){\n",
       "  var s = document.createElement('script');\n",
       "  s.src = url;\n",
       "  s.async = true;\n",
       "  s.onreadystatechange = s.onload = callback;\n",
       "  s.onerror = function(){console.warn(\"failed to load library \" + url);};\n",
       "  document.getElementsByTagName(\"head\")[0].appendChild(s);\n",
       "}\n",
       "\n",
       "if(typeof(LDAvis) !== \"undefined\"){\n",
       "   // already loaded: just create the visualization\n",
       "   !function(LDAvis){\n",
       "       new LDAvis(\"#\" + \"ldavis_el5500420544520435929859101674\", ldavis_el5500420544520435929859101674_data);\n",
       "   }(LDAvis);\n",
       "}else if(typeof define === \"function\" && define.amd){\n",
       "   // require.js is available: use it to load d3/LDAvis\n",
       "   require.config({paths: {d3: \"https://cdnjs.cloudflare.com/ajax/libs/d3/3.5.5/d3.min\"}});\n",
       "   require([\"d3\"], function(d3){\n",
       "      window.d3 = d3;\n",
       "      LDAvis_load_lib(\"https://cdn.rawgit.com/bmabey/pyLDAvis/files/ldavis.v1.0.0.js\", function(){\n",
       "        new LDAvis(\"#\" + \"ldavis_el5500420544520435929859101674\", ldavis_el5500420544520435929859101674_data);\n",
       "      });\n",
       "    });\n",
       "}else{\n",
       "    // require.js not available: dynamically load d3 & LDAvis\n",
       "    LDAvis_load_lib(\"https://cdnjs.cloudflare.com/ajax/libs/d3/3.5.5/d3.min.js\", function(){\n",
       "         LDAvis_load_lib(\"https://cdn.rawgit.com/bmabey/pyLDAvis/files/ldavis.v1.0.0.js\", function(){\n",
       "                 new LDAvis(\"#\" + \"ldavis_el5500420544520435929859101674\", ldavis_el5500420544520435929859101674_data);\n",
       "            })\n",
       "         });\n",
       "}\n",
       "</script>"
      ],
      "text/plain": [
       "PreparedData(topic_coordinates=              x         y  topics  cluster       Freq\n",
       "topic                                                \n",
       "1     -0.069281 -0.012137       1        1  27.594244\n",
       "4     -0.036524  0.020683       2        1  23.233332\n",
       "2     -0.061107  0.017908       3        1  18.400135\n",
       "3     -0.055620 -0.002756       4        1  16.155931\n",
       "0      0.127002  0.099116       5        1   8.468583\n",
       "5      0.095530 -0.122814       6        1   6.147770, topic_info=        Term       Freq       Total Category  logprob  loglift\n",
       "5703    wine  57.000000   57.000000  Default  30.0000  30.0000\n",
       "6392    seed  43.000000   43.000000  Default  29.0000  29.0000\n",
       "1282    wave  46.000000   46.000000  Default  28.0000  28.0000\n",
       "2049    wife  77.000000   77.000000  Default  27.0000  27.0000\n",
       "1524     red  66.000000   66.000000  Default  26.0000  26.0000\n",
       "...      ...        ...         ...      ...      ...      ...\n",
       "89      come  10.662329  284.802856   Topic6  -6.0953  -0.4960\n",
       "355   people   9.720898  197.109833   Topic6  -6.1878  -0.2204\n",
       "165      eye   8.827966  103.327362   Topic6  -6.2841   0.3291\n",
       "1165   place   8.424716  132.545425   Topic6  -6.3309   0.0333\n",
       "36      away   8.385290   90.261597   Topic6  -6.3356   0.4128\n",
       "\n",
       "[448 rows x 6 columns], token_table=       Topic      Freq         Term\n",
       "term                               \n",
       "10763      3  0.923673  adolescence\n",
       "7569       3  0.923856   adolescent\n",
       "7569       4  0.057741   adolescent\n",
       "7171       5  0.871570      ailment\n",
       "5275       2  0.977100         alec\n",
       "...      ...       ...          ...\n",
       "963        2  0.252428         year\n",
       "963        3  0.152327         year\n",
       "963        4  0.078340         year\n",
       "963        5  0.060931         year\n",
       "963        6  0.026113         year\n",
       "\n",
       "[918 rows x 3 columns], R=30, lambda_step=0.01, plot_opts={'xlab': 'PC1', 'ylab': 'PC2'}, topic_order=[2, 5, 3, 4, 1, 6])"
      ]
     },
     "execution_count": 25,
     "metadata": {},
     "output_type": "execute_result"
    }
   ],
   "source": [
    "pyLDAvis.enable_notebook()\n",
    "pyLDAvis.gensim.prepare(lda_model, corpus, words)"
   ]
  },
  {
   "cell_type": "markdown",
   "metadata": {},
   "source": [
    "You can see that there are very distinct topics for topic 5 and 6. Topics 1-4 are all pretty overlapping, but I know from Attempt 6 that reducing my topic numbers to 3 topics does not actually improve the LDA model results. Overall, the most distinct word groups have resulted from using 6 topics, so I will base the rest of my analysis on the use of six topics. \n",
    "\n",
    "Topic 0 (5 in the visualization) uses words like 'wine', 'husband', 'wife', 'sexual', and 'marriage'. It could be centered on marriage or relationships in general.\n",
    "\n",
    "Topic 1-4 are very similar. Common words include 'time', 'man', 'like', 'know', and 'year'.\n",
    "\n",
    "Topic 5 (6 in the visualization) uses words like 'water', 'waves', 'tsunami', and 'earthquakes', 'mickey', and 'wart'. This topic could be focused on nature, natural disasters, or partially on water.\n",
    "\n"
   ]
  },
  {
   "cell_type": "markdown",
   "metadata": {},
   "source": [
    "__Looking at the probability of each article belonging to each of the orgiginal categories__"
   ]
  },
  {
   "cell_type": "code",
   "execution_count": 26,
   "metadata": {},
   "outputs": [],
   "source": [
    "topic_assignments = defaultdict(list)\n",
    "\n",
    "for category in ['science_fiction','humor','lore','mystery'] :\n",
    "    for file_id in brown.fileids(categories=category) :\n",
    "\n",
    "        doc = brown.words(fileids=file_id)\n",
    "        pr = nlp(\" \".join(doc))\n",
    "        doc = [t.lower() for t in pr if t.isalpha()]\n",
    "        doc_new = words.doc2bow(doc)\n",
    "\n",
    "        topic_probs = lda_model[doc_new][0]\n",
    "        topic = max(topic_probs,key=lambda x: x[1])\n",
    "        topic_assignments[category].append(topic[0])"
   ]
  },
  {
   "cell_type": "code",
   "execution_count": 27,
   "metadata": {},
   "outputs": [
    {
     "name": "stdout",
     "output_type": "stream",
     "text": [
      "In science_fiction we had the following:\n",
      "    2 articles were classified as topic 1.\n",
      "    2 articles were classified as topic 2.\n",
      "    1 articles were classified as topic 4.\n",
      "    1 articles were classified as topic 5.\n",
      "In humor we had the following:\n",
      "    4 articles were classified as topic 4.\n",
      "    4 articles were classified as topic 2.\n",
      "    1 articles were classified as topic 1.\n",
      "In lore we had the following:\n",
      "    11 articles were classified as topic 4.\n",
      "    10 articles were classified as topic 1.\n",
      "    10 articles were classified as topic 3.\n",
      "    8 articles were classified as topic 2.\n",
      "    6 articles were classified as topic 0.\n",
      "    3 articles were classified as topic 5.\n",
      "In mystery we had the following:\n",
      "    11 articles were classified as topic 1.\n",
      "    5 articles were classified as topic 3.\n",
      "    4 articles were classified as topic 4.\n",
      "    2 articles were classified as topic 2.\n",
      "    1 articles were classified as topic 5.\n",
      "    1 articles were classified as topic 0.\n"
     ]
    }
   ],
   "source": [
    "for cat, topic_list in topic_assignments.items() :\n",
    "    print(f\"In {cat} we had the following:\")\n",
    "    topic_count = Counter(topic_list).most_common()\n",
    "    \n",
    "    for topic, count in topic_count : \n",
    "        print(f\"    {count} articles were classified as topic {topic}.\")\n",
    "    \n",
    "    "
   ]
  },
  {
   "cell_type": "markdown",
   "metadata": {},
   "source": [
    "Even though it seems like most distinct word relationships came out of indicating six different topics, there still aren't too many genres that have distinct topics. \n",
    "\n",
    "11 articles were classified into topic 1 under mystery, which is the the highest number of articles for the category. Topic 1 includes words like 'man', 'time', 'school', 'car', and 'tooth'. The words seem hard to connect, but they still represent mystery better than the other topics.\n",
    "\n",
    "Lore seems to encompass topics 1, 3, and 4. As far as how many articles fit under these topics, each topic was nearly tied.\n",
    "\n",
    "Humor seems to encompass topics 2 and 4. Topic 4 contains msot of the instances of the words 'cattle' and 'poet'. Topic 2 contains most of the instances of 'film', 'hudson', and 'farm'.\n",
    "\n",
    "Science Fiction seems to encompass all topics but topics 3 and 0, which I previously thought to be centered on marriage and/or relationships.\n"
   ]
  },
  {
   "cell_type": "markdown",
   "metadata": {},
   "source": [
    "Overall, selecting six topics for the LDA model led to two topics that appeared pretty distinct from all the other topics. While the other four topics were pretty overlapping, reducing the amount of topics didn't actually improve the relatedness of words in the new topics. \n",
    "\n",
    "Mystery seems to be well-represented by topic 1. Topic 1 also helps represent lore, but topic 3 and 4 also represent lore pretty equally. I can also rule out topics 0, 2, and 5 because of the few number of articles that fit those topics. Humor is most represented by topics 2 and 4, but is not well represented by any other topics. Science fiction is covered by a lot of topics equally, although it does not involve topic 3 or 0.\n",
    "\n",
    "Since topic 3 is only representing mystery and lore, topic 3 could be representative of these two fairly related topics. Topic 0 is only omitted from humor and science fiction, and topic 0 is one of the fairly distinct topics (presumed to include relationships/marriage). The omission of these topics from humor and science fiction was surprising."
   ]
  }
 ],
 "metadata": {
  "kernelspec": {
   "display_name": "Python 3",
   "language": "python",
   "name": "python3"
  },
  "language_info": {
   "codemirror_mode": {
    "name": "ipython",
    "version": 3
   },
   "file_extension": ".py",
   "mimetype": "text/x-python",
   "name": "python",
   "nbconvert_exporter": "python",
   "pygments_lexer": "ipython3",
   "version": "3.7.6"
  }
 },
 "nbformat": 4,
 "nbformat_minor": 4
}
