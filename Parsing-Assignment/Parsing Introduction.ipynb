{
 "cells": [
  {
   "cell_type": "markdown",
   "metadata": {},
   "source": [
    "We're going to use the [spaCy](https://spacy.io/) grammar and parsing functionality for this first part. That means you need to run the following two lines at the command line: \n",
    "```\n",
    "pip install -U spacy\n",
    "python -m spacy download en_core_web_sm\n",
    "```\n",
    "\n",
    "We also make use of the SVO parser found [here](https://github.com/NSchrading/intro-spacy-nlp). The entire introductory notebook is pretty cool. "
   ]
  },
  {
   "cell_type": "code",
   "execution_count": 1,
   "metadata": {},
   "outputs": [],
   "source": [
    "import nltk\n",
    "import sqlite3\n",
    "import spacy\n",
    "from subject_object_extraction import findSVOs"
   ]
  },
  {
   "cell_type": "code",
   "execution_count": 2,
   "metadata": {},
   "outputs": [],
   "source": [
    "# Set up our parser\n",
    "parser = spacy.load('en_core_web_sm')"
   ]
  },
  {
   "cell_type": "markdown",
   "metadata": {},
   "source": [
    "Works pretty well on simple sentences."
   ]
  },
  {
   "cell_type": "code",
   "execution_count": 3,
   "metadata": {},
   "outputs": [
    {
     "name": "stdout",
     "output_type": "stream",
     "text": [
      "[('party', 'remain', 'voice')]\n"
     ]
    }
   ],
   "source": [
    "doc = parser(\"The Republican Party will remain the voice of America\") #the patriotic heroes who keep America safe and salute the American flag.\")\n",
    "print(findSVOs(doc))"
   ]
  },
  {
   "cell_type": "markdown",
   "metadata": {},
   "source": [
    "And includes a tremendous about of information about the words. Look at the below and see if you can figure out what these elements mean."
   ]
  },
  {
   "cell_type": "code",
   "execution_count": 4,
   "metadata": {},
   "outputs": [
    {
     "name": "stdout",
     "output_type": "stream",
     "text": [
      "The            DT   det       DET       Party\n",
      "Republican     NNP  compound  PROPN     Party\n",
      "Party          NNP  nsubj     PROPN     remain\n",
      "will           MD   aux       VERB      remain\n",
      "remain         VB   ROOT      VERB      remain\n",
      "the            DT   det       DET       voice\n",
      "voice          NN   attr      NOUN      remain\n",
      "of             IN   prep      ADP       voice\n",
      "America        NNP  pobj      PROPN     of\n"
     ]
    }
   ],
   "source": [
    "for word in doc :\n",
    "    print(f'{word.text:<15}{word.tag_:<5}{word.dep_:<10}{word.pos_:<10}{word.head.text}')"
   ]
  },
  {
   "cell_type": "markdown",
   "metadata": {},
   "source": [
    "In fact, each element of these parsed docs is a \"token\" which is a spaCy object."
   ]
  },
  {
   "cell_type": "code",
   "execution_count": 5,
   "metadata": {},
   "outputs": [
    {
     "data": {
      "text/plain": [
       "spacy.tokens.token.Token"
      ]
     },
     "execution_count": 5,
     "metadata": {},
     "output_type": "execute_result"
    }
   ],
   "source": [
    "type(word)"
   ]
  },
  {
   "cell_type": "markdown",
   "metadata": {},
   "source": [
    "Use the cell below to see all the attributes and methods that the token has:"
   ]
  },
  {
   "cell_type": "code",
   "execution_count": 7,
   "metadata": {},
   "outputs": [
    {
     "data": {
      "text/plain": [
       "America"
      ]
     },
     "execution_count": 7,
     "metadata": {},
     "output_type": "execute_result"
    }
   ],
   "source": [
    "word"
   ]
  },
  {
   "cell_type": "markdown",
   "metadata": {},
   "source": [
    "This parser has a slightly harder time with more complicated structures."
   ]
  },
  {
   "cell_type": "code",
   "execution_count": 8,
   "metadata": {},
   "outputs": [
    {
     "name": "stdout",
     "output_type": "stream",
     "text": [
      "[('party', 'remain', 'voice'), ('who', 'keep', 'america'), ('who', 'keep', 'safe'), ('heroes', 'salute', 'flag')]\n"
     ]
    }
   ],
   "source": [
    "doc = parser(\n",
    "    \"The Republican Party will remain the voice of the patriotic heroes who keep America safe and salute the American flag.\"\n",
    ")\n",
    "print(findSVOs(doc))"
   ]
  },
  {
   "cell_type": "markdown",
   "metadata": {},
   "source": [
    "It can also work with multiple sentences, but again not all SVOs will be extracted correctly."
   ]
  },
  {
   "cell_type": "code",
   "execution_count": 9,
   "metadata": {},
   "outputs": [],
   "source": [
    "doc = parser(\"\"\"\n",
    "    They call them peaceful protestors. \n",
    "    We’re honored to be joined tonight by his wonderful wife Ann, \n",
    "    and beloved family members Brian and [inaudible]. \n",
    "    To each of you, we will never forget the heroic legacy of Captain David Dorn. \n",
    "    Thank you very much for being here. \n",
    "    Thank you. Thank you very much. \n",
    "    Great man. Great man. \n",
    "    As long as I am President, we will defend the absolute right of every American citizen \n",
    "    to live in security, dignity, and peace. \n",
    "    If the Democrat Party wants to stand with anarchists, agitators, rioters, \n",
    "    looters, and flag burners, that is up to them. \n",
    "    But I, as your President, will not be a part of it. \n",
    "    The Republican Party will remain the voice of the patriotic \n",
    "    heroes who keep America safe and salute the American flag.\n",
    "\"\"\")"
   ]
  },
  {
   "cell_type": "code",
   "execution_count": 10,
   "metadata": {},
   "outputs": [
    {
     "name": "stdout",
     "output_type": "stream",
     "text": [
      "[('they', 'call', 'them'), ('they', 'call', 'protestors'), ('we', '!forget', 'legacy'), ('we', 'defend', 'right'), ('party', 'stand', 'anarchists'), ('party', 'remain', 'voice'), ('who', 'keep', 'america'), ('who', 'keep', 'safe'), ('heroes', 'salute', 'flag')]\n"
     ]
    }
   ],
   "source": [
    "print(findSVOs(doc))"
   ]
  },
  {
   "cell_type": "markdown",
   "metadata": {},
   "source": [
    "Notice what sort of object is returned and appreciate the fact that you could store and analyze these. "
   ]
  }
 ],
 "metadata": {
  "kernelspec": {
   "display_name": "Python 3",
   "language": "python",
   "name": "python3"
  },
  "language_info": {
   "codemirror_mode": {
    "name": "ipython",
    "version": 3
   },
   "file_extension": ".py",
   "mimetype": "text/x-python",
   "name": "python",
   "nbconvert_exporter": "python",
   "pygments_lexer": "ipython3",
   "version": "3.7.6"
  }
 },
 "nbformat": 4,
 "nbformat_minor": 4
}
