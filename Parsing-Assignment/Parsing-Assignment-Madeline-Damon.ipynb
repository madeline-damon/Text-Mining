{
 "cells": [
  {
   "cell_type": "markdown",
   "metadata": {},
   "source": [
    "# Subject / Verb / Objects in Democratic and Republican National Conventions\n",
    "\n",
    "In this assignment I pulled in convention transcript text files I created in the Scraping Conventions assignment. After obtaining these text files, I was able to identify lists of common SVOs for each night of both the Democratic National Convention and Republican National Convention. I look at both the most common SVOs for each of the four nights as well as the most common SVOs for the transcripts when they are combined."
   ]
  },
  {
   "cell_type": "code",
   "execution_count": 1,
   "metadata": {},
   "outputs": [],
   "source": [
    "import nltk\n",
    "import sqlite3\n",
    "import spacy\n",
    "from subject_object_extraction import findSVOs\n",
    "\n",
    "from collections import Counter\n",
    "\n",
    "#for text wrapping\n",
    "import textwrap"
   ]
  },
  {
   "cell_type": "code",
   "execution_count": 2,
   "metadata": {},
   "outputs": [],
   "source": [
    "# Set up our parser\n",
    "parser = spacy.load('en_core_web_sm')"
   ]
  },
  {
   "cell_type": "code",
   "execution_count": 3,
   "metadata": {},
   "outputs": [],
   "source": [
    "#Storing text files of transcripts in lists\n",
    "\n",
    "democratic_convention_files = [\"www_rev_com_blog_transcriptsdemocratic-national-convention-dnc-night-1-transcript.txt\",\n",
    "                              \"www_rev_com_blog_transcriptsdemocratic-national-convention-dnc-2020-night-2-transcript.txt\",\n",
    "                              \"www_rev_com_blog_transcriptsdemocratic-national-convention-dnc-night-3-transcript.txt\",\n",
    "                              \"www_rev_com_blog_transcripts2020-democratic-national-convention-dnc-night-4-transcript.txt\"]\n",
    "\n",
    "republican_convention_files = [\"www_rev_com_blog_transcripts2020-republican-national-convention-rnc-night-1-transcript.txt\",\n",
    "                              \"www_rev_com_blog_transcripts2020-republican-national-convention-rnc-night-2-transcript.txt\",\n",
    "                              \"www_rev_com_blog_transcripts2020-republican-national-convention-rnc-night-3-transcript.txt\",\n",
    "                              \"www_rev_com_blog_transcripts2020-republican-national-convention-rnc-night-4-transcript.txt\"]"
   ]
  },
  {
   "cell_type": "markdown",
   "metadata": {},
   "source": [
    "# Democratic National Convention"
   ]
  },
  {
   "cell_type": "markdown",
   "metadata": {},
   "source": [
    "The for loop below will look at each night of the democratic convention and identify the SVOs for each of the four nights. Then, I use Counter to determine the top 25 SVOs each night of the convention so I can look at any theme continuity or change by night and compare it to the Republican National Convention."
   ]
  },
  {
   "cell_type": "code",
   "execution_count": 4,
   "metadata": {},
   "outputs": [
    {
     "name": "stdout",
     "output_type": "stream",
     "text": [
      "Here are the most common SVOs for each night of the Democratic National Convention:\n",
      "\n",
      "\n",
      "[(('we', 'need', 'president'), 9), (('we', 'need', 'leader'), 5), (('i', 'know', 'joe'), 3), (('we', 'wish', 'you'), 2), (('we', 'wish', 'best'), 2), (('m', 'supporting', 'biden'), 2), (('we', 'need', 'more'), 2), (('people', 'means', 'people'), 2), (('what', 'gives', 'me'), 2), (('government', 'deny', 'virus'), 2), (('i', 'call', 'tough'), 2), (('condition', 'trusting', 'trump'), 2), (('he', 'paid', 'life'), 2), (('they', 'asked', 'me'), 2), (('them', 'keep', 'communities'), 2), (('iâ\\\\x80\\\\x99ve', 'seen', 'worst'), 2), (('biden', 'lead', 'example'), 2), (('we', 'reach', 'ground'), 2), (('events', 'go', 'hours'), 2), (('economists', 'tell', 'you'), 2), (('scientists', 'protect', 'us'), 2), (('scientists', 'protect', 'pandemic'), 2), (('he', 'gives', 'to'), 2), (('we', 'reassert', 'place'), 2), (('speeches', 'held', 'night'), 1)]\n",
      "\n",
      "\n",
      "[(('we', 'need', 'president'), 6), (('we', 'cast', 'votes'), 4), (('you', 'built', 'country'), 3), (('we', 'need', 'biden'), 3), (('alaska', 'casts', 'votes'), 3), (('i', 'cast', 'votes'), 3), (('state', 'casts', 'votes'), 3), (('he', 'knows', 'you'), 3), (('we', 'elect', 'biden'), 2), (('we', 'ran', 'office'), 2), (('who', 'built', 'country'), 2), (('who', 'raised', 'me'), 2), (('we', 'bend', 'arc'), 2), (('who', 'respects', 'laws'), 2), (('who', 'respects', 'privilege'), 2), (('who', 'reflects', 'values'), 2), (('we', 'need', 'leader'), 2), (('economy', 'working', 'families'), 2), (('movement', 'defeat', 'trump'), 2), (('rights', 'remain', 'business'), 2), (('alabama', 'casts', 'votes'), 2), (('arkansas', 'casts', 'votes'), 2), (('california', 'casts', 'votes'), 2), (('hawaii', 'casts', 'votes'), 2), (('illinois', 'casts', 'votes'), 2)]\n",
      "\n",
      "\n",
      "[(('we', 'elect', 'president'), 5), (('we', 'need', 'leaders'), 3), (('i', 'know', 'joe'), 3), (('me', 'tell', 'you'), 3), (('god', 'bless', 'you'), 3), (('she', 'raised', 'us'), 3), (('joe', 'bring', 'us'), 3), (('we', 'see', 'it'), 3), (('party', 'stand', 'right'), 2), (('we', 'need', 'leader'), 2), (('weâ\\\\x80\\\\x99re', 'see', 'performance'), 2), (('i', 'want', 'president'), 2), (('he', 'asked', 'me'), 2), (('heâ\\\\x80\\\\x99s', 'heard', 'story'), 2), (('god', 'bless', 'states'), 2), (('she', 'called', 'instigator'), 2), (('who', 'bring', 'floor'), 2), (('god', 'bless', 'america'), 2), (('people', 'end', 'culture'), 2), (('program', 'eliminate', 'assault'), 2), (('plan', 'working', 'families'), 2), (('way', 'provide', 'career'), 2), (('farmer', 'keep', 'business'), 2), (('farmer', 'keep', 'alive'), 2), (('weâ\\\\x80\\\\x99ve', 'heard', 'people'), 2)]\n",
      "\n",
      "\n",
      "[(('i', 'tell', 'you'), 3), (('we', 'need', 'leaders'), 2), (('we', 'need', 'biden'), 2), (('i', 'accept', 'nomination'), 2), (('i', 'believe', 'country'), 2), (('grief', 'mattered', 'him'), 2), (('it', 'save', 'billions'), 2), (('states', 'tell', 'her'), 2), (('billionaires', 'getting', 'us'), 2), (('billionaires', 'getting', 'crisis'), 2), (('you', 'help', 'joe'), 2), (('they', 'forgave', 'him'), 2), (('it', 'gives', 'me'), 2), (('m', 'share', 'views'), 2), (('who', 'keep', 'us'), 2), (('we', 'made', 'it'), 2), (('you', 'vote', 'biden'), 2), (('iâ\\\\x80\\\\x99ve', 'seen', 'capacity'), 2), (('we', 'vote', 'him'), 2), (('jobs', 'fight', 'crisis'), 2), (('he', 'told', 'me'), 2), (('m', 'talking', 'future'), 2), (('respect', 'thank', 'you'), 2), (('we', 'choose', 'path'), 2), (('americans', 'died', 'performance'), 2)]\n",
      "\n",
      "\n"
     ]
    }
   ],
   "source": [
    "combined_dem_nights=[] #for looking at the entire convention later\n",
    "\n",
    "print(\"Here are the most common SVOs for each night of the Democratic National Convention:\" + \"\\n\\n\")\n",
    "\n",
    "#Text Wrapping each file so it can be parsed\n",
    "\n",
    "for file in democratic_convention_files:\n",
    "    \n",
    "    open_file = open(file, \"r\", encoding=\"Latin-1\")\n",
    "    read_file = open_file.read()\n",
    "    \n",
    "    wrapped_text = textwrap.wrap(read_file)\n",
    "    \n",
    "    doc = parser(str(wrapped_text))\n",
    "    \n",
    "    combined_dem_nights.append(doc) #Adding each wrapped file to the combined list for use later on\n",
    "    \n",
    "    democratic_common_SVOs = Counter(findSVOs(doc)).most_common(25) #Identify top 25 SVOs\n",
    "    \n",
    "    print(str(democratic_common_SVOs) + \"\\n\\n\")\n",
    "    "
   ]
  },
  {
   "cell_type": "markdown",
   "metadata": {},
   "source": [
    "The code above indicates some themes for each night. Each night focuses on Americans as 'we' a lot, and often mention either 'we', 'need', and 'leader' or 'we', 'need', and 'leaders'.\n",
    "\n",
    "__Night One:__ \n",
    "\n",
    "Night one often uses 'we', 'need', and 'president'. I can imagine that the emphasis on this phrase over others could mean that speakers were focused on identifying the problems with the current president and the problems they saw the next president fixing. Additionally, there was a focus on scientists. For example, the SVOs 'scientists', 'protect', and 'us' appear to show a positive relationship with scientists. Another SVO focused on science is 'scientists', 'protect', and 'pandemic'. Criticism of the current administraiton includes 'government', 'denies', and 'virus'. This shows that the pandemic was likely a topic and the importance of letting science into policy and action plans. Additionally, it is safe to assume that Joe Biden was often mentioned as the top candidate because another common SVO is 'I', 'know', and 'Joe'.\n",
    "\n",
    "__Night Two:__\n",
    "\n",
    "Night two also includes a lot of 'we', 'need', and 'president' as SVOs. There also seems to be a big focus on casting votes by different states. There is also a shift to the SVO 'we', 'need', and 'biden', which is different from night one. Additionally, there seems to be a focus on identifying a particular type of president desired. Two SVOs that reflect this are: ('who', 'reflects', 'values') and ('who', 'reflects', 'laws').\n",
    "\n",
    "__Night Three:__ \n",
    "\n",
    "On night three, I found it interesting that there was a shift to the SVOs 'we', 'elect', and 'president'. 'I', 'know', and 'Joe' also appears often, likely demonstrating a strong belief that the democrats can elect Joe into office.\n",
    "\n",
    "__Night Four:__\n",
    "\n",
    "Night four clearly focuses a bit more on Joe Biden's nomination. This is exemplified by SVOs like: ('we', 'need', 'biden'), ('i', 'accept', 'nomination'), and ('grief', 'mattered', 'him'). Additionally, there is a focus on billionaires in numerous SVOs, possibly showing a focus on problem with current treatment of billionaires.\n"
   ]
  },
  {
   "cell_type": "markdown",
   "metadata": {},
   "source": [
    "# Republican National Convention"
   ]
  },
  {
   "cell_type": "markdown",
   "metadata": {},
   "source": [
    "The code below focuses on the transcripts for each of the four nights of the Republican National Convention."
   ]
  },
  {
   "cell_type": "code",
   "execution_count": 5,
   "metadata": {},
   "outputs": [
    {
     "name": "stdout",
     "output_type": "stream",
     "text": [
      "Here are the most common SVOs for each night of the Republican National Convention:\n",
      "\n",
      "\n",
      "[(('god', 'bless', 'you'), 5), (('i', 'tell', 'you'), 5), (('i', 'thank', 'you'), 4), (('me', 'tell', 'you'), 3), (('m', 'asking', 'you'), 3), (('god', 'bless', 'america'), 3), (('god', 'bless', 'states'), 3), (('you', 'know', 'that'), 3), (('i', 'see', 'party'), 3), (('politicians', 'promising', 'change'), 2), (('we', 'chose', 'path'), 2), (('politicians', 'spun', 'deceptions'), 2), (('it', 'solve', 'leader'), 2), (('it', 'solve', 'problems'), 2), (('others', 'criticized', 'solutions'), 2), (('president', 'leading', 'way'), 2), (('president', 'leading', 'recovery'), 2), (('we', 'write', 'stories'), 2), (('mob', 'destroy', 'way'), 2), (('brink', 'shut', 'losses'), 2), (('i', 'live', 'dream'), 2), (('state', '!running', 'own'), 2), (('we', 'speak', 'you'), 2), (('policies', 'flee', 'country'), 2), (('i', 'promise', 'you'), 2)]\n",
      "\n",
      "\n",
      "[(('god', 'bless', 'you'), 5), (('father', 'fight', 'for'), 5), (('i', 'tell', 'you'), 4), (('god', 'bless', 'america'), 4), (('god', 'bless', 'states'), 4), (('i', 'met', 'him'), 3), (('who', 'put', 'lives'), 2), (('he', 'gave', 'me'), 2), (('i', 'saw', 'man'), 2), (('i', 'multiply', 'that'), 2), (('one', 'undo', 'harm'), 2), (('one', 'undo', 'that'), 2), (('one', 'undo', 'others'), 2), (('president', 'end', 'war'), 2), (('you', 'join', 'me'), 2), (('you', 'join', 'trump'), 2), (('kids', 'look', 'me'), 2), (('regulations', 'become', 'worldâ\\\\x80\\\\x99s'), 2), (('scene', 'stand', 'china'), 2), (('i', 'want', 'job'), 2), (('i', 'think', 'women'), 2), (('we', 'believe', 'freedom'), 2), (('i', 'know', 'that'), 2), (('i', 'bear', 'faith'), 2), (('i', 'bear', 'arms'), 2)]\n",
      "\n",
      "\n",
      "[(('god', 'bless', 'america'), 6), (('god', 'bless', 'states'), 3), (('we', 'need', 'leaders'), 3), (('trump', 'keep', 'america'), 3), (('trump', 'kept', 'word'), 3), (('constitution', 'exercised', 'benefit'), 2), (('who', 'go', 'shift'), 2), (('i', 'serve', 'country'), 2), (('i', 'tell', 'you'), 2), (('he', 'told', 'me'), 2), (('we', 'need', 'years'), 2), (('god', 'bless', 'you'), 2), (('support', 'support', 'responders'), 2), (('iâ\\\\x80\\\\x99ve', 'lived', 'it'), 2), (('they', 'believe', 'dream'), 2), (('i', 'support', 'trump'), 2), (('i', 'promise', 'you'), 2), (('you', 'know', 'history'), 2), (('voters', 'conform', 'points'), 2), (('they', 'call', 'nationalist'), 2), (('day', 'keep', 'promises'), 2), (('day', 'keep', 'people'), 2), (('he', 'kept', 'word'), 2), (('weâ\\\\x80\\\\x99re', 'opening', 'america'), 2), (('weâ\\\\x80\\\\x99re', 'passing', 'time'), 2)]\n",
      "\n",
      "\n",
      "[(('god', 'bless', 'you'), 5), (('we', 'defeat', 'it'), 4), (('i', 'tell', 'you'), 4), (('they', '!show', 'people'), 3), (('god', 'bless', 'america'), 3), (('trump', 'built', 'economy'), 3), (('they', 'tell', 'you'), 3), (('he', 'signed', 'law'), 3), (('i', 'love', 'you'), 3), (('we', 'need', 'help'), 2), (('we', 'built', 'economy'), 2), (('right', 'bear', 'arms'), 2), (('radicals', 'install', 'him'), 2), (('god', 'bless', 'states'), 2), (('trump', 'doing', 'scenes'), 2), (('he', 'saw', 'potential'), 2), (('he', 'saw', 'me'), 2), (('they', 'defund', 'police'), 2), (('departments', 'faced', 'opposition'), 2), (('he', 'served', 'years'), 2), (('he', 'served', 'department'), 2), (('he', 'tell', 'me'), 2), (('trump', 'understands', 'this'), 2), (('we', 'know', 'that'), 2), (('we', 'put', 'faith'), 2)]\n",
      "\n",
      "\n"
     ]
    }
   ],
   "source": [
    "combined_rep_nights= [] #for looking at the entire convention later\n",
    "\n",
    "print(\"Here are the most common SVOs for each night of the Republican National Convention:\" + \"\\n\\n\")\n",
    "\n",
    "for file in republican_convention_files:\n",
    "    \n",
    "    open_file = open(file, \"r\", encoding=\"Latin-1\")\n",
    "    read_file = open_file.read()\n",
    "    \n",
    "    wrapped_text = textwrap.wrap(read_file)\n",
    "    \n",
    "    \n",
    "    \n",
    "    doc = parser(str(wrapped_text))\n",
    "    \n",
    "    combined_rep_nights.append(doc)\n",
    "    \n",
    "    republican_common_SVOs = Counter(findSVOs(doc)).most_common(25)\n",
    "    \n",
    "    print(str(republican_common_SVOs) + \"\\n\\n\")\n",
    "    "
   ]
  },
  {
   "cell_type": "markdown",
   "metadata": {},
   "source": [
    "The code above suggests some different themes for each night.\n",
    "\n",
    "__Night One:__\n",
    "\n",
    "Numerous of the SVOs in night one mention 'god' and 'bless'. Additionally, some of the SVOs are specifically referencing 'politicians'. Without my personal background knowledge, this might not mean much. However, one argument against Biden I have seen is that he has been a politician for a long time, and people are frustrated with politicians seemingly making promises they don't adhere to or getting caught up in pleasing too many groups. The narrative for Trump is that he is a business man, not a career politician.\n",
    "\n",
    "__Night Two:__\n",
    "\n",
    "Again, numerous SVOs mention 'god' and 'bless'. One common SVO group that I'm not quite sure about is 'father', 'fight', and 'for'. \n",
    "\n",
    "__Night Three:__\n",
    "\n",
    "SVOs still mention 'god' and 'bless' often. Additionally, Trump seems to be more specifically mentioned in SVOs like: ('trump', 'keep', 'america'), ('trump', 'kept', 'word') and ('i', 'support', 'trump').\n",
    "\n",
    "__Night Four:__\n",
    "\n",
    "Night four has SVOs that focus on the economy: ('trump', 'built', 'economy') and ('we', 'built', 'economy'). There also appears to be SVOs directed at those who oppose trump. This is seen in SVOs like: ('they', 'defund', 'police') and ('radicals', 'install', 'him'). \n"
   ]
  },
  {
   "cell_type": "markdown",
   "metadata": {},
   "source": [
    "# Comparison between the two conventions\n",
    "\n",
    "Below I print the top 25 SVOs for each convention as a whole rather than the top 25 SVOs each night"
   ]
  },
  {
   "cell_type": "code",
   "execution_count": 6,
   "metadata": {},
   "outputs": [
    {
     "data": {
      "text/plain": [
       "[(('we', 'need', 'president'), 17),\n",
       " (('we', 'need', 'leader'), 10),\n",
       " (('i', 'know', 'joe'), 7),\n",
       " (('we', 'need', 'biden'), 7),\n",
       " (('we', 'elect', 'president'), 6),\n",
       " (('me', 'tell', 'you'), 5),\n",
       " (('we', 'need', 'leaders'), 5),\n",
       " (('he', 'told', 'me'), 4),\n",
       " (('i', 'tell', 'you'), 4),\n",
       " (('it', 'works', 'converter'), 4),\n",
       " (('we', 'elect', 'biden'), 4),\n",
       " (('joe', 'bring', 'us'), 4),\n",
       " (('we', 'cast', 'votes'), 4),\n",
       " (('i', 'love', 'you'), 4),\n",
       " (('god', 'bless', 'you'), 4),\n",
       " (('we', 'see', 'it'), 4),\n",
       " (('i', 'pledge', 'allegiance'), 3),\n",
       " (('m', 'supporting', 'biden'), 3),\n",
       " (('we', 'need', 'more'), 3),\n",
       " (('he', 'paid', 'life'), 3),\n",
       " (('you', 'vote', 'biden'), 3),\n",
       " (('we', 'deal', 'type'), 3),\n",
       " (('us', 'bring', 'country'), 3),\n",
       " (('we', 'need', 'help'), 3),\n",
       " (('it', 'works', 'app'), 3)]"
      ]
     },
     "execution_count": 6,
     "metadata": {},
     "output_type": "execute_result"
    }
   ],
   "source": [
    "##Democratic National Convention SVOs\n",
    "\n",
    "parsed_dem = parser(str(combined_dem_nights))\n",
    "Counter(findSVOs(parsed_dem)).most_common(25)"
   ]
  },
  {
   "cell_type": "code",
   "execution_count": 7,
   "metadata": {},
   "outputs": [
    {
     "data": {
      "text/plain": [
       "[(('god', 'bless', 'you'), 17),\n",
       " (('god', 'bless', 'america'), 16),\n",
       " (('i', 'tell', 'you'), 15),\n",
       " (('god', 'bless', 'states'), 12),\n",
       " (('we', 'thank', 'you'), 5),\n",
       " (('i', 'thank', 'you'), 5),\n",
       " (('father', 'fight', 'for'), 5),\n",
       " (('i', 'love', 'you'), 5),\n",
       " (('i', 'pledge', 'allegiance'), 4),\n",
       " (('me', 'tell', 'you'), 4),\n",
       " (('i', 'promise', 'you'), 4),\n",
       " (('trump', 'built', 'economy'), 4),\n",
       " (('it', 'works', 'app'), 4),\n",
       " (('it', 'works', 'converter'), 4),\n",
       " (('we', 'defeat', 'it'), 4),\n",
       " (('we', 'know', 'it'), 3),\n",
       " (('m', 'asking', 'you'), 3),\n",
       " (('you', 'know', 'that'), 3),\n",
       " (('god', 'bless', 'country'), 3),\n",
       " (('they', 'call', 'it'), 3),\n",
       " (('he', 'took', 'action'), 3),\n",
       " (('who', 'loves', 'country'), 3),\n",
       " (('trump', 'took', 'action'), 3),\n",
       " (('i', 'see', 'party'), 3),\n",
       " (('m', 'speaking', 'you'), 3)]"
      ]
     },
     "execution_count": 7,
     "metadata": {},
     "output_type": "execute_result"
    }
   ],
   "source": [
    "##Republican National Convention SVOs\n",
    "\n",
    "parsed_rep = parser(str(combined_rep_nights))\n",
    "Counter(findSVOs(parsed_rep)).most_common(25)"
   ]
  },
  {
   "cell_type": "markdown",
   "metadata": {},
   "source": [
    "Overall, I noticed that 'god bless       ' was a common phrase at the Republican National Convention. 'God bless you' appeared in the Democratic National Convention, but not near as often as in the Republican National Convention. There is also more focus on past tense things about Trump such as 'trump took action' and 'trump built economy'. In contrast, a lot of the the SVOs in the Democratic National Convention focus on future needs rather than Trump's actions, as would be expected. For example, ('we', 'need', 'president'), ('we', 'need', 'leader'), and ('we', 'need', 'joe'). I also noticed the greater use of 'we' in the Democratic National Convention versus the Republican National Convention.\n",
    "\n",
    "When looking at individual nights, the Republican National Convention also looks at past tense words such as 'kept word' versus 'respect laws' or 'reflects values' in the Democratic National Convention. Particularly on night one, the Democratic National Convention focused on the pandemic and science. The Republican National Convention focused less on the pandemic and more on the president's history and criticizing opponents. "
   ]
  }
 ],
 "metadata": {
  "kernelspec": {
   "display_name": "Python 3",
   "language": "python",
   "name": "python3"
  },
  "language_info": {
   "codemirror_mode": {
    "name": "ipython",
    "version": 3
   },
   "file_extension": ".py",
   "mimetype": "text/x-python",
   "name": "python",
   "nbconvert_exporter": "python",
   "pygments_lexer": "ipython3",
   "version": "3.7.6"
  }
 },
 "nbformat": 4,
 "nbformat_minor": 4
}
