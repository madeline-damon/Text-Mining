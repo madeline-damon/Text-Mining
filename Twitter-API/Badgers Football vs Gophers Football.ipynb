{
 "cells": [
  {
   "cell_type": "markdown",
   "metadata": {},
   "source": [
    "# Pulling Badgers Football Followers and Gophers Football Followers"
   ]
  },
  {
   "cell_type": "markdown",
   "metadata": {},
   "source": [
    "For the Twitter API assignment, I am looking at the followers of Badgers Football (On Wisconsin!) and Gophers Football. First, I import the proper packages and my API keys so I can authenticate the tweepy API. Then, I create a dictionary to store lists of each twitter account's follower information. The first for loop will pull all follower ids, which are used in the second for loop to obtain all follower information and write it to a text file."
   ]
  },
  {
   "cell_type": "code",
   "execution_count": 1,
   "metadata": {},
   "outputs": [],
   "source": [
    "#Importing Packages\n",
    "import datetime\n",
    "import tweepy\n",
    "\n",
    "# Using my own API Keys\n",
    "from MD_API_Keys import api_key, api_key_secret, access_token, access_token_secret"
   ]
  },
  {
   "cell_type": "code",
   "execution_count": 2,
   "metadata": {},
   "outputs": [],
   "source": [
    "# Authenticate the Tweepy API\n",
    "auth = tweepy.OAuthHandler(api_key,api_key_secret)\n",
    "auth.set_access_token(access_token, access_token_secret)\n",
    "api = tweepy.API(auth,wait_on_rate_limit=True)"
   ]
  },
  {
   "cell_type": "code",
   "execution_count": 4,
   "metadata": {},
   "outputs": [
    {
     "name": "stdout",
     "output_type": "stream",
     "text": [
      "\n",
      "    @BadgerFootball has 332818 followers. \n",
      "    That will take roughly 1 hours and 66.56 minutes\n",
      "    \n",
      "\n",
      "    @GopherFootball has 129840 followers. \n",
      "    That will take roughly 0 hours and 25.97 minutes\n",
      "    \n"
     ]
    }
   ],
   "source": [
    "#Grabbing follower IDs\n",
    "\n",
    "team_handles = ['BadgerFootball','GopherFootball']\n",
    "\n",
    "\n",
    "# This will iterate through each Twitter handle that we're collecting from\n",
    "for screen_name in team_handles:\n",
    "    \n",
    "    # Tells Tweepy we want information on the handle we're collecting from\n",
    "    # The next line specifies which information we want, which in this case is the number of followers \n",
    "    user = api.get_user(screen_name) \n",
    "    followers_count = user.followers_count\n",
    "\n",
    "    # Let's see roughly how long it will take to grab all the follower IDs. \n",
    "    print(f'''\n",
    "    @{screen_name} has {followers_count} followers. \n",
    "    That will take roughly {followers_count/(5000*60):.0f} hours and {followers_count/(5000):.2f} minutes\n",
    "    ''')\n",
    "    "
   ]
  },
  {
   "cell_type": "code",
   "execution_count": 9,
   "metadata": {},
   "outputs": [],
   "source": [
    "##Creating a dictionary that contains a list for each team's twitter\n",
    "id_dict = {'BadgerFootball' : [],\n",
    "           'GopherFootball' : []}"
   ]
  },
  {
   "cell_type": "code",
   "execution_count": 10,
   "metadata": {},
   "outputs": [
    {
     "name": "stderr",
     "output_type": "stream",
     "text": [
      "Rate limit reached. Sleeping for: 894\n",
      "Rate limit reached. Sleeping for: 893\n",
      "Rate limit reached. Sleeping for: 893\n",
      "Rate limit reached. Sleeping for: 891\n",
      "Rate limit reached. Sleeping for: 891\n",
      "Rate limit reached. Sleeping for: 891\n"
     ]
    },
    {
     "name": "stdout",
     "output_type": "stream",
     "text": [
      "1:30:38.286192\n"
     ]
    }
   ],
   "source": [
    "# Grabs the time when we start making requests to the API\n",
    "start_time = datetime.datetime.now()\n",
    "\n",
    "# .keys() allows us to iterate through each key in the dictionary\n",
    "for handle in id_dict.keys():\n",
    "    \n",
    "    # Each page contains 5,000 records, so since we know there are much more than 5,000 followers for both\n",
    "    # the Storm and Aces, we must iterate through each of the pages in order to get all follower IDs\n",
    "    # To grab the follower IDs, we will be using followers_ids\n",
    "    for page in tweepy.Cursor(api.followers_ids,\n",
    "                              # This is how we will get around the issue of not being able to grab all ids at once\n",
    "                              # Once the rate limit is hit, we will be notified that we must wait 15 mins (900 secs)\n",
    "                              wait_on_rate_limit=True, wait_on_rate_limit_notify=True, compression=True,\n",
    "                              screen_name=handle).pages():\n",
    "\n",
    "        # The page variable comes back as a list, so we have to use .extend rather than .append\n",
    "        id_dict[handle].extend(page)\n",
    "        \n",
    "\n",
    "# Let's see how long it took to grab all follower IDs\n",
    "end_time = datetime.datetime.now()\n",
    "elapsed_time = end_time - start_time\n",
    "print(elapsed_time)"
   ]
  },
  {
   "cell_type": "code",
   "execution_count": 8,
   "metadata": {},
   "outputs": [],
   "source": [
    "##Grabbing indicated information from users and writing it to a text file\n",
    "headers = ['screen_name','name', 'id', 'location', 'followers_count', 'friends_count', 'description']\n",
    "\n",
    "for team in id_dict.keys():\n",
    "    \n",
    "    with open(f'{team}_followers.txt','w', encoding='utf-8') as out_file:\n",
    "        out_file.write('\\t'.join(headers) + '\\n')\n",
    "\n",
    "        for idx, ids in enumerate(id_dict[team]):\n",
    "            \n",
    "            # Getting around private accounts with try and except statement\n",
    "            try:\n",
    "                user = api.get_user(ids)\n",
    "                description = str(user.description).replace('\\t',' ').replace('\\n',' ')\n",
    "                outline = [user.screen_name, user.name, user.id, user.location, user.followers_count, user.friends_count, user.description]\n",
    "                \n",
    "                out_file.write('\\t'.join([str(item) for item in outline]) + '\\n')\n",
    "                \n",
    "            except:\n",
    "                continue\n",
    "                \n",
    "        \n",
    "            "
   ]
  },
  {
   "cell_type": "markdown",
   "metadata": {},
   "source": [
    "The above code resulted in a large text file that, if listed by user, contains screen name, name, id number, location, follower count, friend count, and description. Each field, if provided, is separated by a tab. However, I made a mistake and had to re-run grabbing follower info for \"BadgerFootball\" because I realized that I had tagged an 's' onto the end of the handle, causing it to run an account other than the official UW Wisconsin account. To save time, I just ran 'BadgerFootball' separately again below so I didn't have to wait for 'GopherFootball' to finish running when I already had their correct info."
   ]
  },
  {
   "cell_type": "code",
   "execution_count": null,
   "metadata": {},
   "outputs": [],
   "source": [
    "##Grabbing indicated information from users and writing it to a text file\n",
    "headers = ['screen_name','name', 'id', 'location', 'followers_count', 'friends_count', 'description']\n",
    "\n",
    "\n",
    "    \n",
    "with open(f'BadgerFootball_followers.txt','w', encoding='utf-8') as out_file:\n",
    "    out_file.write('\\t'.join(headers) + '\\n')\n",
    "\n",
    "    for idx, ids in enumerate(id_dict['BadgerFootball']):\n",
    "            \n",
    "            # Getting around private accounts with try and except statement\n",
    "        try:\n",
    "            user = api.get_user(ids)\n",
    "            description = str(user.description).replace('\\t',' ').replace('\\n',' ')\n",
    "            outline = [user.screen_name, user.name, user.id, user.location, user.followers_count, user.friends_count, user.description]\n",
    "                \n",
    "            out_file.write('\\t'.join([str(item) for item in outline]) + '\\n')\n",
    "                \n",
    "        except:\n",
    "            continue"
   ]
  }
 ],
 "metadata": {
  "kernelspec": {
   "display_name": "Python 3",
   "language": "python",
   "name": "python3"
  },
  "language_info": {
   "codemirror_mode": {
    "name": "ipython",
    "version": 3
   },
   "file_extension": ".py",
   "mimetype": "text/x-python",
   "name": "python",
   "nbconvert_exporter": "python",
   "pygments_lexer": "ipython3",
   "version": "3.7.6"
  }
 },
 "nbformat": 4,
 "nbformat_minor": 4
}
