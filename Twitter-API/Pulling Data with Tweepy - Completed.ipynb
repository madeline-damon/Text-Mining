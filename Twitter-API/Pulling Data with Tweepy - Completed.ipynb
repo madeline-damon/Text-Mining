{
 "cells": [
  {
   "cell_type": "markdown",
   "metadata": {},
   "source": [
    "## Pulling Data with Tweepy\n",
    "\n",
    "**By:** _Jordan McNea_ "
   ]
  },
  {
   "cell_type": "code",
   "execution_count": 3,
   "metadata": {},
   "outputs": [],
   "source": [
    "import datetime\n",
    "import tweepy\n",
    "\n",
    "# Using my own API Keys\n",
    "from MD_API_Keys import api_key, api_key_secret, access_token, access_token_secret"
   ]
  },
  {
   "cell_type": "code",
   "execution_count": 4,
   "metadata": {},
   "outputs": [],
   "source": [
    "# Authenticate the Tweepy API\n",
    "auth = tweepy.OAuthHandler(api_key,api_key_secret)\n",
    "auth.set_access_token(access_token, access_token_secret)\n",
    "api = tweepy.API(auth,wait_on_rate_limit=True)"
   ]
  },
  {
   "cell_type": "markdown",
   "metadata": {},
   "source": [
    "Below is the code used to make sure that I am authorized to pull Twitter data."
   ]
  },
  {
   "cell_type": "code",
   "execution_count": 3,
   "metadata": {},
   "outputs": [],
   "source": [
    "#api.verify_credentials()"
   ]
  },
  {
   "cell_type": "markdown",
   "metadata": {},
   "source": [
    "## Grab follower IDs"
   ]
  },
  {
   "cell_type": "markdown",
   "metadata": {},
   "source": [
    "I had the WNBA Finals on in the background while creating this Notebook, so I will be collecting followers from the Seattle Storm and Las Vegas Aces, the two finalists. Tweepy only allows users to grab 900 requests per 15 minutes. It'll grab the 900 requests quickly then wait 15 minutes, rather than slowly grab 900 requests over a 15 minute period. Before we start grabbing follower IDs, let's first just check how long it will take. To do this we'll grab the followers_count item from Tweepy. "
   ]
  },
  {
   "cell_type": "code",
   "execution_count": 4,
   "metadata": {},
   "outputs": [
    {
     "name": "stdout",
     "output_type": "stream",
     "text": [
      "\n",
      "    @seattlestorm has 72022 followers. \n",
      "    That will take roughly 0 hours and 14.40 minutes\n",
      "    \n",
      "\n",
      "    @LVAces has 42665 followers. \n",
      "    That will take roughly 0 hours and 8.53 minutes\n",
      "    \n"
     ]
    }
   ],
   "source": [
    "# I'm putting the handles in a list to iterate through below\n",
    "team_handles = ['seattlestorm', 'LVAces']\n",
    "\n",
    "\n",
    "# This will iterate through each Twitter handle that we're collecting from\n",
    "for screen_name in team_handles:\n",
    "    \n",
    "    # Tells Tweepy we want information on the handle we're collecting from\n",
    "    # The next line specifies which information we want, which in this case is the number of followers \n",
    "    user = api.get_user(screen_name) \n",
    "    followers_count = user.followers_count\n",
    "\n",
    "    # Let's see roughly how long it will take to grab all the follower IDs. \n",
    "    print(f'''\n",
    "    @{screen_name} has {followers_count} followers. \n",
    "    That will take roughly {followers_count/(5000*60):.0f} hours and {followers_count/(5000):.2f} minutes\n",
    "    ''')\n",
    "    "
   ]
  },
  {
   "cell_type": "markdown",
   "metadata": {},
   "source": [
    "It looks like there should only be one fifteen minute break. It'll grab all of the Storm's followers, then some of the Aces before sleeping for fifteen minutes. Let's run it and see how long it'll actually take."
   ]
  },
  {
   "cell_type": "code",
   "execution_count": 5,
   "metadata": {},
   "outputs": [
    {
     "name": "stderr",
     "output_type": "stream",
     "text": [
      "Rate limit reached. Sleeping for: 896\n"
     ]
    },
    {
     "name": "stdout",
     "output_type": "stream",
     "text": [
      "0:15:09.290365\n"
     ]
    }
   ],
   "source": [
    "# This creates a dictionary containing a list for each Twitter handle we'll be grabbing follower IDs from\n",
    "id_dict = {'seattlestorm' : [],\n",
    "           'LVAces' : []}\n",
    "\n",
    "# Grabs the time when we start making requests to the API\n",
    "start_time = datetime.datetime.now()\n",
    "\n",
    "# .keys() allows us to iterate through each key in the dictionary\n",
    "for handle in id_dict.keys():\n",
    "    \n",
    "    # Each page contains 5,000 records, so since we know there are much more than 5,000 followers for both\n",
    "    # the Storm and Aces, we must iterate through each of the pages in order to get all follower IDs\n",
    "    # To grab the follower IDs, we will be using followers_ids\n",
    "    for page in tweepy.Cursor(api.followers_ids,\n",
    "                              # This is how we will get around the issue of not being able to grab all ids at once\n",
    "                              # Once the rate limit is hit, we will be notified that we must wait 15 mins (900 secs)\n",
    "                              wait_on_rate_limit=True, wait_on_rate_limit_notify=True, compression=True,\n",
    "                              screen_name=handle).pages():\n",
    "\n",
    "        # The page variable comes back as a list, so we have to use .extend rather than .append\n",
    "        id_dict[handle].extend(page)\n",
    "        \n",
    "\n",
    "# Let's see how long it took to grab all follower IDs\n",
    "end_time = datetime.datetime.now()\n",
    "elapsed_time = end_time - start_time\n",
    "print(elapsed_time)"
   ]
  },
  {
   "cell_type": "markdown",
   "metadata": {},
   "source": [
    "The elapsed time the first time I ran the above code was 0:15:09."
   ]
  },
  {
   "cell_type": "markdown",
   "metadata": {},
   "source": [
    "Let's look at some ids we gathered."
   ]
  },
  {
   "cell_type": "code",
   "execution_count": 6,
   "metadata": {},
   "outputs": [
    {
     "data": {
      "text/plain": [
       "[139873846,\n",
       " 234047917,\n",
       " 324498854,\n",
       " 616338216,\n",
       " 169716178,\n",
       " 1687658880,\n",
       " 466716940,\n",
       " 1319392911751041026,\n",
       " 1319391642592464896,\n",
       " 1319388857863790592]"
      ]
     },
     "execution_count": 6,
     "metadata": {},
     "output_type": "execute_result"
    }
   ],
   "source": [
    "id_dict['seattlestorm'][:10]"
   ]
  },
  {
   "cell_type": "markdown",
   "metadata": {},
   "source": [
    "You'll notice they are all numbers. This is because ids are different from screen names. To see the twitter handles we gathered, we'll have to use the scren_name feature."
   ]
  },
  {
   "cell_type": "code",
   "execution_count": 7,
   "metadata": {},
   "outputs": [
    {
     "name": "stdout",
     "output_type": "stream",
     "text": [
      "TheRealOrejuela\n",
      "AlphaBush68\n",
      "darthsadie\n",
      "jay_dee_aye\n",
      "SpliffsofWizdom\n",
      "Ripcat1\n",
      "Momof2Mom\n",
      "Okikiol70820886\n",
      "ismaiil6699\n",
      "Patrice01852956\n"
     ]
    }
   ],
   "source": [
    "users = id_dict['seattlestorm'][:10]\n",
    "\n",
    "for name in users:\n",
    "    \n",
    "    user = api.get_user(name)\n",
    "    print(user.screen_name)"
   ]
  },
  {
   "cell_type": "markdown",
   "metadata": {},
   "source": [
    "## Grab descriptions based on the followers IDs"
   ]
  },
  {
   "cell_type": "markdown",
   "metadata": {},
   "source": [
    "That looks much better. We can get all sorts of information from the ID. We don't just want screen names though, that doesn't tell us much. Let's grab each screen name and their description and write it to a text file for each team account."
   ]
  },
  {
   "cell_type": "code",
   "execution_count": 8,
   "metadata": {},
   "outputs": [],
   "source": [
    "headers = ['screen_name','description']\n",
    "\n",
    "for team in id_dict.keys():\n",
    "    \n",
    "    # Descriptions with emoji or non-Roman letters can cause trouble. Encoding your .txt file in utf-8 will help\n",
    "    with open(f'{team}_followers.txt','w', encoding='utf-8') as out_file:\n",
    "        out_file.write('\\t'.join(headers) + '\\n')\n",
    "\n",
    "        for idx, ids in enumerate(id_dict[team]):\n",
    "            \n",
    "            # For accounts set to private, we won't be able to get the description unless we follow them\n",
    "            # Putting in a try/except statement, we can get around this issue.\n",
    "            try:\n",
    "                user = api.get_user(ids)\n",
    "                description = str(user.description).replace('\\t',' ').replace('\\n',' ')\n",
    "                outline = [user.screen_name, user.description]\n",
    "                \n",
    "                out_file.write('\\t'.join([str(item) for item in outline]) + '\\n')\n",
    "                \n",
    "            except:\n",
    "                continue\n",
    "                \n",
    "            if idx == 100:\n",
    "                break\n",
    "            "
   ]
  },
  {
   "cell_type": "markdown",
   "metadata": {},
   "source": [
    "I can see that text files have been created for both teams' followers and their descriptions. I can see the person's name and their description separated by a tab. I was surprised to see that the emojis all came through properly."
   ]
  },
  {
   "cell_type": "markdown",
   "metadata": {},
   "source": [
    "## Grabbing Tweets by search terms"
   ]
  },
  {
   "cell_type": "markdown",
   "metadata": {},
   "source": [
    "Tweepy also lets users grab tweets based off of search terms. October 10th was World Mental Health Day, so let's look at tweets containing its official hashtag. Twitter search allows standard search operators (<a href=\"https://developer.twitter.com/en/docs/twitter-api/v1/rules-and-filtering/overview/standard-operators\">read more here</a>). We only want Tweets that occurred on World Mental Health Day, hence the since and until operators, and I'm excluding retweets.\n"
   ]
  },
  {
   "cell_type": "code",
   "execution_count": 9,
   "metadata": {},
   "outputs": [
    {
     "name": "stdout",
     "output_type": "stream",
     "text": [
      "raccoonfly\n",
      "2020-10-21 23:00:37\n",
      "\"Laughter and joy is the best medicine!\" Discover more secrets to good health with Mu Sen Shen, a doctor of traditional Chinese medicine! #WorldMentalHealthDay\n",
      "#laugh\n",
      "\n",
      "https://t.co/IaRVrr0XOy https://t.co/MtsrH8F7Ho\n",
      "----------------------------------------\n",
      "donna_sibanda\n",
      "2020-10-21 22:57:38\n",
      "Please take a look and also share.\n",
      "\n",
      "https://t.co/S0J4wlTsE7\n",
      ".\n",
      ".\n",
      "#thanks #mini #help #classiccars #miniclub #health #WorldMentalHealthDay #gofundme #wishlist #topgear #donate #happy #mechanic #austinmini #love #ThisMorning #carsos #KindnessMatters #LoveYourself\n",
      "----------------------------------------\n",
      "chiiinnnyyy_\n",
      "2020-10-21 22:54:09\n",
      "If u need someone to talk to rn dm me ur mental health matters😩😩😩😩😩😩 #WorldMentalHealthDay #EndPoliceBrutalityinNigeraNOW\n",
      "----------------------------------------\n",
      "AlexandriaDrain\n",
      "2020-10-21 22:50:02\n",
      "The truth is, I don't know who I am beyond depression, because I've dealt with it my entire life. I've been on and of meds since I was in elementary school.\n",
      "#WorldMentalHealthDay #depression #medssavelives #EndTheStigma\n",
      "----------------------------------------\n",
      "athenadoodle\n",
      "2020-10-21 22:46:31\n",
      "I literally hardly have any followers that care 😂 but I’ve had the best mental health day in weeks 🖤🥺 I’d say that’s an achievement #WorldMentalHealthDay\n",
      "----------------------------------------\n",
      "dorcasbawa2\n",
      "2020-10-21 22:45:23\n",
      "Seek help, talk to people around you #WorldMentalHealthDay https://t.co/BrXTi0wzKW\n",
      "----------------------------------------\n",
      "BBarlus\n",
      "2020-10-21 22:40:15\n",
      "Caught myself lip singing in the grocery store just now. Felt so good till reality sank in where I was. Thankfully I was reassured at the reminder of my mask and thus continued to lip sing.\n",
      "#WorldMentalHealthDay #introvert\n",
      "#karaoke\n",
      "----------------------------------------\n",
      "DanaSpeaksLife\n",
      "2020-10-21 22:38:24\n",
      "Pride shouldn't stop you from getting help. Go to therapy! #WorldMentalHealthDay #LiveLifeFreeShow #DanaSpeaksLife #MentalHealthAwareness #gogethelp\n",
      "----------------------------------------\n",
      "J_Rog18\n",
      "2020-10-21 22:31:16\n",
      "They say, \"I changed a lot!!!\"\n",
      "\n",
      "I say, \"A lot has changed me!!!\"\n",
      "\n",
      "#WorldMentalHealthDay\n",
      "----------------------------------------\n",
      "rad_russell4\n",
      "2020-10-21 22:18:26\n",
      "I’m starting to think I may need to be reduced by a sad strange step dad to prevent myself from becoming a sad strange step dad to an iguana.\n",
      "#WorldMentalHealthDay #dad #Wishing\n",
      "----------------------------------------\n",
      "nmkimchi\n",
      "2020-10-21 22:08:25\n",
      "Does drama attract drama or create it? Or do people just get put in situations where they are tested? \n",
      "People just need to do the right thing....\n",
      "\n",
      "#2020 #WorldMentalHealthDay\n",
      "----------------------------------------\n",
      "TimJSCastle\n",
      "2020-10-21 22:05:36\n",
      "If you're facing a tough decision, wanting change or thinking about how to elevate your career, goals and life then you're going to want to check out this episode!\n",
      "\n",
      "Let yourself absorb by MP's energy and attitude, it is fantastic! \n",
      "\n",
      "#podcast #WorldMentalHealthDay #WednesdayWisdom https://t.co/zuQuhDhgQX\n",
      "----------------------------------------\n",
      "kamari_husband\n",
      "2020-10-21 22:02:35\n",
      "#corpsehusband #corpsetwt #WorldMentalHealthDay #MentalHealthMatters #Thingswillgetbetter I've been struggling a little today but I hope everyone is doing good. Please eat something ik it's hard but if you do I'll do it with you👉🏽👈🏽❤️also If anyone is lonely my dms are open!!\n",
      "----------------------------------------\n",
      "AGAPEofNC\n",
      "2020-10-21 21:58:44\n",
      "⬇️ Keep Reading!\n",
      "-\n",
      "Click the link in our BIO for a “How-To” guide on how to make hard conversations easier! 💛👨‍👩‍👧‍👦\n",
      "-\n",
      "Tag who you think this would HELP! 🤗\n",
      "#WorldMentalHealthDay #MentalHealthMatters #family #momlife #KindnessMatters https://t.co/clkzVRigJF\n",
      "----------------------------------------\n",
      "PaigeLe76047971\n",
      "2020-10-21 21:57:47\n",
      "Every time I write I feel like I need to put it out there for other people to read 😤 I just added a new chapter today and I want to add another!! \n",
      "\n",
      ".\n",
      "\n",
      "#WorldMentalHealthDay #WritingCommunity #romancebooks #youngwriter #WattpadUndiscoveredGems #Wattpad #writing #books\n",
      "----------------------------------------\n",
      "andyrmartin77\n",
      "2020-10-21 21:54:44\n",
      "But living and working and keeping young is mindfully beutiful!I love people that just understand that being different ages means not a lot!\n",
      "Anyway see you at the next bloody music festival that we all,regardless of age,r being denied! \n",
      "Keep young,safe,real #WorldMentalHealthDay\n",
      "----------------------------------------\n",
      "JacquiJs1\n",
      "2020-10-21 21:49:16\n",
      "Its goodnight from me 2 you. #I'mfamily . #WorldMentalHealthDay  I'm I'm good at making you feel loved &amp; happy. #loveislove https://t.co/oxWtI3ctab\n",
      "----------------------------------------\n",
      "GaryHun03474463\n",
      "2020-10-21 21:44:45\n",
      "WILL REINVIGORATE COMMUNITIES\n",
      "https://t.co/2sOUZFYFGt\n",
      "https://t.co/gvYPK5Aznl\n",
      "https://t.co/ZUEcBOCLeN\n",
      "#worldfoodday #MentalHealth  #WorldMentalHealthDay #MoveForMentalHealth #BlackHistoryMonth #HispanicHeritageMonth #christianity #christian #jesus #bible #god #faith #jesuschrist\n",
      "----------------------------------------\n",
      "boardroom\n",
      "2020-10-21 21:23:03\n",
      "For #WorldMentalHealthDay, @ROSGO21 spoke with @Talkspace co-founder Roni Frank about using tech to revolutionize the mental health industry and provide accessible therapy services for all, plus the crucial connection between physical and mental health. https://t.co/OCiEllLPqG https://t.co/1VqbBmrekC\n",
      "----------------------------------------\n",
      "RSM_au\n",
      "2020-10-21 21:15:00\n",
      "#TBT - Even though its more than a week since #WorldMentalHealthDay, we must remain proactive in promoting safe working environments for #MentalWellbeing. \n",
      "Anthony from @RSMUSLLP, uses meditation to take time for himself. #LifeatRSM https://t.co/rqp5cxvc3t\n",
      "----------------------------------------\n",
      "iseeshersalad\n",
      "2020-10-21 20:55:13\n",
      "The friends that get you through the toughest of times aren't the friends that last for ever :(\n",
      "#WorldMentalHealthDay\n",
      "----------------------------------------\n",
      "jennyverselive\n",
      "2020-10-21 20:25:46\n",
      "Donation has gone off to @mentalhealth. Thanks to all of YOU for supporting the streams and channel on #WorldMentalHealthDay https://t.co/IhuWhEkRH2\n",
      "----------------------------------------\n",
      "SpliffsofWizdom\n",
      "2020-10-21 20:10:37\n",
      "The VA always wants the world to keep Vets in their thoughts and prayers. Meanwhile the trash ass VA is the reason why sucidie is so high for vets. And they don't just battle PTSD either. #Vets #WorldMentalHealthDay #MentalHealthAwareness\n",
      "----------------------------------------\n",
      "lavenderrosebqt\n",
      "2020-10-21 20:10:32\n",
      "Don’t just take a bath.. make bath time count for your body..\n",
      "\n",
      "our bath soak are made to relieve ache and pain. Great for stress. Also help soothes skin irritation and more. \n",
      "\n",
      "#NaturalSkincare #selfcare #WorldMentalHealthDay #anxiety #massage \n",
      "https://t.co/qlymaRqKIG https://t.co/9qTWjXNzAy\n",
      "----------------------------------------\n",
      "Notayoo1\n",
      "2020-10-21 20:03:13\n",
      "For my family on twitter\n",
      "Retweet so others can see \n",
      "Stay healthy up there.....be strong\n",
      "#EndBadGovernanceinNIGERIA #WorldMentalHealthDay #NIGERIABLEEDS https://t.co/7eS1KUAlfE\n",
      "----------------------------------------\n",
      "scowright\n",
      "2020-10-21 20:00:29\n",
      "I realize that you can’t settle for something less when you know what you’ve been looking for is probably out there somewhere.. follow your gut feeling even if it means moving on.. Time is effort. #TimesNow #motivation #reachforthestars #WorldMentalHealthDay\n",
      "----------------------------------------\n",
      "visitdggsluke\n",
      "2020-10-21 19:55:04\n",
      "So I've made a TikTok account! This is an safespace where I talk about my experiences, and everything ranging from body image and anxiety to career goals and expectations all in aid of mental health awareness. Check it out! 😊 #WorldMentalHealthDay #TikTok #MentalHealthAwareness https://t.co/ixzd7AiT85\n",
      "----------------------------------------\n",
      "ElimFfsa\n",
      "2020-10-21 19:51:19\n",
      "The only thing that stands between you and your well being is the simple fact that you have allowed your thoughts and emotions to take instruction from the outside rather than the inside\n",
      "@ffsa_fac\n",
      "@Nicdam89\n",
      "#DSD\n",
      "#nicdam\n",
      "#ffsa_fac\n",
      "#SBC\n",
      "#YOLO\n",
      "#EndsSARS\n",
      "#WorldMentalHealthDay\n",
      "----------------------------------------\n",
      "TeriaJones6\n",
      "2020-10-21 19:47:29\n",
      "I feel like my parents don’t care about my mental health 🥺. #depression #WorldMentalHealthDay #ImOneHundredPercentSureThat\n",
      "----------------------------------------\n",
      "TGCCG\n",
      "2020-10-21 19:46:03\n",
      "Mask your face, not your feelings. \n",
      "\n",
      "If you are struggling to cope, @GiveUsAShout offers free, 24/7, confidential mental health support. Text SHOUT to 85258 to start a conversation with a trained volunteer.\n",
      " \n",
      "This #WorldMentalHealthDay, remember you're not alone 💙 @GiveUsAShout https://t.co/axDggLgCib\n",
      "----------------------------------------\n"
     ]
    },
    {
     "name": "stdout",
     "output_type": "stream",
     "text": [
      "TamesideCouncil\n",
      "2020-10-21 19:46:02\n",
      "Mask your face, not your feelings. \n",
      "\n",
      "If you are struggling to cope, @GiveUsAShout offers free, 24/7, confidential mental health support. Text SHOUT to 85258 to start a conversation with a trained volunteer.\n",
      " \n",
      "This #WorldMentalHealthDay, remember you're not alone 💙 @GiveUsAShout https://t.co/X6D8UFjK7s\n",
      "----------------------------------------\n",
      "CassieTheBilli1\n",
      "2020-10-21 19:45:01\n",
      "May God heal this land.I am sincerely tired.\n",
      "#peace #WorldMentalHealthDay #FAITH #5for5\n",
      "----------------------------------------\n",
      "sirtheojay\n",
      "2020-10-21 19:43:23\n",
      "Protect your mental health, if you need to stay off social media for now, please do.\n",
      "\n",
      "Nigeria will be great again and it will happen  in our lifetime.\n",
      "#Endsars \n",
      "#WorldMentalHealthDay\n",
      "----------------------------------------\n",
      "saveroftheworld\n",
      "2020-10-21 19:42:01\n",
      "@JoeBiden it´s time for #COVID19 memorial, national/international monument, one/several?, unique/different?, non-profit architectural/arts concurrence by students/artists, placed in the world? @UN #WorldMentalHealthDay\n",
      "----------------------------------------\n",
      "DarenGame\n",
      "2020-10-21 19:37:44\n",
      "So true. Well said Adrian. Under the surface there are many people struggling and not brave enough to tell everyone. #WorldMentalHealthDay #ItsOkNotToBeOk https://t.co/NKEtVs4BFh\n",
      "----------------------------------------\n",
      "JustJemms\n",
      "2020-10-21 19:35:43\n",
      "Just pre-ordered the @allontheboard book. Love all the different boards you create and how you highlight &amp; support important things such as #WorldMentalHealthDay #SuicidePrevention #endometriosis\n",
      "#childpoverty\n",
      "----------------------------------------\n",
      "MustyMte\n",
      "2020-10-21 19:34:47\n",
      "My heart is heavy!!\n",
      "My heart is broken!\n",
      "Im sinking!! \n",
      "\n",
      "But i’ll hang in here, i want you to do the same,\n",
      "\n",
      "If you’re drained please take some time off the SM, you’ve done alot!! \n",
      "\n",
      "😭\n",
      "#LekkitollgateMassacre #LekkiMassacre \n",
      "#WorldMentalHealthDay https://t.co/FEPzAl4oDg\n",
      "----------------------------------------\n",
      "invictamag\n",
      "2020-10-21 19:34:38\n",
      "The #review for @TomFBA (#foulbodyautopsy ‘s) #new #ep “Consumed By Black Thoughts” is out now!\n",
      "\n",
      "8/10 - A bold and brave take on Death Metal\n",
      "\n",
      "#invictamagazine #death #metal #deathmetal #WorldMentalHealthDay \n",
      "\n",
      "https://t.co/9uYOz7GePl\n",
      "----------------------------------------\n",
      "1Ndambp\n",
      "2020-10-21 19:34:23\n",
      "Nigeria robs you off everything.\n",
      "The will to pray, the hope to live, the life you live, everything!\n",
      "#WorldMentalHealthDay\n",
      "----------------------------------------\n",
      "NseobotAfaha\n",
      "2020-10-21 19:26:57\n",
      "A lot is going on right now, if you can't cope with the pictures and videos please it is safe to go offline for a while. Your mental health is important. This is tough on us.\n",
      "#endsars #WorldMentalHealthDay #anxiety #mentalhealth\n",
      "----------------------------------------\n",
      "CompSciLauren\n",
      "2020-10-21 19:02:56\n",
      "It may not be #WorldMentalHealthDay anymore, but of course every day is a good day to practice self care. Don't forget to be like Simon's cat! (the loving yourself bit - cat shenanigans optional) https://t.co/YgGiMUhe9J\n",
      "----------------------------------------\n",
      "EvergreenMMJ\n",
      "2020-10-21 18:51:56\n",
      "Check out #TopNotchDispensary in #Henderson for some #MMJ \n",
      ".\n",
      "For use only by adults 21 years of age or older.\n",
      "#evergreenorganix #egobrands #getbaked #feedyourego #SupportLocal #WorldMentalHealthDay #shoplocal #boostyourconfidence #boostyourego https://t.co/UT4TjzM6Co\n",
      "----------------------------------------\n",
      "CharlesMatch\n",
      "2020-10-21 18:51:42\n",
      "HOW LONG WILL YOU CONTINUE TO CRY OVER CUT SLIP?😭😰\n",
      "\n",
      "HOW LONG WILL YOU KEEP DASHING OUT YOUR HARD EARNED MONEY TO BETTING SITES?\n",
      "\n",
      "HOW LONG WILL YOU KEEP RAISING YOUR BLOOD PRESSURE OVER FOOTBALL BETS?🤒🤢🤕\n",
      "\n",
      "HOW LONG? 🤷🏾‍♂🤷🏾‍♂🤷🏾‍\n",
      "#WorldMentalHealthDay\n",
      "#Budget2021 #BoycottPPV https://t.co/GnEjceBDJo\n",
      "----------------------------------------\n",
      "EntrepreneurOrg\n",
      "2020-10-21 18:41:01\n",
      "As a business leader, how are you supporting the wellbeing of your team during the ongoing #pandemic? #mentalhealth #mentalhealthawareness #WorldMentalHealthDay https://t.co/KEOKgSbpwv\n",
      "----------------------------------------\n",
      "Sil_Kieta\n",
      "2020-10-21 18:37:56\n",
      "How do we stay healthy under pressure? Employers who can connect their people to a sense of purpose will help protect their #mentalhealth and also allow them to emerge stronger from the crisis. #WorldMentalHealthDay https://t.co/vSUcb6K5ha https://t.co/VR4DjiqPdi\n",
      "----------------------------------------\n",
      "CosmoInsNJ\n",
      "2020-10-21 18:28:32\n",
      "To help our #team #relax and #destress before our busy season, we invited a licensed PT to help us unwind and teach us breathing and #relaxation techniques. We strive to promote #employeewellness in the office adhering to the #socialdistancing guidelines. #WorldMentalHealthDay https://t.co/a0aeg8962i\n",
      "----------------------------------------\n",
      "mermaidsoulmate\n",
      "2020-10-21 18:22:14\n",
      "God never gives up on us. When you put him first great things happen. 2020 is a year full of challenges and changes positive vibes and the right attitude can change bad situations to good. Make your choices and let your voice count vote .#PositiveVibes #vote #worldmentalhealthday https://t.co/TegLIJQfTj\n",
      "----------------------------------------\n",
      "floan_so\n",
      "2020-10-21 17:55:48\n",
      "remember, it’s okay not to be okay. be there for yourself. take time to know and love yourself. we’re all in this boat of life together and you never know what someone’s been through or what’s going on in there head. just do your best to love people. #WorldMentalHealthDay\n",
      "----------------------------------------\n",
      "blacksheepcosmo\n",
      "2020-10-21 17:46:29\n",
      "I drive a 2005 Volvo S60. I make a comfortable living while working towards becoming a full time #contentcreator. How you deal with the small is a measure of how you’ll handle bigger things; a good metric to live your life. #TwitchTV #WorldMentalHealthDay https://t.co/LC63UxUjZ0\n",
      "----------------------------------------\n",
      "fax_4_teens\n",
      "2020-10-21 17:42:53\n",
      "At this point a hot shower everyday is one of the few things keeping me saine.\n",
      ".\n",
      ".\n",
      "#WorldMentalHealthDay #ThursdayThoughts #foryou #quotes #teenpost #teens #FactsMatter #Facts #girlpower #MentalHealthAwareness #Mentalhealth #JOY #challenge #lovelife\n",
      "----------------------------------------\n",
      "ava_glm\n",
      "2020-10-21 17:41:32\n",
      "I guess it's time to come out the \"mental illness closet\" and start giving testimonials, start talking about my experience.\n",
      "\n",
      "Maybe if I didn't get a chance to help my friend I can help others.\n",
      "\n",
      "#WorldMentalHealthDay #mentalhealthawareness #mentalhealth #SuicideAwareness #suicide https://t.co/2QK4QPhYk9\n",
      "----------------------------------------\n"
     ]
    }
   ],
   "source": [
    "# Note: the search API only goes back 7 days\n",
    "date_start = datetime.date.today()\n",
    "date_end = date_start - datetime.timedelta(days=2)\n",
    "\n",
    "search_words = f'#WorldMentalHealthDay since:{date_end} until:{date_start} -filter:retweets'\n",
    "\n",
    "# Notice the differences between searching tweets and users. \n",
    "for idx, item in enumerate(tweepy.Cursor(api.search,\n",
    "                   # tweet_mode is defaulted to short, which only holds the first 140 characters of a Tweet.\n",
    "                   tweet_mode='extended',\n",
    "                   q=search_words,\n",
    "                   lang='en').items()):\n",
    "    \n",
    "    # There's all sort of information you can get from Tweets\n",
    "    # Find more tweet objects here: https://developer.twitter.com/en/docs/twitter-api/v1/data-dictionary/overview/tweet-object\n",
    "    print(item.user.screen_name)\n",
    "    print(item.created_at)\n",
    "    print(item.full_text)\n",
    "    print('-'*40)\n",
    "    \n",
    "    if idx == 50:\n",
    "        break\n",
    "    "
   ]
  },
  {
   "cell_type": "markdown",
   "metadata": {},
   "source": [
    "The above code prints out:\n",
    "User Screen Name\n",
    "Date and Time Posted\n",
    "Full text of tweet\n",
    "40 dashes to separate each tweet's info"
   ]
  },
  {
   "cell_type": "markdown",
   "metadata": {},
   "source": [
    "It's also possible to use this search feature to grab the mentions of a Twitter account. Mentions are any tweet where another user's handle is included (i.e. they are mentioned in the tweet)."
   ]
  },
  {
   "cell_type": "code",
   "execution_count": 10,
   "metadata": {},
   "outputs": [],
   "source": [
    "search_words = '@GovernorBullock -filter:retweets'\n",
    "\n",
    "\n",
    "tweets_all = tweepy.Cursor(api.search,\n",
    "                   tweet_mode='extended',\n",
    "                   q=search_words,\n",
    "                   lang='en').items()\n",
    "\n",
    "# Put all the Tweet objects for a single Tweet into a tuple, and put all those into a list\n",
    "tweets = [(tweet.full_text,tweet.created_at,tweet.user.screen_name) for tweet in tweets_all]\n"
   ]
  },
  {
   "cell_type": "code",
   "execution_count": 11,
   "metadata": {
    "scrolled": true
   },
   "outputs": [
    {
     "data": {
      "text/plain": [
       "[('@DainesforMT @GovernorBullock Here’s the environmental voting record of this climate change denialist.\\nhttps://t.co/JrhGzV5l2A',\n",
       "  datetime.datetime(2020, 10, 22, 23, 23, 38),\n",
       "  'HeidiHugh8'),\n",
       " ('@DainesforMT @GovernorBullock Vote for @stevebullockmt \\nhttps://t.co/ELTmrbIMwW',\n",
       "  datetime.datetime(2020, 10, 22, 23, 22, 48),\n",
       "  'Woodysapsucker'),\n",
       " ('Yas! Come through blue wave. Let’s keep running up the votes my fellow #Americans! @JoeBiden &amp; @KamalaHarris need an undeniable LANDSLIDE ushering in new US Senators: @HarrisonJaime @AmyMcGrathKY @CaptMarkKelly @Hickenlooper @GreenfieldIowa @GaryPeters @GovernorBullock et al. —TW https://t.co/rlvUU98kL8',\n",
       "  datetime.datetime(2020, 10, 22, 23, 22, 2),\n",
       "  'WeHoTim'),\n",
       " (\"@GovernorBullock \\nIllegally declaring a state of emergency when an emergency doesn't exist. You are stealing money for this pretend emergency. Do you actually know what the definition of emergency is? I do. And this is not it!\",\n",
       "  datetime.datetime(2020, 10, 22, 23, 3, 10),\n",
       "  'Word_to_the_M'),\n",
       " ('I always have, and always will, fight to protect Montana’s public lands and stand up to radical environmentalists. I do what’s right for Montana – unlike liberal @GovernorBullock who does what’s right for the liberals in Washington! #mtsen #mtpol https://t.co/EJqRuphcmx',\n",
       "  datetime.datetime(2020, 10, 22, 23, 3),\n",
       "  'DainesforMT'),\n",
       " ('@MaritsaNBCMT @GovernorBullock Interesting. Thank you for that.',\n",
       "  datetime.datetime(2020, 10, 22, 22, 58, 53),\n",
       "  'bluesaint24'),\n",
       " (\"@GovernorBullock Do you even understand the concept of a virus? Because obviously Mr Felton doesn't I'm not even sure how he became a health director of riverstone period there is no getting rid of this virus just as I'm sure you have no intentions of telling people to take the mask off ever.....\",\n",
       "  datetime.datetime(2020, 10, 22, 22, 57, 58),\n",
       "  'Word_to_the_M'),\n",
       " ('@GovernorBullock \\nYou have overstepped your limited authority and and disrespected Montana Citizens. \\nNullification is in order! Impeachment is necessary!',\n",
       "  datetime.datetime(2020, 10, 22, 22, 56, 17),\n",
       "  'Word_to_the_M'),\n",
       " ('@MaritsaNBCMT @GovernorBullock THANK YOU @GovernorBullock  from a very concerned Flathead valley resident &amp; healthcare worker. THANK YOU THANK YOU. ❤️',\n",
       "  datetime.datetime(2020, 10, 22, 22, 55, 56),\n",
       "  'Hellsworth19'),\n",
       " (\"@GovernorBullock \\nIt's time your impeached! You haven't honored your oath you took to the US Constitution and Montana Constitution!\",\n",
       "  datetime.datetime(2020, 10, 22, 22, 54, 6),\n",
       "  'Word_to_the_M')]"
      ]
     },
     "execution_count": 11,
     "metadata": {},
     "output_type": "execute_result"
    }
   ],
   "source": [
    "tweets[:10]"
   ]
  },
  {
   "cell_type": "markdown",
   "metadata": {},
   "source": [
    "The above code resulted in a list of ten 'mention' tweets where where @GovernorBullock was tagged at least once, and oftentimes there was more than one mention in the tweet addressing numerous accounts."
   ]
  },
  {
   "cell_type": "markdown",
   "metadata": {},
   "source": [
    "For the assignment, I will be pulling twitter data from the Badgers and the Gophers (Go Badgers!)."
   ]
  },
  {
   "cell_type": "code",
   "execution_count": 5,
   "metadata": {},
   "outputs": [],
   "source": [
    "##Creating a dictionary that contains a list for each team's twitter\n",
    "id_dict = {'BadgersFootball' : [],\n",
    "           'GopherFootball' : []}"
   ]
  },
  {
   "cell_type": "code",
   "execution_count": null,
   "metadata": {},
   "outputs": [],
   "source": [
    "for handle in id_dict.keys():\n",
    "    \n",
    "    # Each page contains 5,000 records, so since we know there are much more than 5,000 followers for both\n",
    "    \n",
    "    # To grab the follower IDs, we will be using followers_ids\n",
    "    for page in tweepy.Cursor(api.followers_ids,\n",
    "                              # This is how we will get around the issue of not being able to grab all ids at once\n",
    "                              # Once the rate limit is hit, we will be notified that we must wait 15 mins (900 secs)\n",
    "                              wait_on_rate_limit=True, wait_on_rate_limit_notify=True, compression=True,\n",
    "                              screen_name=handle).pages():\n",
    "\n",
    "        # The page variable comes back as a list, so we have to use .extend rather than .append\n",
    "        id_dict[handle].extend(page)"
   ]
  },
  {
   "cell_type": "code",
   "execution_count": null,
   "metadata": {},
   "outputs": [],
   "source": [
    "headers = ['screen_name','name', 'id', 'location', 'followers_count', 'friends_count', 'description']\n",
    "\n",
    "for team in id_dict.keys():\n",
    "    \n",
    "    # Descriptions with emoji or non-Roman letters can cause trouble. Encoding your .txt file in utf-8 will help\n",
    "    with open(f'{team}_followers.txt','w', encoding='utf-8') as out_file:\n",
    "        out_file.write('\\t'.join(headers) + '\\n')\n",
    "\n",
    "        for idx, ids in enumerate(id_dict[team]):\n",
    "            \n",
    "            # For accounts set to private, we won't be able to get the description unless we follow them\n",
    "            # Putting in a try/except statement, we can get around this issue.\n",
    "            try:\n",
    "                user = api.get_user(ids)\n",
    "                description = str(user.description).replace('\\t',' ').replace('\\n',' ')\n",
    "                outline = [user.screen_name, user.name, user.id, user.location, user.followers_count, user.friends_count, user.description]\n",
    "                \n",
    "                out_file.write('\\t'.join([str(item) for item in outline]) + '\\n')\n",
    "                \n",
    "            except:\n",
    "                continue\n",
    "                \n",
    "            if idx == 100000:\n",
    "                break\n",
    "            "
   ]
  },
  {
   "cell_type": "code",
   "execution_count": null,
   "metadata": {},
   "outputs": [],
   "source": []
  },
  {
   "cell_type": "code",
   "execution_count": null,
   "metadata": {},
   "outputs": [],
   "source": [
    " \n",
    "        "
   ]
  }
 ],
 "metadata": {
  "kernelspec": {
   "display_name": "Python 3",
   "language": "python",
   "name": "python3"
  },
  "language_info": {
   "codemirror_mode": {
    "name": "ipython",
    "version": 3
   },
   "file_extension": ".py",
   "mimetype": "text/x-python",
   "name": "python",
   "nbconvert_exporter": "python",
   "pygments_lexer": "ipython3",
   "version": "3.7.6"
  }
 },
 "nbformat": 4,
 "nbformat_minor": 2
}
